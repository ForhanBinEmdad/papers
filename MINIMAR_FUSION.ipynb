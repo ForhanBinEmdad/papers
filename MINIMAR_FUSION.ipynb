{
  "nbformat": 4,
  "nbformat_minor": 0,
  "metadata": {
    "colab": {
      "name": "MINIMAR_FUSION.ipynb",
      "provenance": []
    },
    "kernelspec": {
      "name": "python3",
      "display_name": "Python 3"
    },
    "language_info": {
      "name": "python"
    }
  },
  "cells": [
    {
      "cell_type": "markdown",
      "source": [
        "**Importing Libraries**"
      ],
      "metadata": {
        "id": "ooWSVPh7JocX"
      }
    },
    {
      "cell_type": "code",
      "execution_count": null,
      "metadata": {
        "id": "_pmApxEalusA"
      },
      "outputs": [],
      "source": [
        "import numpy as np\n",
        "import pandas as pd"
      ]
    },
    {
      "cell_type": "code",
      "source": [
        "import matplotlib.pyplot as plt\n",
        "import seaborn as sns"
      ],
      "metadata": {
        "id": "x3WL_qv6iZne"
      },
      "execution_count": null,
      "outputs": []
    },
    {
      "cell_type": "markdown",
      "source": [
        "**Preprocessing Temporal Vital Data**"
      ],
      "metadata": {
        "id": "TOh6PwAOJz5V"
      }
    },
    {
      "cell_type": "code",
      "source": [
        "# Read CSV file\n",
        "vitals = pd.read_csv('v.csv')"
      ],
      "metadata": {
        "id": "nY2feLUw1ObF"
      },
      "execution_count": null,
      "outputs": []
    },
    {
      "cell_type": "code",
      "source": [
        "vitals.head()"
      ],
      "metadata": {
        "colab": {
          "base_uri": "https://localhost:8080/",
          "height": 250
        },
        "id": "Oz8DIwzJ138W",
        "outputId": "c475d558-9cf2-4d66-9b44-2df4476faac1"
      },
      "execution_count": null,
      "outputs": [
        {
          "output_type": "execute_result",
          "data": {
            "text/plain": [
              "   icustay_id  hr  heartrate  sysbp  diasbp  meanbp  resprate   spo2  \\\n",
              "0      200613   1       81.0  135.0    70.0    88.0      20.0  100.0   \n",
              "1      200613   2       82.0  155.0    70.0    90.0      20.0  100.0   \n",
              "2      200613   3       90.0  155.0    60.0    83.0      19.0  100.0   \n",
              "3      200613   4       85.0  166.0    62.0    89.0      20.0  100.0   \n",
              "4      200613   5       87.0  170.0    64.0    90.0      20.0  100.0   \n",
              "\n",
              "   urineoutput  \n",
              "0          NaN  \n",
              "1          NaN  \n",
              "2        200.0  \n",
              "3        100.0  \n",
              "4          NaN  "
            ],
            "text/html": [
              "\n",
              "  <div id=\"df-64c1cc9c-e5a1-4f5d-bef3-f098668072eb\">\n",
              "    <div class=\"colab-df-container\">\n",
              "      <div>\n",
              "<style scoped>\n",
              "    .dataframe tbody tr th:only-of-type {\n",
              "        vertical-align: middle;\n",
              "    }\n",
              "\n",
              "    .dataframe tbody tr th {\n",
              "        vertical-align: top;\n",
              "    }\n",
              "\n",
              "    .dataframe thead th {\n",
              "        text-align: right;\n",
              "    }\n",
              "</style>\n",
              "<table border=\"1\" class=\"dataframe\">\n",
              "  <thead>\n",
              "    <tr style=\"text-align: right;\">\n",
              "      <th></th>\n",
              "      <th>icustay_id</th>\n",
              "      <th>hr</th>\n",
              "      <th>heartrate</th>\n",
              "      <th>sysbp</th>\n",
              "      <th>diasbp</th>\n",
              "      <th>meanbp</th>\n",
              "      <th>resprate</th>\n",
              "      <th>spo2</th>\n",
              "      <th>urineoutput</th>\n",
              "    </tr>\n",
              "  </thead>\n",
              "  <tbody>\n",
              "    <tr>\n",
              "      <th>0</th>\n",
              "      <td>200613</td>\n",
              "      <td>1</td>\n",
              "      <td>81.0</td>\n",
              "      <td>135.0</td>\n",
              "      <td>70.0</td>\n",
              "      <td>88.0</td>\n",
              "      <td>20.0</td>\n",
              "      <td>100.0</td>\n",
              "      <td>NaN</td>\n",
              "    </tr>\n",
              "    <tr>\n",
              "      <th>1</th>\n",
              "      <td>200613</td>\n",
              "      <td>2</td>\n",
              "      <td>82.0</td>\n",
              "      <td>155.0</td>\n",
              "      <td>70.0</td>\n",
              "      <td>90.0</td>\n",
              "      <td>20.0</td>\n",
              "      <td>100.0</td>\n",
              "      <td>NaN</td>\n",
              "    </tr>\n",
              "    <tr>\n",
              "      <th>2</th>\n",
              "      <td>200613</td>\n",
              "      <td>3</td>\n",
              "      <td>90.0</td>\n",
              "      <td>155.0</td>\n",
              "      <td>60.0</td>\n",
              "      <td>83.0</td>\n",
              "      <td>19.0</td>\n",
              "      <td>100.0</td>\n",
              "      <td>200.0</td>\n",
              "    </tr>\n",
              "    <tr>\n",
              "      <th>3</th>\n",
              "      <td>200613</td>\n",
              "      <td>4</td>\n",
              "      <td>85.0</td>\n",
              "      <td>166.0</td>\n",
              "      <td>62.0</td>\n",
              "      <td>89.0</td>\n",
              "      <td>20.0</td>\n",
              "      <td>100.0</td>\n",
              "      <td>100.0</td>\n",
              "    </tr>\n",
              "    <tr>\n",
              "      <th>4</th>\n",
              "      <td>200613</td>\n",
              "      <td>5</td>\n",
              "      <td>87.0</td>\n",
              "      <td>170.0</td>\n",
              "      <td>64.0</td>\n",
              "      <td>90.0</td>\n",
              "      <td>20.0</td>\n",
              "      <td>100.0</td>\n",
              "      <td>NaN</td>\n",
              "    </tr>\n",
              "  </tbody>\n",
              "</table>\n",
              "</div>\n",
              "      <button class=\"colab-df-convert\" onclick=\"convertToInteractive('df-64c1cc9c-e5a1-4f5d-bef3-f098668072eb')\"\n",
              "              title=\"Convert this dataframe to an interactive table.\"\n",
              "              style=\"display:none;\">\n",
              "        \n",
              "  <svg xmlns=\"http://www.w3.org/2000/svg\" height=\"24px\"viewBox=\"0 0 24 24\"\n",
              "       width=\"24px\">\n",
              "    <path d=\"M0 0h24v24H0V0z\" fill=\"none\"/>\n",
              "    <path d=\"M18.56 5.44l.94 2.06.94-2.06 2.06-.94-2.06-.94-.94-2.06-.94 2.06-2.06.94zm-11 1L8.5 8.5l.94-2.06 2.06-.94-2.06-.94L8.5 2.5l-.94 2.06-2.06.94zm10 10l.94 2.06.94-2.06 2.06-.94-2.06-.94-.94-2.06-.94 2.06-2.06.94z\"/><path d=\"M17.41 7.96l-1.37-1.37c-.4-.4-.92-.59-1.43-.59-.52 0-1.04.2-1.43.59L10.3 9.45l-7.72 7.72c-.78.78-.78 2.05 0 2.83L4 21.41c.39.39.9.59 1.41.59.51 0 1.02-.2 1.41-.59l7.78-7.78 2.81-2.81c.8-.78.8-2.07 0-2.86zM5.41 20L4 18.59l7.72-7.72 1.47 1.35L5.41 20z\"/>\n",
              "  </svg>\n",
              "      </button>\n",
              "      \n",
              "  <style>\n",
              "    .colab-df-container {\n",
              "      display:flex;\n",
              "      flex-wrap:wrap;\n",
              "      gap: 12px;\n",
              "    }\n",
              "\n",
              "    .colab-df-convert {\n",
              "      background-color: #E8F0FE;\n",
              "      border: none;\n",
              "      border-radius: 50%;\n",
              "      cursor: pointer;\n",
              "      display: none;\n",
              "      fill: #1967D2;\n",
              "      height: 32px;\n",
              "      padding: 0 0 0 0;\n",
              "      width: 32px;\n",
              "    }\n",
              "\n",
              "    .colab-df-convert:hover {\n",
              "      background-color: #E2EBFA;\n",
              "      box-shadow: 0px 1px 2px rgba(60, 64, 67, 0.3), 0px 1px 3px 1px rgba(60, 64, 67, 0.15);\n",
              "      fill: #174EA6;\n",
              "    }\n",
              "\n",
              "    [theme=dark] .colab-df-convert {\n",
              "      background-color: #3B4455;\n",
              "      fill: #D2E3FC;\n",
              "    }\n",
              "\n",
              "    [theme=dark] .colab-df-convert:hover {\n",
              "      background-color: #434B5C;\n",
              "      box-shadow: 0px 1px 3px 1px rgba(0, 0, 0, 0.15);\n",
              "      filter: drop-shadow(0px 1px 2px rgba(0, 0, 0, 0.3));\n",
              "      fill: #FFFFFF;\n",
              "    }\n",
              "  </style>\n",
              "\n",
              "      <script>\n",
              "        const buttonEl =\n",
              "          document.querySelector('#df-64c1cc9c-e5a1-4f5d-bef3-f098668072eb button.colab-df-convert');\n",
              "        buttonEl.style.display =\n",
              "          google.colab.kernel.accessAllowed ? 'block' : 'none';\n",
              "\n",
              "        async function convertToInteractive(key) {\n",
              "          const element = document.querySelector('#df-64c1cc9c-e5a1-4f5d-bef3-f098668072eb');\n",
              "          const dataTable =\n",
              "            await google.colab.kernel.invokeFunction('convertToInteractive',\n",
              "                                                     [key], {});\n",
              "          if (!dataTable) return;\n",
              "\n",
              "          const docLinkHtml = 'Like what you see? Visit the ' +\n",
              "            '<a target=\"_blank\" href=https://colab.research.google.com/notebooks/data_table.ipynb>data table notebook</a>'\n",
              "            + ' to learn more about interactive tables.';\n",
              "          element.innerHTML = '';\n",
              "          dataTable['output_type'] = 'display_data';\n",
              "          await google.colab.output.renderOutput(dataTable, element);\n",
              "          const docLink = document.createElement('div');\n",
              "          docLink.innerHTML = docLinkHtml;\n",
              "          element.appendChild(docLink);\n",
              "        }\n",
              "      </script>\n",
              "    </div>\n",
              "  </div>\n",
              "  "
            ]
          },
          "metadata": {},
          "execution_count": 4
        }
      ]
    },
    {
      "cell_type": "code",
      "source": [
        "vitals.describe()"
      ],
      "metadata": {
        "colab": {
          "base_uri": "https://localhost:8080/",
          "height": 364
        },
        "id": "uA2e4ecnXOY2",
        "outputId": "90db881d-5a29-4b1a-e0a0-14fc461e6040"
      },
      "execution_count": null,
      "outputs": [
        {
          "output_type": "execute_result",
          "data": {
            "text/plain": [
              "          icustay_id            hr     heartrate         sysbp        diasbp  \\\n",
              "count   18168.000000  18168.000000  16948.000000  16341.000000  16337.000000   \n",
              "mean   271217.737120     12.500000     81.607238    129.616252     63.076479   \n",
              "std     27260.449243      6.922377     17.018279     21.296798     13.841087   \n",
              "min    200613.000000      1.000000     37.000000     49.000000     10.000000   \n",
              "25%    260773.000000      6.750000     69.000000    115.000000     54.000000   \n",
              "50%    280815.000000     12.500000     80.000000    129.000000     62.000000   \n",
              "75%    290512.000000     18.250000     92.000000    144.000000     71.000000   \n",
              "max    299973.000000     24.000000    163.750000    251.000000    174.000000   \n",
              "\n",
              "             meanbp      resprate          spo2   urineoutput  \n",
              "count  16406.000000  16709.000000  16589.000000  12374.000000  \n",
              "mean      83.408274     18.621723     97.708168    137.783417  \n",
              "std       15.274717      4.981361      3.310994    190.225339  \n",
              "min        7.000000      1.000000     14.000000  -3250.000000  \n",
              "25%       73.000000     15.000000     97.000000     45.000000  \n",
              "50%       82.666702     18.000000     98.500000     90.000000  \n",
              "75%       92.000000     21.000000    100.000000    160.000000  \n",
              "max      293.000000     65.000000    100.000000   7300.000000  "
            ],
            "text/html": [
              "\n",
              "  <div id=\"df-14c49eca-3a64-4be7-bdeb-8655c0463821\">\n",
              "    <div class=\"colab-df-container\">\n",
              "      <div>\n",
              "<style scoped>\n",
              "    .dataframe tbody tr th:only-of-type {\n",
              "        vertical-align: middle;\n",
              "    }\n",
              "\n",
              "    .dataframe tbody tr th {\n",
              "        vertical-align: top;\n",
              "    }\n",
              "\n",
              "    .dataframe thead th {\n",
              "        text-align: right;\n",
              "    }\n",
              "</style>\n",
              "<table border=\"1\" class=\"dataframe\">\n",
              "  <thead>\n",
              "    <tr style=\"text-align: right;\">\n",
              "      <th></th>\n",
              "      <th>icustay_id</th>\n",
              "      <th>hr</th>\n",
              "      <th>heartrate</th>\n",
              "      <th>sysbp</th>\n",
              "      <th>diasbp</th>\n",
              "      <th>meanbp</th>\n",
              "      <th>resprate</th>\n",
              "      <th>spo2</th>\n",
              "      <th>urineoutput</th>\n",
              "    </tr>\n",
              "  </thead>\n",
              "  <tbody>\n",
              "    <tr>\n",
              "      <th>count</th>\n",
              "      <td>18168.000000</td>\n",
              "      <td>18168.000000</td>\n",
              "      <td>16948.000000</td>\n",
              "      <td>16341.000000</td>\n",
              "      <td>16337.000000</td>\n",
              "      <td>16406.000000</td>\n",
              "      <td>16709.000000</td>\n",
              "      <td>16589.000000</td>\n",
              "      <td>12374.000000</td>\n",
              "    </tr>\n",
              "    <tr>\n",
              "      <th>mean</th>\n",
              "      <td>271217.737120</td>\n",
              "      <td>12.500000</td>\n",
              "      <td>81.607238</td>\n",
              "      <td>129.616252</td>\n",
              "      <td>63.076479</td>\n",
              "      <td>83.408274</td>\n",
              "      <td>18.621723</td>\n",
              "      <td>97.708168</td>\n",
              "      <td>137.783417</td>\n",
              "    </tr>\n",
              "    <tr>\n",
              "      <th>std</th>\n",
              "      <td>27260.449243</td>\n",
              "      <td>6.922377</td>\n",
              "      <td>17.018279</td>\n",
              "      <td>21.296798</td>\n",
              "      <td>13.841087</td>\n",
              "      <td>15.274717</td>\n",
              "      <td>4.981361</td>\n",
              "      <td>3.310994</td>\n",
              "      <td>190.225339</td>\n",
              "    </tr>\n",
              "    <tr>\n",
              "      <th>min</th>\n",
              "      <td>200613.000000</td>\n",
              "      <td>1.000000</td>\n",
              "      <td>37.000000</td>\n",
              "      <td>49.000000</td>\n",
              "      <td>10.000000</td>\n",
              "      <td>7.000000</td>\n",
              "      <td>1.000000</td>\n",
              "      <td>14.000000</td>\n",
              "      <td>-3250.000000</td>\n",
              "    </tr>\n",
              "    <tr>\n",
              "      <th>25%</th>\n",
              "      <td>260773.000000</td>\n",
              "      <td>6.750000</td>\n",
              "      <td>69.000000</td>\n",
              "      <td>115.000000</td>\n",
              "      <td>54.000000</td>\n",
              "      <td>73.000000</td>\n",
              "      <td>15.000000</td>\n",
              "      <td>97.000000</td>\n",
              "      <td>45.000000</td>\n",
              "    </tr>\n",
              "    <tr>\n",
              "      <th>50%</th>\n",
              "      <td>280815.000000</td>\n",
              "      <td>12.500000</td>\n",
              "      <td>80.000000</td>\n",
              "      <td>129.000000</td>\n",
              "      <td>62.000000</td>\n",
              "      <td>82.666702</td>\n",
              "      <td>18.000000</td>\n",
              "      <td>98.500000</td>\n",
              "      <td>90.000000</td>\n",
              "    </tr>\n",
              "    <tr>\n",
              "      <th>75%</th>\n",
              "      <td>290512.000000</td>\n",
              "      <td>18.250000</td>\n",
              "      <td>92.000000</td>\n",
              "      <td>144.000000</td>\n",
              "      <td>71.000000</td>\n",
              "      <td>92.000000</td>\n",
              "      <td>21.000000</td>\n",
              "      <td>100.000000</td>\n",
              "      <td>160.000000</td>\n",
              "    </tr>\n",
              "    <tr>\n",
              "      <th>max</th>\n",
              "      <td>299973.000000</td>\n",
              "      <td>24.000000</td>\n",
              "      <td>163.750000</td>\n",
              "      <td>251.000000</td>\n",
              "      <td>174.000000</td>\n",
              "      <td>293.000000</td>\n",
              "      <td>65.000000</td>\n",
              "      <td>100.000000</td>\n",
              "      <td>7300.000000</td>\n",
              "    </tr>\n",
              "  </tbody>\n",
              "</table>\n",
              "</div>\n",
              "      <button class=\"colab-df-convert\" onclick=\"convertToInteractive('df-14c49eca-3a64-4be7-bdeb-8655c0463821')\"\n",
              "              title=\"Convert this dataframe to an interactive table.\"\n",
              "              style=\"display:none;\">\n",
              "        \n",
              "  <svg xmlns=\"http://www.w3.org/2000/svg\" height=\"24px\"viewBox=\"0 0 24 24\"\n",
              "       width=\"24px\">\n",
              "    <path d=\"M0 0h24v24H0V0z\" fill=\"none\"/>\n",
              "    <path d=\"M18.56 5.44l.94 2.06.94-2.06 2.06-.94-2.06-.94-.94-2.06-.94 2.06-2.06.94zm-11 1L8.5 8.5l.94-2.06 2.06-.94-2.06-.94L8.5 2.5l-.94 2.06-2.06.94zm10 10l.94 2.06.94-2.06 2.06-.94-2.06-.94-.94-2.06-.94 2.06-2.06.94z\"/><path d=\"M17.41 7.96l-1.37-1.37c-.4-.4-.92-.59-1.43-.59-.52 0-1.04.2-1.43.59L10.3 9.45l-7.72 7.72c-.78.78-.78 2.05 0 2.83L4 21.41c.39.39.9.59 1.41.59.51 0 1.02-.2 1.41-.59l7.78-7.78 2.81-2.81c.8-.78.8-2.07 0-2.86zM5.41 20L4 18.59l7.72-7.72 1.47 1.35L5.41 20z\"/>\n",
              "  </svg>\n",
              "      </button>\n",
              "      \n",
              "  <style>\n",
              "    .colab-df-container {\n",
              "      display:flex;\n",
              "      flex-wrap:wrap;\n",
              "      gap: 12px;\n",
              "    }\n",
              "\n",
              "    .colab-df-convert {\n",
              "      background-color: #E8F0FE;\n",
              "      border: none;\n",
              "      border-radius: 50%;\n",
              "      cursor: pointer;\n",
              "      display: none;\n",
              "      fill: #1967D2;\n",
              "      height: 32px;\n",
              "      padding: 0 0 0 0;\n",
              "      width: 32px;\n",
              "    }\n",
              "\n",
              "    .colab-df-convert:hover {\n",
              "      background-color: #E2EBFA;\n",
              "      box-shadow: 0px 1px 2px rgba(60, 64, 67, 0.3), 0px 1px 3px 1px rgba(60, 64, 67, 0.15);\n",
              "      fill: #174EA6;\n",
              "    }\n",
              "\n",
              "    [theme=dark] .colab-df-convert {\n",
              "      background-color: #3B4455;\n",
              "      fill: #D2E3FC;\n",
              "    }\n",
              "\n",
              "    [theme=dark] .colab-df-convert:hover {\n",
              "      background-color: #434B5C;\n",
              "      box-shadow: 0px 1px 3px 1px rgba(0, 0, 0, 0.15);\n",
              "      filter: drop-shadow(0px 1px 2px rgba(0, 0, 0, 0.3));\n",
              "      fill: #FFFFFF;\n",
              "    }\n",
              "  </style>\n",
              "\n",
              "      <script>\n",
              "        const buttonEl =\n",
              "          document.querySelector('#df-14c49eca-3a64-4be7-bdeb-8655c0463821 button.colab-df-convert');\n",
              "        buttonEl.style.display =\n",
              "          google.colab.kernel.accessAllowed ? 'block' : 'none';\n",
              "\n",
              "        async function convertToInteractive(key) {\n",
              "          const element = document.querySelector('#df-14c49eca-3a64-4be7-bdeb-8655c0463821');\n",
              "          const dataTable =\n",
              "            await google.colab.kernel.invokeFunction('convertToInteractive',\n",
              "                                                     [key], {});\n",
              "          if (!dataTable) return;\n",
              "\n",
              "          const docLinkHtml = 'Like what you see? Visit the ' +\n",
              "            '<a target=\"_blank\" href=https://colab.research.google.com/notebooks/data_table.ipynb>data table notebook</a>'\n",
              "            + ' to learn more about interactive tables.';\n",
              "          element.innerHTML = '';\n",
              "          dataTable['output_type'] = 'display_data';\n",
              "          await google.colab.output.renderOutput(dataTable, element);\n",
              "          const docLink = document.createElement('div');\n",
              "          docLink.innerHTML = docLinkHtml;\n",
              "          element.appendChild(docLink);\n",
              "        }\n",
              "      </script>\n",
              "    </div>\n",
              "  </div>\n",
              "  "
            ]
          },
          "metadata": {},
          "execution_count": 5
        }
      ]
    },
    {
      "cell_type": "code",
      "source": [
        "vitals.shape"
      ],
      "metadata": {
        "colab": {
          "base_uri": "https://localhost:8080/"
        },
        "id": "r3za-KNFVf-k",
        "outputId": "62ec45e5-8634-4b2e-c4b6-a9eb4ca0026f"
      },
      "execution_count": null,
      "outputs": [
        {
          "output_type": "execute_result",
          "data": {
            "text/plain": [
              "(18168, 9)"
            ]
          },
          "metadata": {},
          "execution_count": 6
        }
      ]
    },
    {
      "cell_type": "markdown",
      "source": [
        "**Imputation with MICE**"
      ],
      "metadata": {
        "id": "TEOht-VnzWot"
      }
    },
    {
      "cell_type": "code",
      "source": [
        "!pip install fancyimpute"
      ],
      "metadata": {
        "colab": {
          "base_uri": "https://localhost:8080/"
        },
        "id": "mCzsJE47vk-8",
        "outputId": "cdfceafa-7ec5-4803-cab9-e3989c71b6ac"
      },
      "execution_count": null,
      "outputs": [
        {
          "output_type": "stream",
          "name": "stdout",
          "text": [
            "Looking in indexes: https://pypi.org/simple, https://us-python.pkg.dev/colab-wheels/public/simple/\n",
            "Collecting fancyimpute\n",
            "  Downloading fancyimpute-0.7.0.tar.gz (25 kB)\n",
            "Collecting knnimpute>=0.1.0\n",
            "  Downloading knnimpute-0.1.0.tar.gz (8.3 kB)\n",
            "Requirement already satisfied: scikit-learn>=0.24.2 in /usr/local/lib/python3.7/dist-packages (from fancyimpute) (1.0.2)\n",
            "Requirement already satisfied: cvxpy in /usr/local/lib/python3.7/dist-packages (from fancyimpute) (1.0.31)\n",
            "Requirement already satisfied: cvxopt in /usr/local/lib/python3.7/dist-packages (from fancyimpute) (1.2.7)\n",
            "Requirement already satisfied: pytest in /usr/local/lib/python3.7/dist-packages (from fancyimpute) (3.6.4)\n",
            "Collecting nose\n",
            "  Downloading nose-1.3.7-py3-none-any.whl (154 kB)\n",
            "\u001b[K     |████████████████████████████████| 154 kB 48.4 MB/s \n",
            "\u001b[?25hRequirement already satisfied: six in /usr/local/lib/python3.7/dist-packages (from knnimpute>=0.1.0->fancyimpute) (1.15.0)\n",
            "Requirement already satisfied: numpy>=1.10 in /usr/local/lib/python3.7/dist-packages (from knnimpute>=0.1.0->fancyimpute) (1.21.6)\n",
            "Requirement already satisfied: scipy>=1.1.0 in /usr/local/lib/python3.7/dist-packages (from scikit-learn>=0.24.2->fancyimpute) (1.7.3)\n",
            "Requirement already satisfied: threadpoolctl>=2.0.0 in /usr/local/lib/python3.7/dist-packages (from scikit-learn>=0.24.2->fancyimpute) (3.1.0)\n",
            "Requirement already satisfied: joblib>=0.11 in /usr/local/lib/python3.7/dist-packages (from scikit-learn>=0.24.2->fancyimpute) (1.1.0)\n",
            "Requirement already satisfied: ecos>=2 in /usr/local/lib/python3.7/dist-packages (from cvxpy->fancyimpute) (2.0.10)\n",
            "Requirement already satisfied: scs>=1.1.3 in /usr/local/lib/python3.7/dist-packages (from cvxpy->fancyimpute) (3.2.0)\n",
            "Requirement already satisfied: osqp>=0.4.1 in /usr/local/lib/python3.7/dist-packages (from cvxpy->fancyimpute) (0.6.2.post0)\n",
            "Requirement already satisfied: multiprocess in /usr/local/lib/python3.7/dist-packages (from cvxpy->fancyimpute) (0.70.13)\n",
            "Requirement already satisfied: qdldl in /usr/local/lib/python3.7/dist-packages (from osqp>=0.4.1->cvxpy->fancyimpute) (0.1.5.post2)\n",
            "Requirement already satisfied: dill>=0.3.5.1 in /usr/local/lib/python3.7/dist-packages (from multiprocess->cvxpy->fancyimpute) (0.3.5.1)\n",
            "Requirement already satisfied: more-itertools>=4.0.0 in /usr/local/lib/python3.7/dist-packages (from pytest->fancyimpute) (8.13.0)\n",
            "Requirement already satisfied: py>=1.5.0 in /usr/local/lib/python3.7/dist-packages (from pytest->fancyimpute) (1.11.0)\n",
            "Requirement already satisfied: setuptools in /usr/local/lib/python3.7/dist-packages (from pytest->fancyimpute) (57.4.0)\n",
            "Requirement already satisfied: attrs>=17.4.0 in /usr/local/lib/python3.7/dist-packages (from pytest->fancyimpute) (21.4.0)\n",
            "Requirement already satisfied: pluggy<0.8,>=0.5 in /usr/local/lib/python3.7/dist-packages (from pytest->fancyimpute) (0.7.1)\n",
            "Requirement already satisfied: atomicwrites>=1.0 in /usr/local/lib/python3.7/dist-packages (from pytest->fancyimpute) (1.4.1)\n",
            "Building wheels for collected packages: fancyimpute, knnimpute\n",
            "  Building wheel for fancyimpute (setup.py) ... \u001b[?25l\u001b[?25hdone\n",
            "  Created wheel for fancyimpute: filename=fancyimpute-0.7.0-py3-none-any.whl size=29899 sha256=cb40d02b0c769105a1a356d46bf651937dd492d44ea9dd15e50c3891459d67f1\n",
            "  Stored in directory: /root/.cache/pip/wheels/e3/04/06/a1a7d89ef4e631ce6268ea2d8cde04f7290651c1ff1025ce68\n",
            "  Building wheel for knnimpute (setup.py) ... \u001b[?25l\u001b[?25hdone\n",
            "  Created wheel for knnimpute: filename=knnimpute-0.1.0-py3-none-any.whl size=11353 sha256=aa06840383e061da654c1fb141d4ea79eb2ec0713d24cb7ecbae847f26fbb46e\n",
            "  Stored in directory: /root/.cache/pip/wheels/72/21/a8/a045cacd9838abd5643f6bfa852c0796a99d6b1494760494e0\n",
            "Successfully built fancyimpute knnimpute\n",
            "Installing collected packages: nose, knnimpute, fancyimpute\n",
            "Successfully installed fancyimpute-0.7.0 knnimpute-0.1.0 nose-1.3.7\n"
          ]
        }
      ]
    },
    {
      "cell_type": "code",
      "source": [
        "!pip install MICE"
      ],
      "metadata": {
        "colab": {
          "base_uri": "https://localhost:8080/"
        },
        "id": "nsU2OwVovvUU",
        "outputId": "40280c5a-e194-445b-8bc8-a27b11c8ff8a"
      },
      "execution_count": null,
      "outputs": [
        {
          "output_type": "stream",
          "name": "stdout",
          "text": [
            "Looking in indexes: https://pypi.org/simple, https://us-python.pkg.dev/colab-wheels/public/simple/\n",
            "Collecting MICE\n",
            "  Downloading mice-0.1.26-py3-none-any.whl (25 kB)\n",
            "Requirement already satisfied: numpy>=1.19 in /usr/local/lib/python3.7/dist-packages (from MICE) (1.21.6)\n",
            "Requirement already satisfied: pandas>=1.1 in /usr/local/lib/python3.7/dist-packages (from MICE) (1.3.5)\n",
            "Requirement already satisfied: matplotlib>=3.2.0 in /usr/local/lib/python3.7/dist-packages (from MICE) (3.2.2)\n",
            "  Downloading mice-0.1.25-py3-none-any.whl (25 kB)\n",
            "  Downloading mice-0.1.24-py3-none-any.whl (24 kB)\n",
            "Requirement already satisfied: kiwisolver>=1.0.1 in /usr/local/lib/python3.7/dist-packages (from matplotlib>=3.2.0->MICE) (1.4.4)\n",
            "Requirement already satisfied: pyparsing!=2.0.4,!=2.1.2,!=2.1.6,>=2.0.1 in /usr/local/lib/python3.7/dist-packages (from matplotlib>=3.2.0->MICE) (3.0.9)\n",
            "Requirement already satisfied: cycler>=0.10 in /usr/local/lib/python3.7/dist-packages (from matplotlib>=3.2.0->MICE) (0.11.0)\n",
            "Requirement already satisfied: python-dateutil>=2.1 in /usr/local/lib/python3.7/dist-packages (from matplotlib>=3.2.0->MICE) (2.8.2)\n",
            "Requirement already satisfied: typing-extensions in /usr/local/lib/python3.7/dist-packages (from kiwisolver>=1.0.1->matplotlib>=3.2.0->MICE) (4.1.1)\n",
            "Requirement already satisfied: pytz>=2017.3 in /usr/local/lib/python3.7/dist-packages (from pandas>=1.1->MICE) (2022.1)\n",
            "Requirement already satisfied: six>=1.5 in /usr/local/lib/python3.7/dist-packages (from python-dateutil>=2.1->matplotlib>=3.2.0->MICE) (1.15.0)\n",
            "Installing collected packages: MICE\n",
            "Successfully installed MICE-0.1.24\n"
          ]
        }
      ]
    },
    {
      "cell_type": "code",
      "source": [
        "from fancyimpute import IterativeImputer as MICE"
      ],
      "metadata": {
        "id": "9stemZOKvxZG"
      },
      "execution_count": null,
      "outputs": []
    },
    {
      "cell_type": "code",
      "source": [
        "vitals[['heartrate','sysbp',\t'diasbp', 'meanbp',\t'resprate','spo2','urineoutput']] = MICE().fit_transform(vitals[['heartrate','sysbp',\t'diasbp', 'meanbp',\t'resprate','spo2','urineoutput']])"
      ],
      "metadata": {
        "id": "KOeWjI47v4tL"
      },
      "execution_count": null,
      "outputs": []
    },
    {
      "cell_type": "code",
      "source": [
        "vitals_n = vitals.iloc[:,2:9]\n",
        "vitals_n.head()"
      ],
      "metadata": {
        "colab": {
          "base_uri": "https://localhost:8080/",
          "height": 206
        },
        "id": "hRCAYPqJ5Edp",
        "outputId": "0ed3f3db-c067-447d-d158-a08d44d3344e"
      },
      "execution_count": null,
      "outputs": [
        {
          "output_type": "execute_result",
          "data": {
            "text/plain": [
              "   heartrate  sysbp  diasbp  meanbp  resprate   spo2  urineoutput\n",
              "0       81.0  135.0    70.0    88.0      20.0  100.0   144.678192\n",
              "1       82.0  155.0    70.0    90.0      20.0  100.0   140.987100\n",
              "2       90.0  155.0    60.0    83.0      19.0  100.0   200.000000\n",
              "3       85.0  166.0    62.0    89.0      20.0  100.0   100.000000\n",
              "4       87.0  170.0    64.0    90.0      20.0  100.0   132.083648"
            ],
            "text/html": [
              "\n",
              "  <div id=\"df-5ccd874f-ba73-45a9-9d83-9159ed79c5b1\">\n",
              "    <div class=\"colab-df-container\">\n",
              "      <div>\n",
              "<style scoped>\n",
              "    .dataframe tbody tr th:only-of-type {\n",
              "        vertical-align: middle;\n",
              "    }\n",
              "\n",
              "    .dataframe tbody tr th {\n",
              "        vertical-align: top;\n",
              "    }\n",
              "\n",
              "    .dataframe thead th {\n",
              "        text-align: right;\n",
              "    }\n",
              "</style>\n",
              "<table border=\"1\" class=\"dataframe\">\n",
              "  <thead>\n",
              "    <tr style=\"text-align: right;\">\n",
              "      <th></th>\n",
              "      <th>heartrate</th>\n",
              "      <th>sysbp</th>\n",
              "      <th>diasbp</th>\n",
              "      <th>meanbp</th>\n",
              "      <th>resprate</th>\n",
              "      <th>spo2</th>\n",
              "      <th>urineoutput</th>\n",
              "    </tr>\n",
              "  </thead>\n",
              "  <tbody>\n",
              "    <tr>\n",
              "      <th>0</th>\n",
              "      <td>81.0</td>\n",
              "      <td>135.0</td>\n",
              "      <td>70.0</td>\n",
              "      <td>88.0</td>\n",
              "      <td>20.0</td>\n",
              "      <td>100.0</td>\n",
              "      <td>144.678192</td>\n",
              "    </tr>\n",
              "    <tr>\n",
              "      <th>1</th>\n",
              "      <td>82.0</td>\n",
              "      <td>155.0</td>\n",
              "      <td>70.0</td>\n",
              "      <td>90.0</td>\n",
              "      <td>20.0</td>\n",
              "      <td>100.0</td>\n",
              "      <td>140.987100</td>\n",
              "    </tr>\n",
              "    <tr>\n",
              "      <th>2</th>\n",
              "      <td>90.0</td>\n",
              "      <td>155.0</td>\n",
              "      <td>60.0</td>\n",
              "      <td>83.0</td>\n",
              "      <td>19.0</td>\n",
              "      <td>100.0</td>\n",
              "      <td>200.000000</td>\n",
              "    </tr>\n",
              "    <tr>\n",
              "      <th>3</th>\n",
              "      <td>85.0</td>\n",
              "      <td>166.0</td>\n",
              "      <td>62.0</td>\n",
              "      <td>89.0</td>\n",
              "      <td>20.0</td>\n",
              "      <td>100.0</td>\n",
              "      <td>100.000000</td>\n",
              "    </tr>\n",
              "    <tr>\n",
              "      <th>4</th>\n",
              "      <td>87.0</td>\n",
              "      <td>170.0</td>\n",
              "      <td>64.0</td>\n",
              "      <td>90.0</td>\n",
              "      <td>20.0</td>\n",
              "      <td>100.0</td>\n",
              "      <td>132.083648</td>\n",
              "    </tr>\n",
              "  </tbody>\n",
              "</table>\n",
              "</div>\n",
              "      <button class=\"colab-df-convert\" onclick=\"convertToInteractive('df-5ccd874f-ba73-45a9-9d83-9159ed79c5b1')\"\n",
              "              title=\"Convert this dataframe to an interactive table.\"\n",
              "              style=\"display:none;\">\n",
              "        \n",
              "  <svg xmlns=\"http://www.w3.org/2000/svg\" height=\"24px\"viewBox=\"0 0 24 24\"\n",
              "       width=\"24px\">\n",
              "    <path d=\"M0 0h24v24H0V0z\" fill=\"none\"/>\n",
              "    <path d=\"M18.56 5.44l.94 2.06.94-2.06 2.06-.94-2.06-.94-.94-2.06-.94 2.06-2.06.94zm-11 1L8.5 8.5l.94-2.06 2.06-.94-2.06-.94L8.5 2.5l-.94 2.06-2.06.94zm10 10l.94 2.06.94-2.06 2.06-.94-2.06-.94-.94-2.06-.94 2.06-2.06.94z\"/><path d=\"M17.41 7.96l-1.37-1.37c-.4-.4-.92-.59-1.43-.59-.52 0-1.04.2-1.43.59L10.3 9.45l-7.72 7.72c-.78.78-.78 2.05 0 2.83L4 21.41c.39.39.9.59 1.41.59.51 0 1.02-.2 1.41-.59l7.78-7.78 2.81-2.81c.8-.78.8-2.07 0-2.86zM5.41 20L4 18.59l7.72-7.72 1.47 1.35L5.41 20z\"/>\n",
              "  </svg>\n",
              "      </button>\n",
              "      \n",
              "  <style>\n",
              "    .colab-df-container {\n",
              "      display:flex;\n",
              "      flex-wrap:wrap;\n",
              "      gap: 12px;\n",
              "    }\n",
              "\n",
              "    .colab-df-convert {\n",
              "      background-color: #E8F0FE;\n",
              "      border: none;\n",
              "      border-radius: 50%;\n",
              "      cursor: pointer;\n",
              "      display: none;\n",
              "      fill: #1967D2;\n",
              "      height: 32px;\n",
              "      padding: 0 0 0 0;\n",
              "      width: 32px;\n",
              "    }\n",
              "\n",
              "    .colab-df-convert:hover {\n",
              "      background-color: #E2EBFA;\n",
              "      box-shadow: 0px 1px 2px rgba(60, 64, 67, 0.3), 0px 1px 3px 1px rgba(60, 64, 67, 0.15);\n",
              "      fill: #174EA6;\n",
              "    }\n",
              "\n",
              "    [theme=dark] .colab-df-convert {\n",
              "      background-color: #3B4455;\n",
              "      fill: #D2E3FC;\n",
              "    }\n",
              "\n",
              "    [theme=dark] .colab-df-convert:hover {\n",
              "      background-color: #434B5C;\n",
              "      box-shadow: 0px 1px 3px 1px rgba(0, 0, 0, 0.15);\n",
              "      filter: drop-shadow(0px 1px 2px rgba(0, 0, 0, 0.3));\n",
              "      fill: #FFFFFF;\n",
              "    }\n",
              "  </style>\n",
              "\n",
              "      <script>\n",
              "        const buttonEl =\n",
              "          document.querySelector('#df-5ccd874f-ba73-45a9-9d83-9159ed79c5b1 button.colab-df-convert');\n",
              "        buttonEl.style.display =\n",
              "          google.colab.kernel.accessAllowed ? 'block' : 'none';\n",
              "\n",
              "        async function convertToInteractive(key) {\n",
              "          const element = document.querySelector('#df-5ccd874f-ba73-45a9-9d83-9159ed79c5b1');\n",
              "          const dataTable =\n",
              "            await google.colab.kernel.invokeFunction('convertToInteractive',\n",
              "                                                     [key], {});\n",
              "          if (!dataTable) return;\n",
              "\n",
              "          const docLinkHtml = 'Like what you see? Visit the ' +\n",
              "            '<a target=\"_blank\" href=https://colab.research.google.com/notebooks/data_table.ipynb>data table notebook</a>'\n",
              "            + ' to learn more about interactive tables.';\n",
              "          element.innerHTML = '';\n",
              "          dataTable['output_type'] = 'display_data';\n",
              "          await google.colab.output.renderOutput(dataTable, element);\n",
              "          const docLink = document.createElement('div');\n",
              "          docLink.innerHTML = docLinkHtml;\n",
              "          element.appendChild(docLink);\n",
              "        }\n",
              "      </script>\n",
              "    </div>\n",
              "  </div>\n",
              "  "
            ]
          },
          "metadata": {},
          "execution_count": 11
        }
      ]
    },
    {
      "cell_type": "code",
      "source": [
        "vitals_n.shape"
      ],
      "metadata": {
        "colab": {
          "base_uri": "https://localhost:8080/"
        },
        "id": "BXG3u_QI7CTM",
        "outputId": "225a3872-ef2e-4418-9248-999a363aa882"
      },
      "execution_count": null,
      "outputs": [
        {
          "output_type": "execute_result",
          "data": {
            "text/plain": [
              "(18168, 7)"
            ]
          },
          "metadata": {},
          "execution_count": 12
        }
      ]
    },
    {
      "cell_type": "markdown",
      "source": [
        "**Preprocessing with Normalization(MinMaxScaler), Converting into Array**"
      ],
      "metadata": {
        "id": "kU88UiD74cdm"
      }
    },
    {
      "cell_type": "code",
      "source": [
        "from sklearn.preprocessing import MinMaxScaler"
      ],
      "metadata": {
        "id": "8wlldfaCvunF"
      },
      "execution_count": null,
      "outputs": []
    },
    {
      "cell_type": "code",
      "source": [
        "x_scaler = MinMaxScaler()\n",
        "vitals_n = x_scaler.fit_transform(vitals_n)"
      ],
      "metadata": {
        "id": "lFmgpmNRvPP2"
      },
      "execution_count": null,
      "outputs": []
    },
    {
      "cell_type": "code",
      "source": [
        "v_array = np.array(vitals_n)"
      ],
      "metadata": {
        "id": "a3udSvIp6UxG"
      },
      "execution_count": null,
      "outputs": []
    },
    {
      "cell_type": "code",
      "source": [
        "v_array.shape"
      ],
      "metadata": {
        "colab": {
          "base_uri": "https://localhost:8080/"
        },
        "id": "Hk2dviBN6igr",
        "outputId": "5befb4e7-5300-4e9c-ffa1-17144b727faf"
      },
      "execution_count": null,
      "outputs": [
        {
          "output_type": "execute_result",
          "data": {
            "text/plain": [
              "(18168, 7)"
            ]
          },
          "metadata": {},
          "execution_count": 16
        }
      ]
    },
    {
      "cell_type": "markdown",
      "source": [
        "**Reshaping Temporal Data as LSTM Input**"
      ],
      "metadata": {
        "id": "7K1cbgkk6xHR"
      }
    },
    {
      "cell_type": "code",
      "source": [
        "time_features = v_array.reshape(-1, 24, 7)"
      ],
      "metadata": {
        "id": "NLiwuxiE8pJk"
      },
      "execution_count": null,
      "outputs": []
    },
    {
      "cell_type": "code",
      "source": [
        "time_features"
      ],
      "metadata": {
        "id": "mdNw8YRIodaJ"
      },
      "execution_count": null,
      "outputs": []
    },
    {
      "cell_type": "code",
      "source": [
        "time_features.shape"
      ],
      "metadata": {
        "colab": {
          "base_uri": "https://localhost:8080/"
        },
        "id": "f6-SfjPl8xAX",
        "outputId": "208a815c-d817-4466-e656-86cc57b3b5d1"
      },
      "execution_count": null,
      "outputs": [
        {
          "output_type": "execute_result",
          "data": {
            "text/plain": [
              "(757, 24, 7)"
            ]
          },
          "metadata": {},
          "execution_count": 19
        }
      ]
    },
    {
      "cell_type": "markdown",
      "source": [
        "**Preparing and Visualizing Output(Mortality)**"
      ],
      "metadata": {
        "id": "ooWQ7Do_7CSI"
      }
    },
    {
      "cell_type": "code",
      "source": [
        "# Read CSV file\n",
        "m = pd.read_csv('m1.csv')"
      ],
      "metadata": {
        "id": "z4m71AWC6yWF"
      },
      "execution_count": null,
      "outputs": []
    },
    {
      "cell_type": "code",
      "source": [
        "m = m.drop_duplicates()"
      ],
      "metadata": {
        "id": "XAKk0pkZ6gLr"
      },
      "execution_count": null,
      "outputs": []
    },
    {
      "cell_type": "code",
      "source": [
        "print('Number of survivors: ' + str(m[m['mortality'] == 0].count()['mortality']))\n",
        "print('Number of non-survivors: ' + str(m[m['mortality'] == 1].count()['mortality']))\n",
        "print('Mortality: ' + str(round(100*m[m['mortality'] == 1].sum()['mortality'] / len(m.index.unique()),1)) + '%')"
      ],
      "metadata": {
        "colab": {
          "base_uri": "https://localhost:8080/"
        },
        "id": "e2aKp-dCyj_Y",
        "outputId": "2d43d0a5-8232-459f-8140-e85d638644d9"
      },
      "execution_count": null,
      "outputs": [
        {
          "output_type": "stream",
          "name": "stdout",
          "text": [
            "Number of survivors: 450\n",
            "Number of non-survivors: 307\n",
            "Mortality: 40.6%\n"
          ]
        }
      ]
    },
    {
      "cell_type": "code",
      "source": [
        "fig, ax = plt.subplots(figsize=(8,5), dpi=100)\n",
        "\n",
        "patches, texts, autotexts = ax.pie(m['mortality'].value_counts(), autopct= '%1.1f%%', shadow=True, \n",
        "                                   startangle=90, explode=(0.1, 0), labels=['Alive','Death'])\n",
        "\n",
        "plt.setp(autotexts, size=12, color = 'black', weight='bold')\n",
        "autotexts[1].set_color('white');\n",
        "\n",
        "plt.title('Outcome Distribution', fontsize=14)\n",
        "plt.show()"
      ],
      "metadata": {
        "colab": {
          "base_uri": "https://localhost:8080/",
          "height": 437
        },
        "id": "MHczYKa87N93",
        "outputId": "2065710d-7c70-42a9-b9d3-605b3d07a2d2"
      },
      "execution_count": null,
      "outputs": [
        {
          "output_type": "display_data",
          "data": {
            "text/plain": [
              "<Figure size 800x500 with 1 Axes>"
            ],
            "image/png": "[encoded data removed]"
          },
          "metadata": {}
        }
      ]
    },
    {
      "cell_type": "code",
      "source": [
        "m.head()"
      ],
      "metadata": {
        "colab": {
          "base_uri": "https://localhost:8080/",
          "height": 206
        },
        "id": "b-J3jYwR7U_T",
        "outputId": "1af9cd66-e2fb-4d38-d299-9adad48e7e41"
      },
      "execution_count": null,
      "outputs": [
        {
          "output_type": "execute_result",
          "data": {
            "text/plain": [
              "   icustay_id  mortality\n",
              "0      200613          1\n",
              "1      201171          1\n",
              "2      201220          1\n",
              "3      201382          1\n",
              "4      201829          1"
            ],
            "text/html": [
              "\n",
              "  <div id=\"df-5ce35d3e-b7d0-4363-864c-fc21d423d54a\">\n",
              "    <div class=\"colab-df-container\">\n",
              "      <div>\n",
              "<style scoped>\n",
              "    .dataframe tbody tr th:only-of-type {\n",
              "        vertical-align: middle;\n",
              "    }\n",
              "\n",
              "    .dataframe tbody tr th {\n",
              "        vertical-align: top;\n",
              "    }\n",
              "\n",
              "    .dataframe thead th {\n",
              "        text-align: right;\n",
              "    }\n",
              "</style>\n",
              "<table border=\"1\" class=\"dataframe\">\n",
              "  <thead>\n",
              "    <tr style=\"text-align: right;\">\n",
              "      <th></th>\n",
              "      <th>icustay_id</th>\n",
              "      <th>mortality</th>\n",
              "    </tr>\n",
              "  </thead>\n",
              "  <tbody>\n",
              "    <tr>\n",
              "      <th>0</th>\n",
              "      <td>200613</td>\n",
              "      <td>1</td>\n",
              "    </tr>\n",
              "    <tr>\n",
              "      <th>1</th>\n",
              "      <td>201171</td>\n",
              "      <td>1</td>\n",
              "    </tr>\n",
              "    <tr>\n",
              "      <th>2</th>\n",
              "      <td>201220</td>\n",
              "      <td>1</td>\n",
              "    </tr>\n",
              "    <tr>\n",
              "      <th>3</th>\n",
              "      <td>201382</td>\n",
              "      <td>1</td>\n",
              "    </tr>\n",
              "    <tr>\n",
              "      <th>4</th>\n",
              "      <td>201829</td>\n",
              "      <td>1</td>\n",
              "    </tr>\n",
              "  </tbody>\n",
              "</table>\n",
              "</div>\n",
              "      <button class=\"colab-df-convert\" onclick=\"convertToInteractive('df-5ce35d3e-b7d0-4363-864c-fc21d423d54a')\"\n",
              "              title=\"Convert this dataframe to an interactive table.\"\n",
              "              style=\"display:none;\">\n",
              "        \n",
              "  <svg xmlns=\"http://www.w3.org/2000/svg\" height=\"24px\"viewBox=\"0 0 24 24\"\n",
              "       width=\"24px\">\n",
              "    <path d=\"M0 0h24v24H0V0z\" fill=\"none\"/>\n",
              "    <path d=\"M18.56 5.44l.94 2.06.94-2.06 2.06-.94-2.06-.94-.94-2.06-.94 2.06-2.06.94zm-11 1L8.5 8.5l.94-2.06 2.06-.94-2.06-.94L8.5 2.5l-.94 2.06-2.06.94zm10 10l.94 2.06.94-2.06 2.06-.94-2.06-.94-.94-2.06-.94 2.06-2.06.94z\"/><path d=\"M17.41 7.96l-1.37-1.37c-.4-.4-.92-.59-1.43-.59-.52 0-1.04.2-1.43.59L10.3 9.45l-7.72 7.72c-.78.78-.78 2.05 0 2.83L4 21.41c.39.39.9.59 1.41.59.51 0 1.02-.2 1.41-.59l7.78-7.78 2.81-2.81c.8-.78.8-2.07 0-2.86zM5.41 20L4 18.59l7.72-7.72 1.47 1.35L5.41 20z\"/>\n",
              "  </svg>\n",
              "      </button>\n",
              "      \n",
              "  <style>\n",
              "    .colab-df-container {\n",
              "      display:flex;\n",
              "      flex-wrap:wrap;\n",
              "      gap: 12px;\n",
              "    }\n",
              "\n",
              "    .colab-df-convert {\n",
              "      background-color: #E8F0FE;\n",
              "      border: none;\n",
              "      border-radius: 50%;\n",
              "      cursor: pointer;\n",
              "      display: none;\n",
              "      fill: #1967D2;\n",
              "      height: 32px;\n",
              "      padding: 0 0 0 0;\n",
              "      width: 32px;\n",
              "    }\n",
              "\n",
              "    .colab-df-convert:hover {\n",
              "      background-color: #E2EBFA;\n",
              "      box-shadow: 0px 1px 2px rgba(60, 64, 67, 0.3), 0px 1px 3px 1px rgba(60, 64, 67, 0.15);\n",
              "      fill: #174EA6;\n",
              "    }\n",
              "\n",
              "    [theme=dark] .colab-df-convert {\n",
              "      background-color: #3B4455;\n",
              "      fill: #D2E3FC;\n",
              "    }\n",
              "\n",
              "    [theme=dark] .colab-df-convert:hover {\n",
              "      background-color: #434B5C;\n",
              "      box-shadow: 0px 1px 3px 1px rgba(0, 0, 0, 0.15);\n",
              "      filter: drop-shadow(0px 1px 2px rgba(0, 0, 0, 0.3));\n",
              "      fill: #FFFFFF;\n",
              "    }\n",
              "  </style>\n",
              "\n",
              "      <script>\n",
              "        const buttonEl =\n",
              "          document.querySelector('#df-5ce35d3e-b7d0-4363-864c-fc21d423d54a button.colab-df-convert');\n",
              "        buttonEl.style.display =\n",
              "          google.colab.kernel.accessAllowed ? 'block' : 'none';\n",
              "\n",
              "        async function convertToInteractive(key) {\n",
              "          const element = document.querySelector('#df-5ce35d3e-b7d0-4363-864c-fc21d423d54a');\n",
              "          const dataTable =\n",
              "            await google.colab.kernel.invokeFunction('convertToInteractive',\n",
              "                                                     [key], {});\n",
              "          if (!dataTable) return;\n",
              "\n",
              "          const docLinkHtml = 'Like what you see? Visit the ' +\n",
              "            '<a target=\"_blank\" href=https://colab.research.google.com/notebooks/data_table.ipynb>data table notebook</a>'\n",
              "            + ' to learn more about interactive tables.';\n",
              "          element.innerHTML = '';\n",
              "          dataTable['output_type'] = 'display_data';\n",
              "          await google.colab.output.renderOutput(dataTable, element);\n",
              "          const docLink = document.createElement('div');\n",
              "          docLink.innerHTML = docLinkHtml;\n",
              "          element.appendChild(docLink);\n",
              "        }\n",
              "      </script>\n",
              "    </div>\n",
              "  </div>\n",
              "  "
            ]
          },
          "metadata": {},
          "execution_count": 24
        }
      ]
    },
    {
      "cell_type": "code",
      "source": [
        "m = m.mortality\n",
        "m"
      ],
      "metadata": {
        "colab": {
          "base_uri": "https://localhost:8080/"
        },
        "id": "kFA-egre9F7M",
        "outputId": "c098947f-1e9b-4d76-b86c-81553757cd3e"
      },
      "execution_count": null,
      "outputs": [
        {
          "output_type": "execute_result",
          "data": {
            "text/plain": [
              "0      1\n",
              "1      1\n",
              "2      1\n",
              "3      1\n",
              "4      1\n",
              "      ..\n",
              "752    0\n",
              "753    0\n",
              "754    0\n",
              "755    0\n",
              "756    1\n",
              "Name: mortality, Length: 757, dtype: int64"
            ]
          },
          "metadata": {},
          "execution_count": 25
        }
      ]
    },
    {
      "cell_type": "code",
      "source": [
        "m.shape"
      ],
      "metadata": {
        "colab": {
          "base_uri": "https://localhost:8080/"
        },
        "id": "I6-LNuFq7zB9",
        "outputId": "5b640b96-744f-41bf-c420-a143eab3e602"
      },
      "execution_count": null,
      "outputs": [
        {
          "output_type": "execute_result",
          "data": {
            "text/plain": [
              "(757,)"
            ]
          },
          "metadata": {},
          "execution_count": 26
        }
      ]
    },
    {
      "cell_type": "code",
      "source": [
        "m_array = np.array(m)"
      ],
      "metadata": {
        "id": "IkcmcCyV7s8b"
      },
      "execution_count": null,
      "outputs": []
    },
    {
      "cell_type": "code",
      "source": [
        "m_array.shape"
      ],
      "metadata": {
        "colab": {
          "base_uri": "https://localhost:8080/"
        },
        "id": "j_hm9fPo84AL",
        "outputId": "11a2ed33-d333-4c2d-c436-df1de5f5126f"
      },
      "execution_count": null,
      "outputs": [
        {
          "output_type": "execute_result",
          "data": {
            "text/plain": [
              "(757,)"
            ]
          },
          "metadata": {},
          "execution_count": 28
        }
      ]
    },
    {
      "cell_type": "markdown",
      "source": [
        "**Preparing Aggregated Data (Static, Demographic, Interventions, Comorbidities, Lab (non tempral))**"
      ],
      "metadata": {
        "id": "lNH7WIjQ78uk"
      }
    },
    {
      "cell_type": "code",
      "source": [
        "aggregated = pd.read_csv(\"a_fusion.csv\")"
      ],
      "metadata": {
        "id": "_d52HTNtz5ls"
      },
      "execution_count": null,
      "outputs": []
    },
    {
      "cell_type": "code",
      "source": [
        "aggregated.describe()"
      ],
      "metadata": {
        "colab": {
          "base_uri": "https://localhost:8080/",
          "height": 411
        },
        "id": "ZadcqbyPXiuG",
        "outputId": "f81de6b3-f630-43fc-dfa1-598cd6a5aa0d"
      },
      "execution_count": null,
      "outputs": [
        {
          "output_type": "execute_result",
          "data": {
            "text/plain": [
              "          icustay_id   min tempc  min glucose     min gcs  min gcsmotor  \\\n",
              "count     757.000000  750.000000   741.000000  757.000000    757.000000   \n",
              "mean   271217.737120   36.305480   118.807242   12.103038      3.863937   \n",
              "std     27277.721943    0.823522    34.707687    3.915774      1.995692   \n",
              "min    200613.000000   30.500000     1.000000    3.000000      1.000000   \n",
              "25%    260773.000000   35.888888    97.000000   10.000000      1.000000   \n",
              "50%    280815.000000   36.388889   115.000000   14.000000      4.000000   \n",
              "75%    290512.000000   36.833333   136.000000   15.000000      6.000000   \n",
              "max    299973.000000   38.700000   268.000000   15.000000      6.000000   \n",
              "\n",
              "       min gcsverbal  min gcseyes  min endotrachflag  min bg_po2  min bg_pco2  \\\n",
              "count     757.000000   757.000000         757.000000  418.000000   418.000000   \n",
              "mean        1.405548     1.922061           0.322325  138.511962    34.889952   \n",
              "std         2.036862     1.168593           0.467676   75.963838     7.527557   \n",
              "min         0.000000     1.000000           0.000000   32.000000    18.000000   \n",
              "25%         0.000000     1.000000           0.000000   88.000000    30.000000   \n",
              "50%         0.000000     1.000000           0.000000  124.000000    35.000000   \n",
              "75%         4.000000     3.000000           1.000000  171.000000    39.000000   \n",
              "max         5.000000     4.000000           1.000000  514.000000    79.000000   \n",
              "\n",
              "       ...  heart_failure  hypertension   paralysis  diabetes_complicated  \\\n",
              "count  ...     746.000000    757.000000  746.000000            746.000000   \n",
              "mean   ...       0.152815      0.686922    0.158177              0.033512   \n",
              "std    ...       0.360050      0.464052    0.365152              0.180090   \n",
              "min    ...       0.000000      0.000000    0.000000              0.000000   \n",
              "25%    ...       0.000000      0.000000    0.000000              0.000000   \n",
              "50%    ...       0.000000      1.000000    0.000000              0.000000   \n",
              "75%    ...       0.000000      1.000000    0.000000              0.000000   \n",
              "max    ...       1.000000      1.000000    1.000000              1.000000   \n",
              "\n",
              "       metastatic_cancer     obesity  weight_loss  alcohol_abuse  drug_abuse  \\\n",
              "count         746.000000  746.000000   746.000000     746.000000  746.000000   \n",
              "mean            0.046917    0.025469     0.046917       0.050938    0.018767   \n",
              "std             0.211603    0.157651     0.211603       0.220019    0.135791   \n",
              "min             0.000000    0.000000     0.000000       0.000000    0.000000   \n",
              "25%             0.000000    0.000000     0.000000       0.000000    0.000000   \n",
              "50%             0.000000    0.000000     0.000000       0.000000    0.000000   \n",
              "75%             0.000000    0.000000     0.000000       0.000000    0.000000   \n",
              "max             1.000000    1.000000     1.000000       1.000000    1.000000   \n",
              "\n",
              "       depression  \n",
              "count  746.000000  \n",
              "mean     0.064343  \n",
              "std      0.245528  \n",
              "min      0.000000  \n",
              "25%      0.000000  \n",
              "50%      0.000000  \n",
              "75%      0.000000  \n",
              "max      1.000000  \n",
              "\n",
              "[8 rows x 167 columns]"
            ],
            "text/html": [
              "\n",
              "  <div id=\"df-045dcff5-a0a0-413b-960d-ac0befa29bcc\">\n",
              "    <div class=\"colab-df-container\">\n",
              "      <div>\n",
              "<style scoped>\n",
              "    .dataframe tbody tr th:only-of-type {\n",
              "        vertical-align: middle;\n",
              "    }\n",
              "\n",
              "    .dataframe tbody tr th {\n",
              "        vertical-align: top;\n",
              "    }\n",
              "\n",
              "    .dataframe thead th {\n",
              "        text-align: right;\n",
              "    }\n",
              "</style>\n",
              "<table border=\"1\" class=\"dataframe\">\n",
              "  <thead>\n",
              "    <tr style=\"text-align: right;\">\n",
              "      <th></th>\n",
              "      <th>icustay_id</th>\n",
              "      <th>min tempc</th>\n",
              "      <th>min glucose</th>\n",
              "      <th>min gcs</th>\n",
              "      <th>min gcsmotor</th>\n",
              "      <th>min gcsverbal</th>\n",
              "      <th>min gcseyes</th>\n",
              "      <th>min endotrachflag</th>\n",
              "      <th>min bg_po2</th>\n",
              "      <th>min bg_pco2</th>\n",
              "      <th>...</th>\n",
              "      <th>heart_failure</th>\n",
              "      <th>hypertension</th>\n",
              "      <th>paralysis</th>\n",
              "      <th>diabetes_complicated</th>\n",
              "      <th>metastatic_cancer</th>\n",
              "      <th>obesity</th>\n",
              "      <th>weight_loss</th>\n",
              "      <th>alcohol_abuse</th>\n",
              "      <th>drug_abuse</th>\n",
              "      <th>depression</th>\n",
              "    </tr>\n",
              "  </thead>\n",
              "  <tbody>\n",
              "    <tr>\n",
              "      <th>count</th>\n",
              "      <td>757.000000</td>\n",
              "      <td>750.000000</td>\n",
              "      <td>741.000000</td>\n",
              "      <td>757.000000</td>\n",
              "      <td>757.000000</td>\n",
              "      <td>757.000000</td>\n",
              "      <td>757.000000</td>\n",
              "      <td>757.000000</td>\n",
              "      <td>418.000000</td>\n",
              "      <td>418.000000</td>\n",
              "      <td>...</td>\n",
              "      <td>746.000000</td>\n",
              "      <td>757.000000</td>\n",
              "      <td>746.000000</td>\n",
              "      <td>746.000000</td>\n",
              "      <td>746.000000</td>\n",
              "      <td>746.000000</td>\n",
              "      <td>746.000000</td>\n",
              "      <td>746.000000</td>\n",
              "      <td>746.000000</td>\n",
              "      <td>746.000000</td>\n",
              "    </tr>\n",
              "    <tr>\n",
              "      <th>mean</th>\n",
              "      <td>271217.737120</td>\n",
              "      <td>36.305480</td>\n",
              "      <td>118.807242</td>\n",
              "      <td>12.103038</td>\n",
              "      <td>3.863937</td>\n",
              "      <td>1.405548</td>\n",
              "      <td>1.922061</td>\n",
              "      <td>0.322325</td>\n",
              "      <td>138.511962</td>\n",
              "      <td>34.889952</td>\n",
              "      <td>...</td>\n",
              "      <td>0.152815</td>\n",
              "      <td>0.686922</td>\n",
              "      <td>0.158177</td>\n",
              "      <td>0.033512</td>\n",
              "      <td>0.046917</td>\n",
              "      <td>0.025469</td>\n",
              "      <td>0.046917</td>\n",
              "      <td>0.050938</td>\n",
              "      <td>0.018767</td>\n",
              "      <td>0.064343</td>\n",
              "    </tr>\n",
              "    <tr>\n",
              "      <th>std</th>\n",
              "      <td>27277.721943</td>\n",
              "      <td>0.823522</td>\n",
              "      <td>34.707687</td>\n",
              "      <td>3.915774</td>\n",
              "      <td>1.995692</td>\n",
              "      <td>2.036862</td>\n",
              "      <td>1.168593</td>\n",
              "      <td>0.467676</td>\n",
              "      <td>75.963838</td>\n",
              "      <td>7.527557</td>\n",
              "      <td>...</td>\n",
              "      <td>0.360050</td>\n",
              "      <td>0.464052</td>\n",
              "      <td>0.365152</td>\n",
              "      <td>0.180090</td>\n",
              "      <td>0.211603</td>\n",
              "      <td>0.157651</td>\n",
              "      <td>0.211603</td>\n",
              "      <td>0.220019</td>\n",
              "      <td>0.135791</td>\n",
              "      <td>0.245528</td>\n",
              "    </tr>\n",
              "    <tr>\n",
              "      <th>min</th>\n",
              "      <td>200613.000000</td>\n",
              "      <td>30.500000</td>\n",
              "      <td>1.000000</td>\n",
              "      <td>3.000000</td>\n",
              "      <td>1.000000</td>\n",
              "      <td>0.000000</td>\n",
              "      <td>1.000000</td>\n",
              "      <td>0.000000</td>\n",
              "      <td>32.000000</td>\n",
              "      <td>18.000000</td>\n",
              "      <td>...</td>\n",
              "      <td>0.000000</td>\n",
              "      <td>0.000000</td>\n",
              "      <td>0.000000</td>\n",
              "      <td>0.000000</td>\n",
              "      <td>0.000000</td>\n",
              "      <td>0.000000</td>\n",
              "      <td>0.000000</td>\n",
              "      <td>0.000000</td>\n",
              "      <td>0.000000</td>\n",
              "      <td>0.000000</td>\n",
              "    </tr>\n",
              "    <tr>\n",
              "      <th>25%</th>\n",
              "      <td>260773.000000</td>\n",
              "      <td>35.888888</td>\n",
              "      <td>97.000000</td>\n",
              "      <td>10.000000</td>\n",
              "      <td>1.000000</td>\n",
              "      <td>0.000000</td>\n",
              "      <td>1.000000</td>\n",
              "      <td>0.000000</td>\n",
              "      <td>88.000000</td>\n",
              "      <td>30.000000</td>\n",
              "      <td>...</td>\n",
              "      <td>0.000000</td>\n",
              "      <td>0.000000</td>\n",
              "      <td>0.000000</td>\n",
              "      <td>0.000000</td>\n",
              "      <td>0.000000</td>\n",
              "      <td>0.000000</td>\n",
              "      <td>0.000000</td>\n",
              "      <td>0.000000</td>\n",
              "      <td>0.000000</td>\n",
              "      <td>0.000000</td>\n",
              "    </tr>\n",
              "    <tr>\n",
              "      <th>50%</th>\n",
              "      <td>280815.000000</td>\n",
              "      <td>36.388889</td>\n",
              "      <td>115.000000</td>\n",
              "      <td>14.000000</td>\n",
              "      <td>4.000000</td>\n",
              "      <td>0.000000</td>\n",
              "      <td>1.000000</td>\n",
              "      <td>0.000000</td>\n",
              "      <td>124.000000</td>\n",
              "      <td>35.000000</td>\n",
              "      <td>...</td>\n",
              "      <td>0.000000</td>\n",
              "      <td>1.000000</td>\n",
              "      <td>0.000000</td>\n",
              "      <td>0.000000</td>\n",
              "      <td>0.000000</td>\n",
              "      <td>0.000000</td>\n",
              "      <td>0.000000</td>\n",
              "      <td>0.000000</td>\n",
              "      <td>0.000000</td>\n",
              "      <td>0.000000</td>\n",
              "    </tr>\n",
              "    <tr>\n",
              "      <th>75%</th>\n",
              "      <td>290512.000000</td>\n",
              "      <td>36.833333</td>\n",
              "      <td>136.000000</td>\n",
              "      <td>15.000000</td>\n",
              "      <td>6.000000</td>\n",
              "      <td>4.000000</td>\n",
              "      <td>3.000000</td>\n",
              "      <td>1.000000</td>\n",
              "      <td>171.000000</td>\n",
              "      <td>39.000000</td>\n",
              "      <td>...</td>\n",
              "      <td>0.000000</td>\n",
              "      <td>1.000000</td>\n",
              "      <td>0.000000</td>\n",
              "      <td>0.000000</td>\n",
              "      <td>0.000000</td>\n",
              "      <td>0.000000</td>\n",
              "      <td>0.000000</td>\n",
              "      <td>0.000000</td>\n",
              "      <td>0.000000</td>\n",
              "      <td>0.000000</td>\n",
              "    </tr>\n",
              "    <tr>\n",
              "      <th>max</th>\n",
              "      <td>299973.000000</td>\n",
              "      <td>38.700000</td>\n",
              "      <td>268.000000</td>\n",
              "      <td>15.000000</td>\n",
              "      <td>6.000000</td>\n",
              "      <td>5.000000</td>\n",
              "      <td>4.000000</td>\n",
              "      <td>1.000000</td>\n",
              "      <td>514.000000</td>\n",
              "      <td>79.000000</td>\n",
              "      <td>...</td>\n",
              "      <td>1.000000</td>\n",
              "      <td>1.000000</td>\n",
              "      <td>1.000000</td>\n",
              "      <td>1.000000</td>\n",
              "      <td>1.000000</td>\n",
              "      <td>1.000000</td>\n",
              "      <td>1.000000</td>\n",
              "      <td>1.000000</td>\n",
              "      <td>1.000000</td>\n",
              "      <td>1.000000</td>\n",
              "    </tr>\n",
              "  </tbody>\n",
              "</table>\n",
              "<p>8 rows × 167 columns</p>\n",
              "</div>\n",
              "      <button class=\"colab-df-convert\" onclick=\"convertToInteractive('df-045dcff5-a0a0-413b-960d-ac0befa29bcc')\"\n",
              "              title=\"Convert this dataframe to an interactive table.\"\n",
              "              style=\"display:none;\">\n",
              "        \n",
              "  <svg xmlns=\"http://www.w3.org/2000/svg\" height=\"24px\"viewBox=\"0 0 24 24\"\n",
              "       width=\"24px\">\n",
              "    <path d=\"M0 0h24v24H0V0z\" fill=\"none\"/>\n",
              "    <path d=\"M18.56 5.44l.94 2.06.94-2.06 2.06-.94-2.06-.94-.94-2.06-.94 2.06-2.06.94zm-11 1L8.5 8.5l.94-2.06 2.06-.94-2.06-.94L8.5 2.5l-.94 2.06-2.06.94zm10 10l.94 2.06.94-2.06 2.06-.94-2.06-.94-.94-2.06-.94 2.06-2.06.94z\"/><path d=\"M17.41 7.96l-1.37-1.37c-.4-.4-.92-.59-1.43-.59-.52 0-1.04.2-1.43.59L10.3 9.45l-7.72 7.72c-.78.78-.78 2.05 0 2.83L4 21.41c.39.39.9.59 1.41.59.51 0 1.02-.2 1.41-.59l7.78-7.78 2.81-2.81c.8-.78.8-2.07 0-2.86zM5.41 20L4 18.59l7.72-7.72 1.47 1.35L5.41 20z\"/>\n",
              "  </svg>\n",
              "      </button>\n",
              "      \n",
              "  <style>\n",
              "    .colab-df-container {\n",
              "      display:flex;\n",
              "      flex-wrap:wrap;\n",
              "      gap: 12px;\n",
              "    }\n",
              "\n",
              "    .colab-df-convert {\n",
              "      background-color: #E8F0FE;\n",
              "      border: none;\n",
              "      border-radius: 50%;\n",
              "      cursor: pointer;\n",
              "      display: none;\n",
              "      fill: #1967D2;\n",
              "      height: 32px;\n",
              "      padding: 0 0 0 0;\n",
              "      width: 32px;\n",
              "    }\n",
              "\n",
              "    .colab-df-convert:hover {\n",
              "      background-color: #E2EBFA;\n",
              "      box-shadow: 0px 1px 2px rgba(60, 64, 67, 0.3), 0px 1px 3px 1px rgba(60, 64, 67, 0.15);\n",
              "      fill: #174EA6;\n",
              "    }\n",
              "\n",
              "    [theme=dark] .colab-df-convert {\n",
              "      background-color: #3B4455;\n",
              "      fill: #D2E3FC;\n",
              "    }\n",
              "\n",
              "    [theme=dark] .colab-df-convert:hover {\n",
              "      background-color: #434B5C;\n",
              "      box-shadow: 0px 1px 3px 1px rgba(0, 0, 0, 0.15);\n",
              "      filter: drop-shadow(0px 1px 2px rgba(0, 0, 0, 0.3));\n",
              "      fill: #FFFFFF;\n",
              "    }\n",
              "  </style>\n",
              "\n",
              "      <script>\n",
              "        const buttonEl =\n",
              "          document.querySelector('#df-045dcff5-a0a0-413b-960d-ac0befa29bcc button.colab-df-convert');\n",
              "        buttonEl.style.display =\n",
              "          google.colab.kernel.accessAllowed ? 'block' : 'none';\n",
              "\n",
              "        async function convertToInteractive(key) {\n",
              "          const element = document.querySelector('#df-045dcff5-a0a0-413b-960d-ac0befa29bcc');\n",
              "          const dataTable =\n",
              "            await google.colab.kernel.invokeFunction('convertToInteractive',\n",
              "                                                     [key], {});\n",
              "          if (!dataTable) return;\n",
              "\n",
              "          const docLinkHtml = 'Like what you see? Visit the ' +\n",
              "            '<a target=\"_blank\" href=https://colab.research.google.com/notebooks/data_table.ipynb>data table notebook</a>'\n",
              "            + ' to learn more about interactive tables.';\n",
              "          element.innerHTML = '';\n",
              "          dataTable['output_type'] = 'display_data';\n",
              "          await google.colab.output.renderOutput(dataTable, element);\n",
              "          const docLink = document.createElement('div');\n",
              "          docLink.innerHTML = docLinkHtml;\n",
              "          element.appendChild(docLink);\n",
              "        }\n",
              "      </script>\n",
              "    </div>\n",
              "  </div>\n",
              "  "
            ]
          },
          "metadata": {},
          "execution_count": 30
        }
      ]
    },
    {
      "cell_type": "code",
      "source": [
        "aggregated.head()"
      ],
      "metadata": {
        "colab": {
          "base_uri": "https://localhost:8080/",
          "height": 317
        },
        "id": "ixM6RbkL6zTZ",
        "outputId": "62187ca8-31b9-404a-b808-f07fa981bbd7"
      },
      "execution_count": null,
      "outputs": [
        {
          "output_type": "execute_result",
          "data": {
            "text/plain": [
              "   icustay_id  min tempc  min glucose  min gcs  min gcsmotor  min gcsverbal  \\\n",
              "0      200613  36.833333        183.0        5             3              0   \n",
              "1      201171  35.444446        134.0        3             1              0   \n",
              "2      201220  36.111111         90.5       15             1              0   \n",
              "3      201382  36.777776        156.0       15             2              0   \n",
              "4      201829  36.333333        179.0        3             1              0   \n",
              "\n",
              "   min gcseyes  min endotrachflag  min bg_po2  min bg_pco2  ...  \\\n",
              "0            1                  0       154.0         33.0  ...   \n",
              "1            1                  0       113.0         27.0  ...   \n",
              "2            1                  1       158.0         31.0  ...   \n",
              "3            1                  1       202.0         42.0  ...   \n",
              "4            1                  0         NaN          NaN  ...   \n",
              "\n",
              "   heart_failure  hypertension  paralysis  diabetes_complicated  \\\n",
              "0            0.0             1        0.0                   0.0   \n",
              "1            NaN             0        NaN                   NaN   \n",
              "2            0.0             0        0.0                   0.0   \n",
              "3            0.0             1        0.0                   0.0   \n",
              "4            0.0             1        0.0                   0.0   \n",
              "\n",
              "   metastatic_cancer  obesity  weight_loss  alcohol_abuse  drug_abuse  \\\n",
              "0                0.0      0.0          0.0            0.0         0.0   \n",
              "1                NaN      NaN          NaN            NaN         NaN   \n",
              "2                0.0      0.0          0.0            0.0         0.0   \n",
              "3                0.0      0.0          0.0            0.0         0.0   \n",
              "4                0.0      0.0          0.0            0.0         0.0   \n",
              "\n",
              "   depression  \n",
              "0         0.0  \n",
              "1         NaN  \n",
              "2         0.0  \n",
              "3         0.0  \n",
              "4         0.0  \n",
              "\n",
              "[5 rows x 167 columns]"
            ],
            "text/html": [
              "\n",
              "  <div id=\"df-4a7df818-013c-40ae-b133-22f4a3a4b6f3\">\n",
              "    <div class=\"colab-df-container\">\n",
              "      <div>\n",
              "<style scoped>\n",
              "    .dataframe tbody tr th:only-of-type {\n",
              "        vertical-align: middle;\n",
              "    }\n",
              "\n",
              "    .dataframe tbody tr th {\n",
              "        vertical-align: top;\n",
              "    }\n",
              "\n",
              "    .dataframe thead th {\n",
              "        text-align: right;\n",
              "    }\n",
              "</style>\n",
              "<table border=\"1\" class=\"dataframe\">\n",
              "  <thead>\n",
              "    <tr style=\"text-align: right;\">\n",
              "      <th></th>\n",
              "      <th>icustay_id</th>\n",
              "      <th>min tempc</th>\n",
              "      <th>min glucose</th>\n",
              "      <th>min gcs</th>\n",
              "      <th>min gcsmotor</th>\n",
              "      <th>min gcsverbal</th>\n",
              "      <th>min gcseyes</th>\n",
              "      <th>min endotrachflag</th>\n",
              "      <th>min bg_po2</th>\n",
              "      <th>min bg_pco2</th>\n",
              "      <th>...</th>\n",
              "      <th>heart_failure</th>\n",
              "      <th>hypertension</th>\n",
              "      <th>paralysis</th>\n",
              "      <th>diabetes_complicated</th>\n",
              "      <th>metastatic_cancer</th>\n",
              "      <th>obesity</th>\n",
              "      <th>weight_loss</th>\n",
              "      <th>alcohol_abuse</th>\n",
              "      <th>drug_abuse</th>\n",
              "      <th>depression</th>\n",
              "    </tr>\n",
              "  </thead>\n",
              "  <tbody>\n",
              "    <tr>\n",
              "      <th>0</th>\n",
              "      <td>200613</td>\n",
              "      <td>36.833333</td>\n",
              "      <td>183.0</td>\n",
              "      <td>5</td>\n",
              "      <td>3</td>\n",
              "      <td>0</td>\n",
              "      <td>1</td>\n",
              "      <td>0</td>\n",
              "      <td>154.0</td>\n",
              "      <td>33.0</td>\n",
              "      <td>...</td>\n",
              "      <td>0.0</td>\n",
              "      <td>1</td>\n",
              "      <td>0.0</td>\n",
              "      <td>0.0</td>\n",
              "      <td>0.0</td>\n",
              "      <td>0.0</td>\n",
              "      <td>0.0</td>\n",
              "      <td>0.0</td>\n",
              "      <td>0.0</td>\n",
              "      <td>0.0</td>\n",
              "    </tr>\n",
              "    <tr>\n",
              "      <th>1</th>\n",
              "      <td>201171</td>\n",
              "      <td>35.444446</td>\n",
              "      <td>134.0</td>\n",
              "      <td>3</td>\n",
              "      <td>1</td>\n",
              "      <td>0</td>\n",
              "      <td>1</td>\n",
              "      <td>0</td>\n",
              "      <td>113.0</td>\n",
              "      <td>27.0</td>\n",
              "      <td>...</td>\n",
              "      <td>NaN</td>\n",
              "      <td>0</td>\n",
              "      <td>NaN</td>\n",
              "      <td>NaN</td>\n",
              "      <td>NaN</td>\n",
              "      <td>NaN</td>\n",
              "      <td>NaN</td>\n",
              "      <td>NaN</td>\n",
              "      <td>NaN</td>\n",
              "      <td>NaN</td>\n",
              "    </tr>\n",
              "    <tr>\n",
              "      <th>2</th>\n",
              "      <td>201220</td>\n",
              "      <td>36.111111</td>\n",
              "      <td>90.5</td>\n",
              "      <td>15</td>\n",
              "      <td>1</td>\n",
              "      <td>0</td>\n",
              "      <td>1</td>\n",
              "      <td>1</td>\n",
              "      <td>158.0</td>\n",
              "      <td>31.0</td>\n",
              "      <td>...</td>\n",
              "      <td>0.0</td>\n",
              "      <td>0</td>\n",
              "      <td>0.0</td>\n",
              "      <td>0.0</td>\n",
              "      <td>0.0</td>\n",
              "      <td>0.0</td>\n",
              "      <td>0.0</td>\n",
              "      <td>0.0</td>\n",
              "      <td>0.0</td>\n",
              "      <td>0.0</td>\n",
              "    </tr>\n",
              "    <tr>\n",
              "      <th>3</th>\n",
              "      <td>201382</td>\n",
              "      <td>36.777776</td>\n",
              "      <td>156.0</td>\n",
              "      <td>15</td>\n",
              "      <td>2</td>\n",
              "      <td>0</td>\n",
              "      <td>1</td>\n",
              "      <td>1</td>\n",
              "      <td>202.0</td>\n",
              "      <td>42.0</td>\n",
              "      <td>...</td>\n",
              "      <td>0.0</td>\n",
              "      <td>1</td>\n",
              "      <td>0.0</td>\n",
              "      <td>0.0</td>\n",
              "      <td>0.0</td>\n",
              "      <td>0.0</td>\n",
              "      <td>0.0</td>\n",
              "      <td>0.0</td>\n",
              "      <td>0.0</td>\n",
              "      <td>0.0</td>\n",
              "    </tr>\n",
              "    <tr>\n",
              "      <th>4</th>\n",
              "      <td>201829</td>\n",
              "      <td>36.333333</td>\n",
              "      <td>179.0</td>\n",
              "      <td>3</td>\n",
              "      <td>1</td>\n",
              "      <td>0</td>\n",
              "      <td>1</td>\n",
              "      <td>0</td>\n",
              "      <td>NaN</td>\n",
              "      <td>NaN</td>\n",
              "      <td>...</td>\n",
              "      <td>0.0</td>\n",
              "      <td>1</td>\n",
              "      <td>0.0</td>\n",
              "      <td>0.0</td>\n",
              "      <td>0.0</td>\n",
              "      <td>0.0</td>\n",
              "      <td>0.0</td>\n",
              "      <td>0.0</td>\n",
              "      <td>0.0</td>\n",
              "      <td>0.0</td>\n",
              "    </tr>\n",
              "  </tbody>\n",
              "</table>\n",
              "<p>5 rows × 167 columns</p>\n",
              "</div>\n",
              "      <button class=\"colab-df-convert\" onclick=\"convertToInteractive('df-4a7df818-013c-40ae-b133-22f4a3a4b6f3')\"\n",
              "              title=\"Convert this dataframe to an interactive table.\"\n",
              "              style=\"display:none;\">\n",
              "        \n",
              "  <svg xmlns=\"http://www.w3.org/2000/svg\" height=\"24px\"viewBox=\"0 0 24 24\"\n",
              "       width=\"24px\">\n",
              "    <path d=\"M0 0h24v24H0V0z\" fill=\"none\"/>\n",
              "    <path d=\"M18.56 5.44l.94 2.06.94-2.06 2.06-.94-2.06-.94-.94-2.06-.94 2.06-2.06.94zm-11 1L8.5 8.5l.94-2.06 2.06-.94-2.06-.94L8.5 2.5l-.94 2.06-2.06.94zm10 10l.94 2.06.94-2.06 2.06-.94-2.06-.94-.94-2.06-.94 2.06-2.06.94z\"/><path d=\"M17.41 7.96l-1.37-1.37c-.4-.4-.92-.59-1.43-.59-.52 0-1.04.2-1.43.59L10.3 9.45l-7.72 7.72c-.78.78-.78 2.05 0 2.83L4 21.41c.39.39.9.59 1.41.59.51 0 1.02-.2 1.41-.59l7.78-7.78 2.81-2.81c.8-.78.8-2.07 0-2.86zM5.41 20L4 18.59l7.72-7.72 1.47 1.35L5.41 20z\"/>\n",
              "  </svg>\n",
              "      </button>\n",
              "      \n",
              "  <style>\n",
              "    .colab-df-container {\n",
              "      display:flex;\n",
              "      flex-wrap:wrap;\n",
              "      gap: 12px;\n",
              "    }\n",
              "\n",
              "    .colab-df-convert {\n",
              "      background-color: #E8F0FE;\n",
              "      border: none;\n",
              "      border-radius: 50%;\n",
              "      cursor: pointer;\n",
              "      display: none;\n",
              "      fill: #1967D2;\n",
              "      height: 32px;\n",
              "      padding: 0 0 0 0;\n",
              "      width: 32px;\n",
              "    }\n",
              "\n",
              "    .colab-df-convert:hover {\n",
              "      background-color: #E2EBFA;\n",
              "      box-shadow: 0px 1px 2px rgba(60, 64, 67, 0.3), 0px 1px 3px 1px rgba(60, 64, 67, 0.15);\n",
              "      fill: #174EA6;\n",
              "    }\n",
              "\n",
              "    [theme=dark] .colab-df-convert {\n",
              "      background-color: #3B4455;\n",
              "      fill: #D2E3FC;\n",
              "    }\n",
              "\n",
              "    [theme=dark] .colab-df-convert:hover {\n",
              "      background-color: #434B5C;\n",
              "      box-shadow: 0px 1px 3px 1px rgba(0, 0, 0, 0.15);\n",
              "      filter: drop-shadow(0px 1px 2px rgba(0, 0, 0, 0.3));\n",
              "      fill: #FFFFFF;\n",
              "    }\n",
              "  </style>\n",
              "\n",
              "      <script>\n",
              "        const buttonEl =\n",
              "          document.querySelector('#df-4a7df818-013c-40ae-b133-22f4a3a4b6f3 button.colab-df-convert');\n",
              "        buttonEl.style.display =\n",
              "          google.colab.kernel.accessAllowed ? 'block' : 'none';\n",
              "\n",
              "        async function convertToInteractive(key) {\n",
              "          const element = document.querySelector('#df-4a7df818-013c-40ae-b133-22f4a3a4b6f3');\n",
              "          const dataTable =\n",
              "            await google.colab.kernel.invokeFunction('convertToInteractive',\n",
              "                                                     [key], {});\n",
              "          if (!dataTable) return;\n",
              "\n",
              "          const docLinkHtml = 'Like what you see? Visit the ' +\n",
              "            '<a target=\"_blank\" href=https://colab.research.google.com/notebooks/data_table.ipynb>data table notebook</a>'\n",
              "            + ' to learn more about interactive tables.';\n",
              "          element.innerHTML = '';\n",
              "          dataTable['output_type'] = 'display_data';\n",
              "          await google.colab.output.renderOutput(dataTable, element);\n",
              "          const docLink = document.createElement('div');\n",
              "          docLink.innerHTML = docLinkHtml;\n",
              "          element.appendChild(docLink);\n",
              "        }\n",
              "      </script>\n",
              "    </div>\n",
              "  </div>\n",
              "  "
            ]
          },
          "metadata": {},
          "execution_count": 31
        }
      ]
    },
    {
      "cell_type": "code",
      "source": [
        "aggregated.shape"
      ],
      "metadata": {
        "colab": {
          "base_uri": "https://localhost:8080/"
        },
        "id": "F9VrY4yx634y",
        "outputId": "dc934c8e-366a-49c9-b741-5fda9335513c"
      },
      "execution_count": null,
      "outputs": [
        {
          "output_type": "execute_result",
          "data": {
            "text/plain": [
              "(757, 167)"
            ]
          },
          "metadata": {},
          "execution_count": 32
        }
      ]
    },
    {
      "cell_type": "code",
      "source": [
        "aggregated = aggregated.drop_duplicates()"
      ],
      "metadata": {
        "id": "k-r9q2O4657J"
      },
      "execution_count": null,
      "outputs": []
    },
    {
      "cell_type": "code",
      "source": [
        "aggregated.shape"
      ],
      "metadata": {
        "colab": {
          "base_uri": "https://localhost:8080/"
        },
        "id": "8Nz0FXGg7I9Y",
        "outputId": "5167952b-4e11-4b00-adf4-3ace1b878ee6"
      },
      "execution_count": null,
      "outputs": [
        {
          "output_type": "execute_result",
          "data": {
            "text/plain": [
              "(757, 167)"
            ]
          },
          "metadata": {},
          "execution_count": 34
        }
      ]
    },
    {
      "cell_type": "code",
      "source": [
        "aggregated_n = aggregated.drop(['icustay_id'],axis =1)"
      ],
      "metadata": {
        "id": "KzezaSIv7QLd"
      },
      "execution_count": null,
      "outputs": []
    },
    {
      "cell_type": "code",
      "source": [
        "# static = static.drop(['stay_id', 'alcohol_abuse', 'obesity', 'hypertension'],axis =1)"
      ],
      "metadata": {
        "id": "onbq2nmSFX-Z"
      },
      "execution_count": null,
      "outputs": []
    },
    {
      "cell_type": "code",
      "source": [
        "aggregated_n.head() "
      ],
      "metadata": {
        "colab": {
          "base_uri": "https://localhost:8080/",
          "height": 317
        },
        "id": "pEmP4_N8F_CX",
        "outputId": "e529dee1-ba7f-45f9-c445-7d58b6bed795"
      },
      "execution_count": null,
      "outputs": [
        {
          "output_type": "execute_result",
          "data": {
            "text/plain": [
              "   min tempc  min glucose  min gcs  min gcsmotor  min gcsverbal  min gcseyes  \\\n",
              "0  36.833333        183.0        5             3              0            1   \n",
              "1  35.444446        134.0        3             1              0            1   \n",
              "2  36.111111         90.5       15             1              0            1   \n",
              "3  36.777776        156.0       15             2              0            1   \n",
              "4  36.333333        179.0        3             1              0            1   \n",
              "\n",
              "   min endotrachflag  min bg_po2  min bg_pco2  min bg_pao2fio2ratio  ...  \\\n",
              "0                  0       154.0         33.0            308.000000  ...   \n",
              "1                  0       113.0         27.0            233.333324  ...   \n",
              "2                  1       158.0         31.0            395.000000  ...   \n",
              "3                  1       202.0         42.0            504.999993  ...   \n",
              "4                  0         NaN          NaN                   NaN  ...   \n",
              "\n",
              "   heart_failure  hypertension  paralysis  diabetes_complicated  \\\n",
              "0            0.0             1        0.0                   0.0   \n",
              "1            NaN             0        NaN                   NaN   \n",
              "2            0.0             0        0.0                   0.0   \n",
              "3            0.0             1        0.0                   0.0   \n",
              "4            0.0             1        0.0                   0.0   \n",
              "\n",
              "   metastatic_cancer  obesity  weight_loss  alcohol_abuse  drug_abuse  \\\n",
              "0                0.0      0.0          0.0            0.0         0.0   \n",
              "1                NaN      NaN          NaN            NaN         NaN   \n",
              "2                0.0      0.0          0.0            0.0         0.0   \n",
              "3                0.0      0.0          0.0            0.0         0.0   \n",
              "4                0.0      0.0          0.0            0.0         0.0   \n",
              "\n",
              "   depression  \n",
              "0         0.0  \n",
              "1         NaN  \n",
              "2         0.0  \n",
              "3         0.0  \n",
              "4         0.0  \n",
              "\n",
              "[5 rows x 166 columns]"
            ],
            "text/html": [
              "\n",
              "  <div id=\"df-6504ec0d-918e-4846-b72b-f934c2b7b45e\">\n",
              "    <div class=\"colab-df-container\">\n",
              "      <div>\n",
              "<style scoped>\n",
              "    .dataframe tbody tr th:only-of-type {\n",
              "        vertical-align: middle;\n",
              "    }\n",
              "\n",
              "    .dataframe tbody tr th {\n",
              "        vertical-align: top;\n",
              "    }\n",
              "\n",
              "    .dataframe thead th {\n",
              "        text-align: right;\n",
              "    }\n",
              "</style>\n",
              "<table border=\"1\" class=\"dataframe\">\n",
              "  <thead>\n",
              "    <tr style=\"text-align: right;\">\n",
              "      <th></th>\n",
              "      <th>min tempc</th>\n",
              "      <th>min glucose</th>\n",
              "      <th>min gcs</th>\n",
              "      <th>min gcsmotor</th>\n",
              "      <th>min gcsverbal</th>\n",
              "      <th>min gcseyes</th>\n",
              "      <th>min endotrachflag</th>\n",
              "      <th>min bg_po2</th>\n",
              "      <th>min bg_pco2</th>\n",
              "      <th>min bg_pao2fio2ratio</th>\n",
              "      <th>...</th>\n",
              "      <th>heart_failure</th>\n",
              "      <th>hypertension</th>\n",
              "      <th>paralysis</th>\n",
              "      <th>diabetes_complicated</th>\n",
              "      <th>metastatic_cancer</th>\n",
              "      <th>obesity</th>\n",
              "      <th>weight_loss</th>\n",
              "      <th>alcohol_abuse</th>\n",
              "      <th>drug_abuse</th>\n",
              "      <th>depression</th>\n",
              "    </tr>\n",
              "  </thead>\n",
              "  <tbody>\n",
              "    <tr>\n",
              "      <th>0</th>\n",
              "      <td>36.833333</td>\n",
              "      <td>183.0</td>\n",
              "      <td>5</td>\n",
              "      <td>3</td>\n",
              "      <td>0</td>\n",
              "      <td>1</td>\n",
              "      <td>0</td>\n",
              "      <td>154.0</td>\n",
              "      <td>33.0</td>\n",
              "      <td>308.000000</td>\n",
              "      <td>...</td>\n",
              "      <td>0.0</td>\n",
              "      <td>1</td>\n",
              "      <td>0.0</td>\n",
              "      <td>0.0</td>\n",
              "      <td>0.0</td>\n",
              "      <td>0.0</td>\n",
              "      <td>0.0</td>\n",
              "      <td>0.0</td>\n",
              "      <td>0.0</td>\n",
              "      <td>0.0</td>\n",
              "    </tr>\n",
              "    <tr>\n",
              "      <th>1</th>\n",
              "      <td>35.444446</td>\n",
              "      <td>134.0</td>\n",
              "      <td>3</td>\n",
              "      <td>1</td>\n",
              "      <td>0</td>\n",
              "      <td>1</td>\n",
              "      <td>0</td>\n",
              "      <td>113.0</td>\n",
              "      <td>27.0</td>\n",
              "      <td>233.333324</td>\n",
              "      <td>...</td>\n",
              "      <td>NaN</td>\n",
              "      <td>0</td>\n",
              "      <td>NaN</td>\n",
              "      <td>NaN</td>\n",
              "      <td>NaN</td>\n",
              "      <td>NaN</td>\n",
              "      <td>NaN</td>\n",
              "      <td>NaN</td>\n",
              "      <td>NaN</td>\n",
              "      <td>NaN</td>\n",
              "    </tr>\n",
              "    <tr>\n",
              "      <th>2</th>\n",
              "      <td>36.111111</td>\n",
              "      <td>90.5</td>\n",
              "      <td>15</td>\n",
              "      <td>1</td>\n",
              "      <td>0</td>\n",
              "      <td>1</td>\n",
              "      <td>1</td>\n",
              "      <td>158.0</td>\n",
              "      <td>31.0</td>\n",
              "      <td>395.000000</td>\n",
              "      <td>...</td>\n",
              "      <td>0.0</td>\n",
              "      <td>0</td>\n",
              "      <td>0.0</td>\n",
              "      <td>0.0</td>\n",
              "      <td>0.0</td>\n",
              "      <td>0.0</td>\n",
              "      <td>0.0</td>\n",
              "      <td>0.0</td>\n",
              "      <td>0.0</td>\n",
              "      <td>0.0</td>\n",
              "    </tr>\n",
              "    <tr>\n",
              "      <th>3</th>\n",
              "      <td>36.777776</td>\n",
              "      <td>156.0</td>\n",
              "      <td>15</td>\n",
              "      <td>2</td>\n",
              "      <td>0</td>\n",
              "      <td>1</td>\n",
              "      <td>1</td>\n",
              "      <td>202.0</td>\n",
              "      <td>42.0</td>\n",
              "      <td>504.999993</td>\n",
              "      <td>...</td>\n",
              "      <td>0.0</td>\n",
              "      <td>1</td>\n",
              "      <td>0.0</td>\n",
              "      <td>0.0</td>\n",
              "      <td>0.0</td>\n",
              "      <td>0.0</td>\n",
              "      <td>0.0</td>\n",
              "      <td>0.0</td>\n",
              "      <td>0.0</td>\n",
              "      <td>0.0</td>\n",
              "    </tr>\n",
              "    <tr>\n",
              "      <th>4</th>\n",
              "      <td>36.333333</td>\n",
              "      <td>179.0</td>\n",
              "      <td>3</td>\n",
              "      <td>1</td>\n",
              "      <td>0</td>\n",
              "      <td>1</td>\n",
              "      <td>0</td>\n",
              "      <td>NaN</td>\n",
              "      <td>NaN</td>\n",
              "      <td>NaN</td>\n",
              "      <td>...</td>\n",
              "      <td>0.0</td>\n",
              "      <td>1</td>\n",
              "      <td>0.0</td>\n",
              "      <td>0.0</td>\n",
              "      <td>0.0</td>\n",
              "      <td>0.0</td>\n",
              "      <td>0.0</td>\n",
              "      <td>0.0</td>\n",
              "      <td>0.0</td>\n",
              "      <td>0.0</td>\n",
              "    </tr>\n",
              "  </tbody>\n",
              "</table>\n",
              "<p>5 rows × 166 columns</p>\n",
              "</div>\n",
              "      <button class=\"colab-df-convert\" onclick=\"convertToInteractive('df-6504ec0d-918e-4846-b72b-f934c2b7b45e')\"\n",
              "              title=\"Convert this dataframe to an interactive table.\"\n",
              "              style=\"display:none;\">\n",
              "        \n",
              "  <svg xmlns=\"http://www.w3.org/2000/svg\" height=\"24px\"viewBox=\"0 0 24 24\"\n",
              "       width=\"24px\">\n",
              "    <path d=\"M0 0h24v24H0V0z\" fill=\"none\"/>\n",
              "    <path d=\"M18.56 5.44l.94 2.06.94-2.06 2.06-.94-2.06-.94-.94-2.06-.94 2.06-2.06.94zm-11 1L8.5 8.5l.94-2.06 2.06-.94-2.06-.94L8.5 2.5l-.94 2.06-2.06.94zm10 10l.94 2.06.94-2.06 2.06-.94-2.06-.94-.94-2.06-.94 2.06-2.06.94z\"/><path d=\"M17.41 7.96l-1.37-1.37c-.4-.4-.92-.59-1.43-.59-.52 0-1.04.2-1.43.59L10.3 9.45l-7.72 7.72c-.78.78-.78 2.05 0 2.83L4 21.41c.39.39.9.59 1.41.59.51 0 1.02-.2 1.41-.59l7.78-7.78 2.81-2.81c.8-.78.8-2.07 0-2.86zM5.41 20L4 18.59l7.72-7.72 1.47 1.35L5.41 20z\"/>\n",
              "  </svg>\n",
              "      </button>\n",
              "      \n",
              "  <style>\n",
              "    .colab-df-container {\n",
              "      display:flex;\n",
              "      flex-wrap:wrap;\n",
              "      gap: 12px;\n",
              "    }\n",
              "\n",
              "    .colab-df-convert {\n",
              "      background-color: #E8F0FE;\n",
              "      border: none;\n",
              "      border-radius: 50%;\n",
              "      cursor: pointer;\n",
              "      display: none;\n",
              "      fill: #1967D2;\n",
              "      height: 32px;\n",
              "      padding: 0 0 0 0;\n",
              "      width: 32px;\n",
              "    }\n",
              "\n",
              "    .colab-df-convert:hover {\n",
              "      background-color: #E2EBFA;\n",
              "      box-shadow: 0px 1px 2px rgba(60, 64, 67, 0.3), 0px 1px 3px 1px rgba(60, 64, 67, 0.15);\n",
              "      fill: #174EA6;\n",
              "    }\n",
              "\n",
              "    [theme=dark] .colab-df-convert {\n",
              "      background-color: #3B4455;\n",
              "      fill: #D2E3FC;\n",
              "    }\n",
              "\n",
              "    [theme=dark] .colab-df-convert:hover {\n",
              "      background-color: #434B5C;\n",
              "      box-shadow: 0px 1px 3px 1px rgba(0, 0, 0, 0.15);\n",
              "      filter: drop-shadow(0px 1px 2px rgba(0, 0, 0, 0.3));\n",
              "      fill: #FFFFFF;\n",
              "    }\n",
              "  </style>\n",
              "\n",
              "      <script>\n",
              "        const buttonEl =\n",
              "          document.querySelector('#df-6504ec0d-918e-4846-b72b-f934c2b7b45e button.colab-df-convert');\n",
              "        buttonEl.style.display =\n",
              "          google.colab.kernel.accessAllowed ? 'block' : 'none';\n",
              "\n",
              "        async function convertToInteractive(key) {\n",
              "          const element = document.querySelector('#df-6504ec0d-918e-4846-b72b-f934c2b7b45e');\n",
              "          const dataTable =\n",
              "            await google.colab.kernel.invokeFunction('convertToInteractive',\n",
              "                                                     [key], {});\n",
              "          if (!dataTable) return;\n",
              "\n",
              "          const docLinkHtml = 'Like what you see? Visit the ' +\n",
              "            '<a target=\"_blank\" href=https://colab.research.google.com/notebooks/data_table.ipynb>data table notebook</a>'\n",
              "            + ' to learn more about interactive tables.';\n",
              "          element.innerHTML = '';\n",
              "          dataTable['output_type'] = 'display_data';\n",
              "          await google.colab.output.renderOutput(dataTable, element);\n",
              "          const docLink = document.createElement('div');\n",
              "          docLink.innerHTML = docLinkHtml;\n",
              "          element.appendChild(docLink);\n",
              "        }\n",
              "      </script>\n",
              "    </div>\n",
              "  </div>\n",
              "  "
            ]
          },
          "metadata": {},
          "execution_count": 36
        }
      ]
    },
    {
      "cell_type": "code",
      "source": [
        "aggregated_imp = MICE().fit_transform(aggregated_n)"
      ],
      "metadata": {
        "colab": {
          "base_uri": "https://localhost:8080/"
        },
        "id": "_cs5etrbfJhG",
        "outputId": "6fe83df9-d0bb-4803-a7da-b685bb42a2b0"
      },
      "execution_count": null,
      "outputs": [
        {
          "output_type": "stream",
          "name": "stderr",
          "text": [
            "/usr/local/lib/python3.7/dist-packages/sklearn/impute/_iterative.py:701: ConvergenceWarning: [IterativeImputer] Early stopping criterion not reached.\n",
            "  ConvergenceWarning,\n"
          ]
        }
      ]
    },
    {
      "cell_type": "code",
      "source": [
        "aggregated_sc = x_scaler.fit_transform(aggregated_imp)"
      ],
      "metadata": {
        "id": "lgal54_s-2q-"
      },
      "execution_count": null,
      "outputs": []
    },
    {
      "cell_type": "code",
      "source": [
        "aggregated_sc.shape"
      ],
      "metadata": {
        "colab": {
          "base_uri": "https://localhost:8080/"
        },
        "id": "PnFZkiDQGE2J",
        "outputId": "a01ae29d-779d-43c5-8d97-d8b19bbf9a8f"
      },
      "execution_count": null,
      "outputs": [
        {
          "output_type": "execute_result",
          "data": {
            "text/plain": [
              "(757, 161)"
            ]
          },
          "metadata": {},
          "execution_count": 39
        }
      ]
    },
    {
      "cell_type": "code",
      "source": [
        "a_array = np.array(aggregated_sc)"
      ],
      "metadata": {
        "id": "8OW2EfMWgUb3"
      },
      "execution_count": null,
      "outputs": []
    },
    {
      "cell_type": "code",
      "source": [
        "a_array.shape"
      ],
      "metadata": {
        "colab": {
          "base_uri": "https://localhost:8080/"
        },
        "id": "IWrzTBwtgfCS",
        "outputId": "011cb8ae-8639-457f-adca-9fddfa22205c"
      },
      "execution_count": null,
      "outputs": [
        {
          "output_type": "execute_result",
          "data": {
            "text/plain": [
              "(757, 161)"
            ]
          },
          "metadata": {},
          "execution_count": 41
        }
      ]
    },
    {
      "cell_type": "markdown",
      "source": [
        "**Train-Test Splitting**"
      ],
      "metadata": {
        "id": "2W-42aKoAWWY"
      }
    },
    {
      "cell_type": "code",
      "source": [
        "from sklearn.model_selection import train_test_split"
      ],
      "metadata": {
        "id": "r8A_2b42C0fe"
      },
      "execution_count": null,
      "outputs": []
    },
    {
      "cell_type": "code",
      "source": [
        "X_train, X_test, y_train, y_test,x_train_a, x_test_a = train_test_split(time_features, m_array,a_array, test_size=0.2, random_state=42)"
      ],
      "metadata": {
        "id": "JYgFpVRbC1w8"
      },
      "execution_count": null,
      "outputs": []
    },
    {
      "cell_type": "code",
      "source": [
        "X_train.shape"
      ],
      "metadata": {
        "colab": {
          "base_uri": "https://localhost:8080/"
        },
        "id": "RLn2fqepDEw2",
        "outputId": "bf8866c7-1ff9-4e01-dbf6-5fb3a70341bd"
      },
      "execution_count": null,
      "outputs": [
        {
          "output_type": "execute_result",
          "data": {
            "text/plain": [
              "(605, 24, 7)"
            ]
          },
          "metadata": {},
          "execution_count": 44
        }
      ]
    },
    {
      "cell_type": "code",
      "source": [
        "X_test.shape"
      ],
      "metadata": {
        "colab": {
          "base_uri": "https://localhost:8080/"
        },
        "id": "yzcow3u2DWTB",
        "outputId": "e5534049-260a-45d8-8fd0-78ace0d8b190"
      },
      "execution_count": null,
      "outputs": [
        {
          "output_type": "execute_result",
          "data": {
            "text/plain": [
              "(152, 24, 7)"
            ]
          },
          "metadata": {},
          "execution_count": 45
        }
      ]
    },
    {
      "cell_type": "code",
      "source": [
        "x_train_a.shape"
      ],
      "metadata": {
        "colab": {
          "base_uri": "https://localhost:8080/"
        },
        "id": "i64n-hvlZPaW",
        "outputId": "af1d66ff-c764-4431-e125-197dfd33cbb5"
      },
      "execution_count": null,
      "outputs": [
        {
          "output_type": "execute_result",
          "data": {
            "text/plain": [
              "(605, 161)"
            ]
          },
          "metadata": {},
          "execution_count": 46
        }
      ]
    },
    {
      "cell_type": "markdown",
      "source": [
        "**FEAS_Fusion Model**"
      ],
      "metadata": {
        "id": "zO5y56b4u7eu"
      }
    },
    {
      "cell_type": "code",
      "source": [
        "from tensorflow.keras.layers import Dense,LSTM,Activation,Dropout,BatchNormalization,Input,Embedding,Bidirectional,Reshape,Concatenate, GRU, Input, ZeroPadding2D, Convolution2D, MaxPooling2D\n",
        "from tensorflow.keras import Sequential, Model"
      ],
      "metadata": {
        "id": "MPnmfxgN211y"
      },
      "execution_count": null,
      "outputs": []
    },
    {
      "cell_type": "code",
      "source": [
        "from tensorflow.keras import regularizers"
      ],
      "metadata": {
        "id": "ilvb56ZNmjQe"
      },
      "execution_count": null,
      "outputs": []
    },
    {
      "cell_type": "code",
      "source": [
        "import tensorflow as tf\n",
        "import tensorflow.keras.backend as K\n",
        "from typeguard import typechecked"
      ],
      "metadata": {
        "id": "M60fVmNPNhP_"
      },
      "execution_count": null,
      "outputs": []
    },
    {
      "cell_type": "code",
      "source": [
        "pip install tensorflow-addons"
      ],
      "metadata": {
        "colab": {
          "base_uri": "https://localhost:8080/"
        },
        "id": "Y82E1nuId_ld",
        "outputId": "11347594-15c9-468e-df74-b86edc46ac41"
      },
      "execution_count": null,
      "outputs": [
        {
          "output_type": "stream",
          "name": "stdout",
          "text": [
            "Looking in indexes: https://pypi.org/simple, https://us-python.pkg.dev/colab-wheels/public/simple/\n",
            "Collecting tensorflow-addons\n",
            "  Downloading tensorflow_addons-0.17.1-cp37-cp37m-manylinux_2_17_x86_64.manylinux2014_x86_64.whl (1.1 MB)\n",
            "\u001b[K     |████████████████████████████████| 1.1 MB 31.1 MB/s \n",
            "\u001b[?25hRequirement already satisfied: typeguard>=2.7 in /usr/local/lib/python3.7/dist-packages (from tensorflow-addons) (2.7.1)\n",
            "Requirement already satisfied: packaging in /usr/local/lib/python3.7/dist-packages (from tensorflow-addons) (21.3)\n",
            "Requirement already satisfied: pyparsing!=3.0.5,>=2.0.2 in /usr/local/lib/python3.7/dist-packages (from packaging->tensorflow-addons) (3.0.9)\n",
            "Installing collected packages: tensorflow-addons\n",
            "Successfully installed tensorflow-addons-0.17.1\n"
          ]
        }
      ]
    },
    {
      "cell_type": "code",
      "source": [
        "import tensorflow_addons as tfa"
      ],
      "metadata": {
        "id": "S0tyfoTed4mV"
      },
      "execution_count": null,
      "outputs": []
    },
    {
      "cell_type": "code",
      "source": [
        "# timesteps and the number of features\n",
        "timesteps = 24\n",
        "temporal_features = 7\n",
        "output = 1\n",
        "epochs = 100\n",
        "batch_size = 32"
      ],
      "metadata": {
        "id": "c0wGjtgPOawd"
      },
      "execution_count": null,
      "outputs": []
    },
    {
      "cell_type": "code",
      "source": [
        "\n",
        "LSTM_input = Input(shape=(timesteps,temporal_features))\n",
        "\n",
        "aggregated_input = Input(shape=(x_train_a.shape[1], ))\n",
        "\n",
        "# LSTM Layers\n",
        "\n",
        "# LSTM layer1\n",
        "\n",
        "LSTM_layer1 = Bidirectional(LSTM(128,kernel_regularizer=regularizers.l2(0.01), recurrent_regularizer=regularizers.l2(0.01), return_sequences=True))(LSTM_input)\n",
        "\n",
        "LSTM_layer1 = Dropout(0.1)(LSTM_layer1)\n",
        "\n",
        "# LSTM layer2\n",
        "\n",
        "LSTM_layer2 = Bidirectional(LSTM(64,kernel_regularizer=regularizers.l2(0.01), recurrent_regularizer=regularizers.l2(0.01) ))(LSTM_layer1)\n",
        "\n",
        "LSTM_layer2 = Dropout(0.1)(LSTM_layer2)\n",
        "\n",
        "\n",
        "# Fully Connected Layers\n",
        "\n",
        "Fc_layer1 = Dense(128,kernel_regularizer=regularizers.l2(0.001), activation='relu')(aggregated_input)\n",
        "Fc_layer2 = Dense(64,kernel_regularizer=regularizers.l2(0.001), activation='relu')(Fc_layer1)\n",
        "Fc_layer2 = Dropout(0.1)(Fc_layer2)\n",
        "\n",
        "# Final layers - LSTM + FC\n",
        "\n",
        "fina_combined = Concatenate(axis= 1)([Fc_layer2,LSTM_layer2])\n",
        "\n",
        "final_combined_1 = Dense(64, activation='relu')(fina_combined)\n",
        "\n",
        "final_output = Dense(output,activation='sigmoid')(final_combined_1)\n",
        "\n",
        "# Compile Model\n",
        "\n",
        "model = Model(inputs=[LSTM_input,aggregated_input],outputs=[final_output])\n",
        "\n",
        "# binary cross entropy loss\n",
        "\n",
        "#model.compile(loss='binary_crossentropy', optimizer='Adam', metrics=['accuracy'])\n",
        "\n",
        "def focal_loss_custom(alpha, gamma):\n",
        "\n",
        "    # gamma = float(gamma)\n",
        "    # alpha = float(alpha)\n",
        "\n",
        "    def binary_focal_loss(y_true, y_pred):\n",
        "        # \"\"\"Focal loss for multi-classification\n",
        "        # FL(p_t)=-alpha(1-p_t)^{gamma}ln(p_t)\n",
        "        # Notice: y_pred is probability after softmax\n",
        "        # gradient is d(Fl)/d(p_t) not d(Fl)/d(x) as described in paper\n",
        "        # d(Fl)/d(p_t) * [p_t(1-p_t)] = d(Fl)/d(x)\n",
        "        # Focal Loss for Dense Object Detection\n",
        "        # https://arxiv.org/abs/1708.02002\n",
        "\n",
        "        # Arguments:\n",
        "        #     y_true {tensor} -- ground truth labels, shape of [batch_size, num_cls]\n",
        "        #     y_pred {tensor} -- model's output, shape of [batch_size, num_cls]\n",
        "\n",
        "        # Keyword Arguments:\n",
        "        #     gamma {float} -- (default: {2.0})\n",
        "        #     alpha {float} -- (default: {4.0})\n",
        "\n",
        "        # Returns:\n",
        "        #     [tensor] -- loss.\n",
        "        # \"\"\"\n",
        "        fl = tfa.losses.SigmoidFocalCrossEntropy(alpha=alpha, gamma=gamma)\n",
        "        y_true_K = K.ones_like(y_true)\n",
        "        focal_loss = fl(y_true, y_pred)\n",
        "        return focal_loss\n",
        "    return binary_focal_loss\n",
        "\n",
        "model.compile(loss=focal_loss_custom(alpha=0.2, gamma=2.0), optimizer='adam', metrics=['accuracy'])\n",
        "model.summary()"
      ],
      "metadata": {
        "colab": {
          "base_uri": "https://localhost:8080/"
        },
        "id": "kcCWeNwK-owe",
        "outputId": "e294eb31-2b8a-4d64-fb69-a56366c94b97"
      },
      "execution_count": null,
      "outputs": [
        {
          "output_type": "stream",
          "name": "stdout",
          "text": [
            "Model: \"model\"\n",
            "__________________________________________________________________________________________________\n",
            " Layer (type)                   Output Shape         Param #     Connected to                     \n",
            "==================================================================================================\n",
            " input_1 (InputLayer)           [(None, 24, 7)]      0           []                               \n",
            "                                                                                                  \n",
            " input_2 (InputLayer)           [(None, 161)]        0           []                               \n",
            "                                                                                                  \n",
            " bidirectional (Bidirectional)  (None, 24, 256)      139264      ['input_1[0][0]']                \n",
            "                                                                                                  \n",
            " dense (Dense)                  (None, 128)          20736       ['input_2[0][0]']                \n",
            "                                                                                                  \n",
            " dropout (Dropout)              (None, 24, 256)      0           ['bidirectional[0][0]']          \n",
            "                                                                                                  \n",
            " dense_1 (Dense)                (None, 64)           8256        ['dense[0][0]']                  \n",
            "                                                                                                  \n",
            " bidirectional_1 (Bidirectional  (None, 128)         164352      ['dropout[0][0]']                \n",
            " )                                                                                                \n",
            "                                                                                                  \n",
            " dropout_2 (Dropout)            (None, 64)           0           ['dense_1[0][0]']                \n",
            "                                                                                                  \n",
            " dropout_1 (Dropout)            (None, 128)          0           ['bidirectional_1[0][0]']        \n",
            "                                                                                                  \n",
            " concatenate (Concatenate)      (None, 192)          0           ['dropout_2[0][0]',              \n",
            "                                                                  'dropout_1[0][0]']              \n",
            "                                                                                                  \n",
            " dense_2 (Dense)                (None, 64)           12352       ['concatenate[0][0]']            \n",
            "                                                                                                  \n",
            " dense_3 (Dense)                (None, 1)            65          ['dense_2[0][0]']                \n",
            "                                                                                                  \n",
            "==================================================================================================\n",
            "Total params: 345,025\n",
            "Trainable params: 345,025\n",
            "Non-trainable params: 0\n",
            "__________________________________________________________________________________________________\n"
          ]
        }
      ]
    },
    {
      "cell_type": "code",
      "source": [
        "# fit network\n",
        "\n",
        "history =  model.fit([X_train, x_train_a], y_train, epochs=epochs, batch_size=batch_size)\n",
        "\n"
      ],
      "metadata": {
        "colab": {
          "base_uri": "https://localhost:8080/"
        },
        "id": "SMeNRuBhOpI6",
        "outputId": "f3b7feee-a31e-4bfc-fa14-11149327da0f"
      },
      "execution_count": null,
      "outputs": [
        {
          "output_type": "stream",
          "name": "stdout",
          "text": [
            "Epoch 1/100\n",
            "19/19 [==============================] - 19s 88ms/step - loss: 7.3820 - accuracy: 0.5934\n",
            "Epoch 2/100\n",
            "19/19 [==============================] - 2s 85ms/step - loss: 4.0566 - accuracy: 0.6066\n",
            "Epoch 3/100\n",
            "19/19 [==============================] - 2s 86ms/step - loss: 2.1867 - accuracy: 0.6512\n",
            "Epoch 4/100\n",
            "19/19 [==============================] - 2s 86ms/step - loss: 1.1781 - accuracy: 0.6512\n",
            "Epoch 5/100\n",
            "19/19 [==============================] - 2s 82ms/step - loss: 0.6466 - accuracy: 0.6926\n",
            "Epoch 6/100\n",
            "19/19 [==============================] - 2s 84ms/step - loss: 0.3703 - accuracy: 0.7157\n",
            "Epoch 7/100\n",
            "19/19 [==============================] - 2s 85ms/step - loss: 0.2314 - accuracy: 0.7008\n",
            "Epoch 8/100\n",
            "19/19 [==============================] - 2s 85ms/step - loss: 0.1564 - accuracy: 0.7537\n",
            "Epoch 9/100\n",
            "19/19 [==============================] - 2s 87ms/step - loss: 0.1203 - accuracy: 0.7058\n",
            "Epoch 10/100\n",
            "19/19 [==============================] - 2s 84ms/step - loss: 0.0981 - accuracy: 0.7421\n",
            "Epoch 11/100\n",
            "19/19 [==============================] - 2s 87ms/step - loss: 0.0848 - accuracy: 0.7421\n",
            "Epoch 12/100\n",
            "19/19 [==============================] - 2s 86ms/step - loss: 0.0776 - accuracy: 0.7570\n",
            "Epoch 13/100\n",
            "19/19 [==============================] - 2s 86ms/step - loss: 0.0728 - accuracy: 0.7455\n",
            "Epoch 14/100\n",
            "19/19 [==============================] - 2s 89ms/step - loss: 0.0672 - accuracy: 0.7339\n",
            "Epoch 15/100\n",
            "19/19 [==============================] - 2s 85ms/step - loss: 0.0656 - accuracy: 0.7570\n",
            "Epoch 16/100\n",
            "19/19 [==============================] - 2s 88ms/step - loss: 0.0637 - accuracy: 0.7355\n",
            "Epoch 17/100\n",
            "19/19 [==============================] - 2s 86ms/step - loss: 0.0598 - accuracy: 0.7620\n",
            "Epoch 18/100\n",
            "19/19 [==============================] - 2s 88ms/step - loss: 0.0591 - accuracy: 0.7488\n",
            "Epoch 19/100\n",
            "19/19 [==============================] - 2s 84ms/step - loss: 0.0591 - accuracy: 0.7488\n",
            "Epoch 20/100\n",
            "19/19 [==============================] - 2s 84ms/step - loss: 0.0561 - accuracy: 0.7471\n",
            "Epoch 21/100\n",
            "19/19 [==============================] - 2s 86ms/step - loss: 0.0543 - accuracy: 0.7488\n",
            "Epoch 22/100\n",
            "19/19 [==============================] - 2s 84ms/step - loss: 0.0533 - accuracy: 0.7438\n",
            "Epoch 23/100\n",
            "19/19 [==============================] - 2s 84ms/step - loss: 0.0529 - accuracy: 0.7653\n",
            "Epoch 24/100\n",
            "19/19 [==============================] - 2s 88ms/step - loss: 0.0521 - accuracy: 0.7471\n",
            "Epoch 25/100\n",
            "19/19 [==============================] - 2s 84ms/step - loss: 0.0546 - accuracy: 0.7322\n",
            "Epoch 26/100\n",
            "19/19 [==============================] - 2s 85ms/step - loss: 0.0507 - accuracy: 0.7504\n",
            "Epoch 27/100\n",
            "19/19 [==============================] - 2s 84ms/step - loss: 0.0498 - accuracy: 0.7570\n",
            "Epoch 28/100\n",
            "19/19 [==============================] - 2s 86ms/step - loss: 0.0507 - accuracy: 0.7521\n",
            "Epoch 29/100\n",
            "19/19 [==============================] - 2s 84ms/step - loss: 0.0492 - accuracy: 0.7603\n",
            "Epoch 30/100\n",
            "19/19 [==============================] - 2s 85ms/step - loss: 0.0495 - accuracy: 0.7455\n",
            "Epoch 31/100\n",
            "19/19 [==============================] - 2s 85ms/step - loss: 0.0490 - accuracy: 0.7587\n",
            "Epoch 32/100\n",
            "19/19 [==============================] - 2s 84ms/step - loss: 0.0485 - accuracy: 0.7537\n",
            "Epoch 33/100\n",
            "19/19 [==============================] - 2s 84ms/step - loss: 0.0474 - accuracy: 0.7686\n",
            "Epoch 34/100\n",
            "19/19 [==============================] - 2s 85ms/step - loss: 0.0467 - accuracy: 0.7603\n",
            "Epoch 35/100\n",
            "19/19 [==============================] - 2s 90ms/step - loss: 0.0463 - accuracy: 0.7570\n",
            "Epoch 36/100\n",
            "19/19 [==============================] - 2s 92ms/step - loss: 0.0456 - accuracy: 0.7835\n",
            "Epoch 37/100\n",
            "19/19 [==============================] - 2s 85ms/step - loss: 0.0479 - accuracy: 0.7587\n",
            "Epoch 38/100\n",
            "19/19 [==============================] - 2s 85ms/step - loss: 0.0463 - accuracy: 0.7521\n",
            "Epoch 39/100\n",
            "19/19 [==============================] - 2s 86ms/step - loss: 0.0470 - accuracy: 0.7636\n",
            "Epoch 40/100\n",
            "19/19 [==============================] - 2s 85ms/step - loss: 0.0461 - accuracy: 0.7570\n",
            "Epoch 41/100\n",
            "19/19 [==============================] - 2s 83ms/step - loss: 0.0446 - accuracy: 0.7587\n",
            "Epoch 42/100\n",
            "19/19 [==============================] - 2s 84ms/step - loss: 0.0436 - accuracy: 0.7636\n",
            "Epoch 43/100\n",
            "19/19 [==============================] - 2s 84ms/step - loss: 0.0436 - accuracy: 0.7719\n",
            "Epoch 44/100\n",
            "19/19 [==============================] - 2s 85ms/step - loss: 0.0445 - accuracy: 0.7901\n",
            "Epoch 45/100\n",
            "19/19 [==============================] - 2s 84ms/step - loss: 0.0450 - accuracy: 0.7620\n",
            "Epoch 46/100\n",
            "19/19 [==============================] - 2s 84ms/step - loss: 0.0446 - accuracy: 0.7636\n",
            "Epoch 47/100\n",
            "19/19 [==============================] - 2s 85ms/step - loss: 0.0448 - accuracy: 0.7455\n",
            "Epoch 48/100\n",
            "19/19 [==============================] - 2s 85ms/step - loss: 0.0430 - accuracy: 0.7636\n",
            "Epoch 49/100\n",
            "19/19 [==============================] - 2s 85ms/step - loss: 0.0462 - accuracy: 0.7669\n",
            "Epoch 50/100\n",
            "19/19 [==============================] - 2s 85ms/step - loss: 0.0467 - accuracy: 0.7521\n",
            "Epoch 51/100\n",
            "19/19 [==============================] - 2s 84ms/step - loss: 0.0425 - accuracy: 0.7669\n",
            "Epoch 52/100\n",
            "19/19 [==============================] - 2s 86ms/step - loss: 0.0441 - accuracy: 0.7851\n",
            "Epoch 53/100\n",
            "19/19 [==============================] - 2s 84ms/step - loss: 0.0436 - accuracy: 0.7702\n",
            "Epoch 54/100\n",
            "19/19 [==============================] - 2s 93ms/step - loss: 0.0423 - accuracy: 0.7769\n",
            "Epoch 55/100\n",
            "19/19 [==============================] - 2s 109ms/step - loss: 0.0421 - accuracy: 0.7851\n",
            "Epoch 56/100\n",
            "19/19 [==============================] - 2s 84ms/step - loss: 0.0400 - accuracy: 0.7752\n",
            "Epoch 57/100\n",
            "19/19 [==============================] - 2s 85ms/step - loss: 0.0418 - accuracy: 0.7752\n",
            "Epoch 58/100\n",
            "19/19 [==============================] - 2s 85ms/step - loss: 0.0416 - accuracy: 0.7884\n",
            "Epoch 59/100\n",
            "19/19 [==============================] - 2s 85ms/step - loss: 0.0402 - accuracy: 0.7769\n",
            "Epoch 60/100\n",
            "19/19 [==============================] - 2s 84ms/step - loss: 0.0474 - accuracy: 0.7554\n",
            "Epoch 61/100\n",
            "19/19 [==============================] - 2s 85ms/step - loss: 0.0442 - accuracy: 0.7702\n",
            "Epoch 62/100\n",
            "19/19 [==============================] - 2s 86ms/step - loss: 0.0419 - accuracy: 0.7702\n",
            "Epoch 63/100\n",
            "19/19 [==============================] - 2s 86ms/step - loss: 0.0410 - accuracy: 0.7868\n",
            "Epoch 64/100\n",
            "19/19 [==============================] - 2s 83ms/step - loss: 0.0414 - accuracy: 0.7884\n",
            "Epoch 65/100\n",
            "19/19 [==============================] - 2s 86ms/step - loss: 0.0413 - accuracy: 0.7818\n",
            "Epoch 66/100\n",
            "19/19 [==============================] - 2s 86ms/step - loss: 0.0389 - accuracy: 0.7769\n",
            "Epoch 67/100\n",
            "19/19 [==============================] - 2s 84ms/step - loss: 0.0393 - accuracy: 0.7818\n",
            "Epoch 68/100\n",
            "19/19 [==============================] - 2s 84ms/step - loss: 0.0388 - accuracy: 0.8033\n",
            "Epoch 69/100\n",
            "19/19 [==============================] - 2s 84ms/step - loss: 0.0378 - accuracy: 0.7950\n",
            "Epoch 70/100\n",
            "19/19 [==============================] - 2s 86ms/step - loss: 0.0381 - accuracy: 0.7983\n",
            "Epoch 71/100\n",
            "19/19 [==============================] - 2s 86ms/step - loss: 0.0387 - accuracy: 0.7851\n",
            "Epoch 72/100\n",
            "19/19 [==============================] - 2s 86ms/step - loss: 0.0370 - accuracy: 0.8149\n",
            "Epoch 73/100\n",
            "19/19 [==============================] - 2s 85ms/step - loss: 0.0401 - accuracy: 0.7785\n",
            "Epoch 74/100\n",
            "19/19 [==============================] - 2s 84ms/step - loss: 0.0374 - accuracy: 0.8099\n",
            "Epoch 75/100\n",
            "19/19 [==============================] - 2s 85ms/step - loss: 0.0390 - accuracy: 0.7950\n",
            "Epoch 76/100\n",
            "19/19 [==============================] - 2s 84ms/step - loss: 0.0374 - accuracy: 0.7917\n",
            "Epoch 77/100\n",
            "19/19 [==============================] - 2s 86ms/step - loss: 0.0446 - accuracy: 0.7636\n",
            "Epoch 78/100\n",
            "19/19 [==============================] - 2s 83ms/step - loss: 0.0431 - accuracy: 0.7769\n",
            "Epoch 79/100\n",
            "19/19 [==============================] - 2s 85ms/step - loss: 0.0397 - accuracy: 0.7669\n",
            "Epoch 80/100\n",
            "19/19 [==============================] - 2s 84ms/step - loss: 0.0387 - accuracy: 0.8000\n",
            "Epoch 81/100\n",
            "19/19 [==============================] - 2s 87ms/step - loss: 0.0386 - accuracy: 0.7868\n",
            "Epoch 82/100\n",
            "19/19 [==============================] - 2s 85ms/step - loss: 0.0375 - accuracy: 0.7950\n",
            "Epoch 83/100\n",
            "19/19 [==============================] - 2s 85ms/step - loss: 0.0385 - accuracy: 0.7884\n",
            "Epoch 84/100\n",
            "19/19 [==============================] - 2s 89ms/step - loss: 0.0375 - accuracy: 0.7736\n",
            "Epoch 85/100\n",
            "19/19 [==============================] - 2s 86ms/step - loss: 0.0385 - accuracy: 0.7917\n",
            "Epoch 86/100\n",
            "19/19 [==============================] - 2s 85ms/step - loss: 0.0354 - accuracy: 0.7884\n",
            "Epoch 87/100\n",
            "19/19 [==============================] - 2s 85ms/step - loss: 0.0354 - accuracy: 0.7950\n",
            "Epoch 88/100\n",
            "19/19 [==============================] - 2s 85ms/step - loss: 0.0350 - accuracy: 0.8165\n",
            "Epoch 89/100\n",
            "19/19 [==============================] - 2s 88ms/step - loss: 0.0344 - accuracy: 0.8066\n",
            "Epoch 90/100\n",
            "19/19 [==============================] - 2s 87ms/step - loss: 0.0360 - accuracy: 0.8050\n",
            "Epoch 91/100\n",
            "19/19 [==============================] - 2s 85ms/step - loss: 0.0429 - accuracy: 0.7802\n",
            "Epoch 92/100\n",
            "19/19 [==============================] - 2s 86ms/step - loss: 0.0447 - accuracy: 0.7802\n",
            "Epoch 93/100\n",
            "19/19 [==============================] - 2s 85ms/step - loss: 0.0377 - accuracy: 0.7769\n",
            "Epoch 94/100\n",
            "19/19 [==============================] - 2s 87ms/step - loss: 0.0398 - accuracy: 0.7950\n",
            "Epoch 95/100\n",
            "19/19 [==============================] - 2s 86ms/step - loss: 0.0388 - accuracy: 0.7769\n",
            "Epoch 96/100\n",
            "19/19 [==============================] - 2s 87ms/step - loss: 0.0374 - accuracy: 0.7917\n",
            "Epoch 97/100\n",
            "19/19 [==============================] - 2s 85ms/step - loss: 0.0419 - accuracy: 0.7669\n",
            "Epoch 98/100\n",
            "19/19 [==============================] - 2s 84ms/step - loss: 0.0398 - accuracy: 0.7752\n",
            "Epoch 99/100\n",
            "19/19 [==============================] - 2s 84ms/step - loss: 0.0366 - accuracy: 0.7934\n",
            "Epoch 100/100\n",
            "19/19 [==============================] - 2s 85ms/step - loss: 0.0372 - accuracy: 0.7868\n"
          ]
        }
      ]
    },
    {
      "cell_type": "markdown",
      "source": [
        "**Evaluating the Model**"
      ],
      "metadata": {
        "id": "bRmI4nb_vCYk"
      }
    },
    {
      "cell_type": "code",
      "source": [
        "model.evaluate([X_test,x_test_a], y_test, batch_size=batch_size)\n"
      ],
      "metadata": {
        "colab": {
          "base_uri": "https://localhost:8080/"
        },
        "id": "hF5CmT2ztNlI",
        "outputId": "5506f915-09a3-4dd4-847d-1a802417b5b5"
      },
      "execution_count": null,
      "outputs": [
        {
          "output_type": "stream",
          "name": "stdout",
          "text": [
            "5/5 [==============================] - 2s 20ms/step - loss: 0.0603 - accuracy: 0.7763\n"
          ]
        },
        {
          "output_type": "execute_result",
          "data": {
            "text/plain": [
              "[0.06028299406170845, 0.7763158082962036]"
            ]
          },
          "metadata": {},
          "execution_count": 55
        }
      ]
    },
    {
      "cell_type": "code",
      "source": [
        "y_test_prob = model.predict([X_test,x_test_a], verbose=1)"
      ],
      "metadata": {
        "colab": {
          "base_uri": "https://localhost:8080/"
        },
        "id": "YbuBqV9Nj0CM",
        "outputId": "e08f8661-7ad5-4905-f45d-53f02b846241"
      },
      "execution_count": null,
      "outputs": [
        {
          "output_type": "stream",
          "name": "stdout",
          "text": [
            "5/5 [==============================] - 2s 20ms/step\n"
          ]
        }
      ]
    },
    {
      "cell_type": "code",
      "source": [
        "#y_test_pred = np.where(y_test_prob > 0.28, 1, 0)"
      ],
      "metadata": {
        "id": "0ORZujGvj9KU"
      },
      "execution_count": null,
      "outputs": []
    },
    {
      "cell_type": "code",
      "source": [
        "y_test_pred = np.round(y_test_prob)"
      ],
      "metadata": {
        "id": "k0G01N-D81PT"
      },
      "execution_count": null,
      "outputs": []
    },
    {
      "cell_type": "code",
      "source": [
        "from sklearn.metrics import accuracy_score,precision_score,recall_score,f1_score\n",
        "from sklearn.metrics import classification_report, confusion_matrix, roc_auc_score"
      ],
      "metadata": {
        "id": "1N5XMpaz1pmQ"
      },
      "execution_count": null,
      "outputs": []
    },
    {
      "cell_type": "code",
      "source": [
        "con = confusion_matrix(y_test, y_test_pred)\n",
        "con"
      ],
      "metadata": {
        "colab": {
          "base_uri": "https://localhost:8080/"
        },
        "id": "sTMR_Ga7ksem",
        "outputId": "9080376b-6a3c-49ae-e1ae-b1d966ac4938"
      },
      "execution_count": null,
      "outputs": [
        {
          "output_type": "execute_result",
          "data": {
            "text/plain": [
              "array([[80, 10],\n",
              "       [24, 38]])"
            ]
          },
          "metadata": {},
          "execution_count": 59
        }
      ]
    },
    {
      "cell_type": "code",
      "source": [
        "plt.figure(figsize=(8,5))\n",
        "sns.heatmap(con, annot=True, cmap='viridis', fmt='.0f');\n",
        "plt.xlabel('Predicted', fontsize=14, weight='bold')\n",
        "plt.ylabel('Actual', fontsize=14, weight='bold')"
      ],
      "metadata": {
        "colab": {
          "base_uri": "https://localhost:8080/",
          "height": 359
        },
        "id": "OThnCxMoo-ZG",
        "outputId": "10c012de-ad9b-41b5-a6d4-d18eabda227c"
      },
      "execution_count": null,
      "outputs": [
        {
          "output_type": "execute_result",
          "data": {
            "text/plain": [
              "Text(51.0, 0.5, 'Actual')"
            ]
          },
          "metadata": {},
          "execution_count": 60
        },
        {
          "output_type": "display_data",
          "data": {
            "text/plain": [
              "<Figure size 576x360 with 2 Axes>"
            ],
            "image/png": "[encoded data removed]"
          },
          "metadata": {
            "needs_background": "light"
          }
        }
      ]
    },
    {
      "cell_type": "code",
      "source": [
        "print(classification_report(y_test,y_test_pred))"
      ],
      "metadata": {
        "colab": {
          "base_uri": "https://localhost:8080/"
        },
        "id": "sG0fkxlJkO3U",
        "outputId": "32a7f259-fc31-4bcb-8a8c-32af980c8ad6"
      },
      "execution_count": null,
      "outputs": [
        {
          "output_type": "stream",
          "name": "stdout",
          "text": [
            "              precision    recall  f1-score   support\n",
            "\n",
            "           0       0.77      0.89      0.82        90\n",
            "           1       0.79      0.61      0.69        62\n",
            "\n",
            "    accuracy                           0.78       152\n",
            "   macro avg       0.78      0.75      0.76       152\n",
            "weighted avg       0.78      0.78      0.77       152\n",
            "\n"
          ]
        }
      ]
    },
    {
      "cell_type": "code",
      "source": [
        "acc = accuracy_score(y_test, y_test_pred)\n",
        "acc"
      ],
      "metadata": {
        "colab": {
          "base_uri": "https://localhost:8080/"
        },
        "id": "cfj9mZeQklwE",
        "outputId": "ae4d5f92-d589-4036-f051-509fe3736b49"
      },
      "execution_count": null,
      "outputs": [
        {
          "output_type": "execute_result",
          "data": {
            "text/plain": [
              "0.7763157894736842"
            ]
          },
          "metadata": {},
          "execution_count": 62
        }
      ]
    },
    {
      "cell_type": "code",
      "source": [
        "from sklearn.metrics import roc_curve\n",
        "\n",
        "# roc curve for models\n",
        "fpr, tpr, thresh = roc_curve(y_test, y_test_prob)"
      ],
      "metadata": {
        "id": "GPiLoKcduSn9"
      },
      "execution_count": null,
      "outputs": []
    },
    {
      "cell_type": "code",
      "source": [
        "# roc curve for tpr = fpr \n",
        "random_probs = [0 for i in range(len(y_test))]\n",
        "p_fpr, p_tpr, _ = roc_curve(y_test, random_probs, pos_label=1)"
      ],
      "metadata": {
        "id": "APnTWwqduySG"
      },
      "execution_count": null,
      "outputs": []
    },
    {
      "cell_type": "code",
      "source": [
        "plt.style.use('seaborn')\n",
        "\n",
        "# plot roc curves\n",
        "plt.plot(fpr, tpr, linestyle='--',color='orange', label='Minimar_Fusion')\n",
        "# plt.plot(fpr2, tpr2, linestyle='--',color='green', label='decision tree')\n",
        "plt.plot(p_fpr, p_tpr, linestyle='--', color='blue')\n",
        "# title\n",
        "plt.title('ROC curve')\n",
        "# x label\n",
        "plt.xlabel('False Positive Rate')\n",
        "# y label\n",
        "plt.ylabel('True Positive rate')\n",
        "\n",
        "plt.legend(loc='best')\n",
        "plt.savefig('ROC',dpi=300)\n",
        "plt.show();"
      ],
      "metadata": {
        "colab": {
          "base_uri": "https://localhost:8080/",
          "height": 376
        },
        "id": "pDNMdagVtuB7",
        "outputId": "ede21615-150f-4e25-90f9-6f493c7e6650"
      },
      "execution_count": null,
      "outputs": [
        {
          "output_type": "display_data",
          "data": {
            "text/plain": [
              "<Figure size 576x396 with 1 Axes>"
            ],
            "image/png": "[encoded data removed]"
          },
          "metadata": {}
        }
      ]
    },
    {
      "cell_type": "code",
      "source": [
        "# auc scores\n",
        "auc_score = roc_auc_score(y_test, y_test_pred)\n",
        "print(auc_score)"
      ],
      "metadata": {
        "colab": {
          "base_uri": "https://localhost:8080/"
        },
        "id": "6ZAAgVmEvUuH",
        "outputId": "cbaec909-768a-44d5-ff8f-b13b4b5f0e6d"
      },
      "execution_count": null,
      "outputs": [
        {
          "output_type": "stream",
          "name": "stdout",
          "text": [
            "0.7508960573476702\n"
          ]
        }
      ]
    }
  ]
}