{
  "cells": [
    {
      "cell_type": "code",
      "execution_count": null,
      "metadata": {
        "id": "_pmApxEalusA"
      },
      "outputs": [],
      "source": [
        "import numpy as np\n",
        "import pandas as pd"
      ]
    },
    {
      "cell_type": "code",
      "execution_count": null,
      "metadata": {
        "id": "EyaHhjOb83OO"
      },
      "outputs": [],
      "source": [
        "import matplotlib.pyplot as plt\n",
        "import seaborn as sns"
      ]
    },
    {
      "cell_type": "code",
      "execution_count": null,
      "metadata": {
        "id": "nY2feLUw1ObF"
      },
      "outputs": [],
      "source": [
        "# Read CSV file\n",
        "vitals = pd.read_csv('v.csv')"
      ]
    },
    {
      "cell_type": "code",
      "execution_count": null,
      "metadata": {
        "id": "Oz8DIwzJ138W"
      },
      "outputs": [],
      "source": [
        "#vitals = vitals.drop_duplicates()"
      ]
    },
    {
      "cell_type": "code",
      "execution_count": null,
      "metadata": {
        "id": "CIYlUneOv0lO",
        "colab": {
          "base_uri": "https://localhost:8080/",
          "height": 206
        },
        "outputId": "00280456-9a6e-4408-fe39-662a4a2c8474"
      },
      "outputs": [
        {
          "output_type": "execute_result",
          "data": {
            "text/plain": [
              "   icustay_id  hr  heartrate  sysbp  diasbp  meanbp  resprate   spo2  \\\n",
              "0      200613   1       81.0  135.0    70.0    88.0      20.0  100.0   \n",
              "1      200613   2       82.0  155.0    70.0    90.0      20.0  100.0   \n",
              "2      200613   3       90.0  155.0    60.0    83.0      19.0  100.0   \n",
              "3      200613   4       85.0  166.0    62.0    89.0      20.0  100.0   \n",
              "4      200613   5       87.0  170.0    64.0    90.0      20.0  100.0   \n",
              "\n",
              "   urineoutput  \n",
              "0          NaN  \n",
              "1          NaN  \n",
              "2        200.0  \n",
              "3        100.0  \n",
              "4          NaN  "
            ],
            "text/html": [
              "\n",
              "  <div id=\"df-b8d0ea6a-90c9-47fb-b5e6-5988e255a24a\">\n",
              "    <div class=\"colab-df-container\">\n",
              "      <div>\n",
              "<style scoped>\n",
              "    .dataframe tbody tr th:only-of-type {\n",
              "        vertical-align: middle;\n",
              "    }\n",
              "\n",
              "    .dataframe tbody tr th {\n",
              "        vertical-align: top;\n",
              "    }\n",
              "\n",
              "    .dataframe thead th {\n",
              "        text-align: right;\n",
              "    }\n",
              "</style>\n",
              "<table border=\"1\" class=\"dataframe\">\n",
              "  <thead>\n",
              "    <tr style=\"text-align: right;\">\n",
              "      <th></th>\n",
              "      <th>icustay_id</th>\n",
              "      <th>hr</th>\n",
              "      <th>heartrate</th>\n",
              "      <th>sysbp</th>\n",
              "      <th>diasbp</th>\n",
              "      <th>meanbp</th>\n",
              "      <th>resprate</th>\n",
              "      <th>spo2</th>\n",
              "      <th>urineoutput</th>\n",
              "    </tr>\n",
              "  </thead>\n",
              "  <tbody>\n",
              "    <tr>\n",
              "      <th>0</th>\n",
              "      <td>200613</td>\n",
              "      <td>1</td>\n",
              "      <td>81.0</td>\n",
              "      <td>135.0</td>\n",
              "      <td>70.0</td>\n",
              "      <td>88.0</td>\n",
              "      <td>20.0</td>\n",
              "      <td>100.0</td>\n",
              "      <td>NaN</td>\n",
              "    </tr>\n",
              "    <tr>\n",
              "      <th>1</th>\n",
              "      <td>200613</td>\n",
              "      <td>2</td>\n",
              "      <td>82.0</td>\n",
              "      <td>155.0</td>\n",
              "      <td>70.0</td>\n",
              "      <td>90.0</td>\n",
              "      <td>20.0</td>\n",
              "      <td>100.0</td>\n",
              "      <td>NaN</td>\n",
              "    </tr>\n",
              "    <tr>\n",
              "      <th>2</th>\n",
              "      <td>200613</td>\n",
              "      <td>3</td>\n",
              "      <td>90.0</td>\n",
              "      <td>155.0</td>\n",
              "      <td>60.0</td>\n",
              "      <td>83.0</td>\n",
              "      <td>19.0</td>\n",
              "      <td>100.0</td>\n",
              "      <td>200.0</td>\n",
              "    </tr>\n",
              "    <tr>\n",
              "      <th>3</th>\n",
              "      <td>200613</td>\n",
              "      <td>4</td>\n",
              "      <td>85.0</td>\n",
              "      <td>166.0</td>\n",
              "      <td>62.0</td>\n",
              "      <td>89.0</td>\n",
              "      <td>20.0</td>\n",
              "      <td>100.0</td>\n",
              "      <td>100.0</td>\n",
              "    </tr>\n",
              "    <tr>\n",
              "      <th>4</th>\n",
              "      <td>200613</td>\n",
              "      <td>5</td>\n",
              "      <td>87.0</td>\n",
              "      <td>170.0</td>\n",
              "      <td>64.0</td>\n",
              "      <td>90.0</td>\n",
              "      <td>20.0</td>\n",
              "      <td>100.0</td>\n",
              "      <td>NaN</td>\n",
              "    </tr>\n",
              "  </tbody>\n",
              "</table>\n",
              "</div>\n",
              "      <button class=\"colab-df-convert\" onclick=\"convertToInteractive('df-b8d0ea6a-90c9-47fb-b5e6-5988e255a24a')\"\n",
              "              title=\"Convert this dataframe to an interactive table.\"\n",
              "              style=\"display:none;\">\n",
              "        \n",
              "  <svg xmlns=\"http://www.w3.org/2000/svg\" height=\"24px\"viewBox=\"0 0 24 24\"\n",
              "       width=\"24px\">\n",
              "    <path d=\"M0 0h24v24H0V0z\" fill=\"none\"/>\n",
              "    <path d=\"M18.56 5.44l.94 2.06.94-2.06 2.06-.94-2.06-.94-.94-2.06-.94 2.06-2.06.94zm-11 1L8.5 8.5l.94-2.06 2.06-.94-2.06-.94L8.5 2.5l-.94 2.06-2.06.94zm10 10l.94 2.06.94-2.06 2.06-.94-2.06-.94-.94-2.06-.94 2.06-2.06.94z\"/><path d=\"M17.41 7.96l-1.37-1.37c-.4-.4-.92-.59-1.43-.59-.52 0-1.04.2-1.43.59L10.3 9.45l-7.72 7.72c-.78.78-.78 2.05 0 2.83L4 21.41c.39.39.9.59 1.41.59.51 0 1.02-.2 1.41-.59l7.78-7.78 2.81-2.81c.8-.78.8-2.07 0-2.86zM5.41 20L4 18.59l7.72-7.72 1.47 1.35L5.41 20z\"/>\n",
              "  </svg>\n",
              "      </button>\n",
              "      \n",
              "  <style>\n",
              "    .colab-df-container {\n",
              "      display:flex;\n",
              "      flex-wrap:wrap;\n",
              "      gap: 12px;\n",
              "    }\n",
              "\n",
              "    .colab-df-convert {\n",
              "      background-color: #E8F0FE;\n",
              "      border: none;\n",
              "      border-radius: 50%;\n",
              "      cursor: pointer;\n",
              "      display: none;\n",
              "      fill: #1967D2;\n",
              "      height: 32px;\n",
              "      padding: 0 0 0 0;\n",
              "      width: 32px;\n",
              "    }\n",
              "\n",
              "    .colab-df-convert:hover {\n",
              "      background-color: #E2EBFA;\n",
              "      box-shadow: 0px 1px 2px rgba(60, 64, 67, 0.3), 0px 1px 3px 1px rgba(60, 64, 67, 0.15);\n",
              "      fill: #174EA6;\n",
              "    }\n",
              "\n",
              "    [theme=dark] .colab-df-convert {\n",
              "      background-color: #3B4455;\n",
              "      fill: #D2E3FC;\n",
              "    }\n",
              "\n",
              "    [theme=dark] .colab-df-convert:hover {\n",
              "      background-color: #434B5C;\n",
              "      box-shadow: 0px 1px 3px 1px rgba(0, 0, 0, 0.15);\n",
              "      filter: drop-shadow(0px 1px 2px rgba(0, 0, 0, 0.3));\n",
              "      fill: #FFFFFF;\n",
              "    }\n",
              "  </style>\n",
              "\n",
              "      <script>\n",
              "        const buttonEl =\n",
              "          document.querySelector('#df-b8d0ea6a-90c9-47fb-b5e6-5988e255a24a button.colab-df-convert');\n",
              "        buttonEl.style.display =\n",
              "          google.colab.kernel.accessAllowed ? 'block' : 'none';\n",
              "\n",
              "        async function convertToInteractive(key) {\n",
              "          const element = document.querySelector('#df-b8d0ea6a-90c9-47fb-b5e6-5988e255a24a');\n",
              "          const dataTable =\n",
              "            await google.colab.kernel.invokeFunction('convertToInteractive',\n",
              "                                                     [key], {});\n",
              "          if (!dataTable) return;\n",
              "\n",
              "          const docLinkHtml = 'Like what you see? Visit the ' +\n",
              "            '<a target=\"_blank\" href=https://colab.research.google.com/notebooks/data_table.ipynb>data table notebook</a>'\n",
              "            + ' to learn more about interactive tables.';\n",
              "          element.innerHTML = '';\n",
              "          dataTable['output_type'] = 'display_data';\n",
              "          await google.colab.output.renderOutput(dataTable, element);\n",
              "          const docLink = document.createElement('div');\n",
              "          docLink.innerHTML = docLinkHtml;\n",
              "          element.appendChild(docLink);\n",
              "        }\n",
              "      </script>\n",
              "    </div>\n",
              "  </div>\n",
              "  "
            ]
          },
          "metadata": {},
          "execution_count": 4
        }
      ],
      "source": [
        "vitals.head()"
      ]
    },
    {
      "cell_type": "code",
      "execution_count": null,
      "metadata": {
        "id": "ppUMLs2o9fZL",
        "colab": {
          "base_uri": "https://localhost:8080/",
          "height": 300
        },
        "outputId": "fbebc5b3-9880-41f7-ccf0-13d370b5f5ea"
      },
      "outputs": [
        {
          "output_type": "execute_result",
          "data": {
            "text/plain": [
              "          icustay_id            hr     heartrate         sysbp        diasbp  \\\n",
              "count   18168.000000  18168.000000  16948.000000  16341.000000  16337.000000   \n",
              "mean   271217.737120     12.500000     81.607238    129.616252     63.076479   \n",
              "std     27260.449243      6.922377     17.018279     21.296798     13.841087   \n",
              "min    200613.000000      1.000000     37.000000     49.000000     10.000000   \n",
              "25%    260773.000000      6.750000     69.000000    115.000000     54.000000   \n",
              "50%    280815.000000     12.500000     80.000000    129.000000     62.000000   \n",
              "75%    290512.000000     18.250000     92.000000    144.000000     71.000000   \n",
              "max    299973.000000     24.000000    163.750000    251.000000    174.000000   \n",
              "\n",
              "             meanbp      resprate          spo2   urineoutput  \n",
              "count  16406.000000  16709.000000  16589.000000  12374.000000  \n",
              "mean      83.408274     18.621723     97.708168    137.783417  \n",
              "std       15.274717      4.981361      3.310994    190.225339  \n",
              "min        7.000000      1.000000     14.000000  -3250.000000  \n",
              "25%       73.000000     15.000000     97.000000     45.000000  \n",
              "50%       82.666702     18.000000     98.500000     90.000000  \n",
              "75%       92.000000     21.000000    100.000000    160.000000  \n",
              "max      293.000000     65.000000    100.000000   7300.000000  "
            ],
            "text/html": [
              "\n",
              "  <div id=\"df-8afce26c-1ed1-4647-9cde-98032c2a7255\">\n",
              "    <div class=\"colab-df-container\">\n",
              "      <div>\n",
              "<style scoped>\n",
              "    .dataframe tbody tr th:only-of-type {\n",
              "        vertical-align: middle;\n",
              "    }\n",
              "\n",
              "    .dataframe tbody tr th {\n",
              "        vertical-align: top;\n",
              "    }\n",
              "\n",
              "    .dataframe thead th {\n",
              "        text-align: right;\n",
              "    }\n",
              "</style>\n",
              "<table border=\"1\" class=\"dataframe\">\n",
              "  <thead>\n",
              "    <tr style=\"text-align: right;\">\n",
              "      <th></th>\n",
              "      <th>icustay_id</th>\n",
              "      <th>hr</th>\n",
              "      <th>heartrate</th>\n",
              "      <th>sysbp</th>\n",
              "      <th>diasbp</th>\n",
              "      <th>meanbp</th>\n",
              "      <th>resprate</th>\n",
              "      <th>spo2</th>\n",
              "      <th>urineoutput</th>\n",
              "    </tr>\n",
              "  </thead>\n",
              "  <tbody>\n",
              "    <tr>\n",
              "      <th>count</th>\n",
              "      <td>18168.000000</td>\n",
              "      <td>18168.000000</td>\n",
              "      <td>16948.000000</td>\n",
              "      <td>16341.000000</td>\n",
              "      <td>16337.000000</td>\n",
              "      <td>16406.000000</td>\n",
              "      <td>16709.000000</td>\n",
              "      <td>16589.000000</td>\n",
              "      <td>12374.000000</td>\n",
              "    </tr>\n",
              "    <tr>\n",
              "      <th>mean</th>\n",
              "      <td>271217.737120</td>\n",
              "      <td>12.500000</td>\n",
              "      <td>81.607238</td>\n",
              "      <td>129.616252</td>\n",
              "      <td>63.076479</td>\n",
              "      <td>83.408274</td>\n",
              "      <td>18.621723</td>\n",
              "      <td>97.708168</td>\n",
              "      <td>137.783417</td>\n",
              "    </tr>\n",
              "    <tr>\n",
              "      <th>std</th>\n",
              "      <td>27260.449243</td>\n",
              "      <td>6.922377</td>\n",
              "      <td>17.018279</td>\n",
              "      <td>21.296798</td>\n",
              "      <td>13.841087</td>\n",
              "      <td>15.274717</td>\n",
              "      <td>4.981361</td>\n",
              "      <td>3.310994</td>\n",
              "      <td>190.225339</td>\n",
              "    </tr>\n",
              "    <tr>\n",
              "      <th>min</th>\n",
              "      <td>200613.000000</td>\n",
              "      <td>1.000000</td>\n",
              "      <td>37.000000</td>\n",
              "      <td>49.000000</td>\n",
              "      <td>10.000000</td>\n",
              "      <td>7.000000</td>\n",
              "      <td>1.000000</td>\n",
              "      <td>14.000000</td>\n",
              "      <td>-3250.000000</td>\n",
              "    </tr>\n",
              "    <tr>\n",
              "      <th>25%</th>\n",
              "      <td>260773.000000</td>\n",
              "      <td>6.750000</td>\n",
              "      <td>69.000000</td>\n",
              "      <td>115.000000</td>\n",
              "      <td>54.000000</td>\n",
              "      <td>73.000000</td>\n",
              "      <td>15.000000</td>\n",
              "      <td>97.000000</td>\n",
              "      <td>45.000000</td>\n",
              "    </tr>\n",
              "    <tr>\n",
              "      <th>50%</th>\n",
              "      <td>280815.000000</td>\n",
              "      <td>12.500000</td>\n",
              "      <td>80.000000</td>\n",
              "      <td>129.000000</td>\n",
              "      <td>62.000000</td>\n",
              "      <td>82.666702</td>\n",
              "      <td>18.000000</td>\n",
              "      <td>98.500000</td>\n",
              "      <td>90.000000</td>\n",
              "    </tr>\n",
              "    <tr>\n",
              "      <th>75%</th>\n",
              "      <td>290512.000000</td>\n",
              "      <td>18.250000</td>\n",
              "      <td>92.000000</td>\n",
              "      <td>144.000000</td>\n",
              "      <td>71.000000</td>\n",
              "      <td>92.000000</td>\n",
              "      <td>21.000000</td>\n",
              "      <td>100.000000</td>\n",
              "      <td>160.000000</td>\n",
              "    </tr>\n",
              "    <tr>\n",
              "      <th>max</th>\n",
              "      <td>299973.000000</td>\n",
              "      <td>24.000000</td>\n",
              "      <td>163.750000</td>\n",
              "      <td>251.000000</td>\n",
              "      <td>174.000000</td>\n",
              "      <td>293.000000</td>\n",
              "      <td>65.000000</td>\n",
              "      <td>100.000000</td>\n",
              "      <td>7300.000000</td>\n",
              "    </tr>\n",
              "  </tbody>\n",
              "</table>\n",
              "</div>\n",
              "      <button class=\"colab-df-convert\" onclick=\"convertToInteractive('df-8afce26c-1ed1-4647-9cde-98032c2a7255')\"\n",
              "              title=\"Convert this dataframe to an interactive table.\"\n",
              "              style=\"display:none;\">\n",
              "        \n",
              "  <svg xmlns=\"http://www.w3.org/2000/svg\" height=\"24px\"viewBox=\"0 0 24 24\"\n",
              "       width=\"24px\">\n",
              "    <path d=\"M0 0h24v24H0V0z\" fill=\"none\"/>\n",
              "    <path d=\"M18.56 5.44l.94 2.06.94-2.06 2.06-.94-2.06-.94-.94-2.06-.94 2.06-2.06.94zm-11 1L8.5 8.5l.94-2.06 2.06-.94-2.06-.94L8.5 2.5l-.94 2.06-2.06.94zm10 10l.94 2.06.94-2.06 2.06-.94-2.06-.94-.94-2.06-.94 2.06-2.06.94z\"/><path d=\"M17.41 7.96l-1.37-1.37c-.4-.4-.92-.59-1.43-.59-.52 0-1.04.2-1.43.59L10.3 9.45l-7.72 7.72c-.78.78-.78 2.05 0 2.83L4 21.41c.39.39.9.59 1.41.59.51 0 1.02-.2 1.41-.59l7.78-7.78 2.81-2.81c.8-.78.8-2.07 0-2.86zM5.41 20L4 18.59l7.72-7.72 1.47 1.35L5.41 20z\"/>\n",
              "  </svg>\n",
              "      </button>\n",
              "      \n",
              "  <style>\n",
              "    .colab-df-container {\n",
              "      display:flex;\n",
              "      flex-wrap:wrap;\n",
              "      gap: 12px;\n",
              "    }\n",
              "\n",
              "    .colab-df-convert {\n",
              "      background-color: #E8F0FE;\n",
              "      border: none;\n",
              "      border-radius: 50%;\n",
              "      cursor: pointer;\n",
              "      display: none;\n",
              "      fill: #1967D2;\n",
              "      height: 32px;\n",
              "      padding: 0 0 0 0;\n",
              "      width: 32px;\n",
              "    }\n",
              "\n",
              "    .colab-df-convert:hover {\n",
              "      background-color: #E2EBFA;\n",
              "      box-shadow: 0px 1px 2px rgba(60, 64, 67, 0.3), 0px 1px 3px 1px rgba(60, 64, 67, 0.15);\n",
              "      fill: #174EA6;\n",
              "    }\n",
              "\n",
              "    [theme=dark] .colab-df-convert {\n",
              "      background-color: #3B4455;\n",
              "      fill: #D2E3FC;\n",
              "    }\n",
              "\n",
              "    [theme=dark] .colab-df-convert:hover {\n",
              "      background-color: #434B5C;\n",
              "      box-shadow: 0px 1px 3px 1px rgba(0, 0, 0, 0.15);\n",
              "      filter: drop-shadow(0px 1px 2px rgba(0, 0, 0, 0.3));\n",
              "      fill: #FFFFFF;\n",
              "    }\n",
              "  </style>\n",
              "\n",
              "      <script>\n",
              "        const buttonEl =\n",
              "          document.querySelector('#df-8afce26c-1ed1-4647-9cde-98032c2a7255 button.colab-df-convert');\n",
              "        buttonEl.style.display =\n",
              "          google.colab.kernel.accessAllowed ? 'block' : 'none';\n",
              "\n",
              "        async function convertToInteractive(key) {\n",
              "          const element = document.querySelector('#df-8afce26c-1ed1-4647-9cde-98032c2a7255');\n",
              "          const dataTable =\n",
              "            await google.colab.kernel.invokeFunction('convertToInteractive',\n",
              "                                                     [key], {});\n",
              "          if (!dataTable) return;\n",
              "\n",
              "          const docLinkHtml = 'Like what you see? Visit the ' +\n",
              "            '<a target=\"_blank\" href=https://colab.research.google.com/notebooks/data_table.ipynb>data table notebook</a>'\n",
              "            + ' to learn more about interactive tables.';\n",
              "          element.innerHTML = '';\n",
              "          dataTable['output_type'] = 'display_data';\n",
              "          await google.colab.output.renderOutput(dataTable, element);\n",
              "          const docLink = document.createElement('div');\n",
              "          docLink.innerHTML = docLinkHtml;\n",
              "          element.appendChild(docLink);\n",
              "        }\n",
              "      </script>\n",
              "    </div>\n",
              "  </div>\n",
              "  "
            ]
          },
          "metadata": {},
          "execution_count": 5
        }
      ],
      "source": [
        "vitals.describe()"
      ]
    },
    {
      "cell_type": "code",
      "execution_count": null,
      "metadata": {
        "id": "UQ7Hv18C9g_D",
        "colab": {
          "base_uri": "https://localhost:8080/"
        },
        "outputId": "64c0620e-bb58-4e29-f27d-394bd4c2e73e"
      },
      "outputs": [
        {
          "output_type": "execute_result",
          "data": {
            "text/plain": [
              "(18168, 9)"
            ]
          },
          "metadata": {},
          "execution_count": 6
        }
      ],
      "source": [
        "vitals.shape"
      ]
    },
    {
      "cell_type": "code",
      "execution_count": null,
      "metadata": {
        "colab": {
          "base_uri": "https://localhost:8080/"
        },
        "id": "mCzsJE47vk-8",
        "outputId": "dd1560dd-c028-41ec-b17b-fba849c7b2f9"
      },
      "outputs": [
        {
          "output_type": "stream",
          "name": "stdout",
          "text": [
            "Looking in indexes: https://pypi.org/simple, https://us-python.pkg.dev/colab-wheels/public/simple/\n",
            "Collecting fancyimpute\n",
            "  Downloading fancyimpute-0.7.0.tar.gz (25 kB)\n",
            "Collecting knnimpute>=0.1.0\n",
            "  Downloading knnimpute-0.1.0.tar.gz (8.3 kB)\n",
            "Requirement already satisfied: scikit-learn>=0.24.2 in /usr/local/lib/python3.7/dist-packages (from fancyimpute) (1.0.2)\n",
            "Requirement already satisfied: cvxpy in /usr/local/lib/python3.7/dist-packages (from fancyimpute) (1.2.1)\n",
            "Requirement already satisfied: cvxopt in /usr/local/lib/python3.7/dist-packages (from fancyimpute) (1.3.0)\n",
            "Requirement already satisfied: pytest in /usr/local/lib/python3.7/dist-packages (from fancyimpute) (3.6.4)\n",
            "Collecting nose\n",
            "  Downloading nose-1.3.7-py3-none-any.whl (154 kB)\n",
            "\u001b[K     |████████████████████████████████| 154 kB 6.5 MB/s \n",
            "\u001b[?25hRequirement already satisfied: six in /usr/local/lib/python3.7/dist-packages (from knnimpute>=0.1.0->fancyimpute) (1.15.0)\n",
            "Requirement already satisfied: numpy>=1.10 in /usr/local/lib/python3.7/dist-packages (from knnimpute>=0.1.0->fancyimpute) (1.21.6)\n",
            "Requirement already satisfied: threadpoolctl>=2.0.0 in /usr/local/lib/python3.7/dist-packages (from scikit-learn>=0.24.2->fancyimpute) (3.1.0)\n",
            "Requirement already satisfied: scipy>=1.1.0 in /usr/local/lib/python3.7/dist-packages (from scikit-learn>=0.24.2->fancyimpute) (1.7.3)\n",
            "Requirement already satisfied: joblib>=0.11 in /usr/local/lib/python3.7/dist-packages (from scikit-learn>=0.24.2->fancyimpute) (1.1.0)\n",
            "Requirement already satisfied: scs>=1.1.6 in /usr/local/lib/python3.7/dist-packages (from cvxpy->fancyimpute) (3.2.0)\n",
            "Requirement already satisfied: ecos>=2 in /usr/local/lib/python3.7/dist-packages (from cvxpy->fancyimpute) (2.0.10)\n",
            "Requirement already satisfied: osqp>=0.4.1 in /usr/local/lib/python3.7/dist-packages (from cvxpy->fancyimpute) (0.6.2.post0)\n",
            "Requirement already satisfied: qdldl in /usr/local/lib/python3.7/dist-packages (from osqp>=0.4.1->cvxpy->fancyimpute) (0.1.5.post2)\n",
            "Requirement already satisfied: py>=1.5.0 in /usr/local/lib/python3.7/dist-packages (from pytest->fancyimpute) (1.11.0)\n",
            "Requirement already satisfied: more-itertools>=4.0.0 in /usr/local/lib/python3.7/dist-packages (from pytest->fancyimpute) (8.14.0)\n",
            "Requirement already satisfied: pluggy<0.8,>=0.5 in /usr/local/lib/python3.7/dist-packages (from pytest->fancyimpute) (0.7.1)\n",
            "Requirement already satisfied: setuptools in /usr/local/lib/python3.7/dist-packages (from pytest->fancyimpute) (57.4.0)\n",
            "Requirement already satisfied: attrs>=17.4.0 in /usr/local/lib/python3.7/dist-packages (from pytest->fancyimpute) (22.1.0)\n",
            "Requirement already satisfied: atomicwrites>=1.0 in /usr/local/lib/python3.7/dist-packages (from pytest->fancyimpute) (1.4.1)\n",
            "Building wheels for collected packages: fancyimpute, knnimpute\n",
            "  Building wheel for fancyimpute (setup.py) ... \u001b[?25l\u001b[?25hdone\n",
            "  Created wheel for fancyimpute: filename=fancyimpute-0.7.0-py3-none-any.whl size=29899 sha256=89605cc4c943747b1e146671fb79e2830750937c24fe8a7d5085a8f5ebc1d4ab\n",
            "  Stored in directory: /root/.cache/pip/wheels/e3/04/06/a1a7d89ef4e631ce6268ea2d8cde04f7290651c1ff1025ce68\n",
            "  Building wheel for knnimpute (setup.py) ... \u001b[?25l\u001b[?25hdone\n",
            "  Created wheel for knnimpute: filename=knnimpute-0.1.0-py3-none-any.whl size=11353 sha256=09d937d4d97f1f79ca7d168300bf12fc94b2e7c06e4f28ffdf448bf92811d3f1\n",
            "  Stored in directory: /root/.cache/pip/wheels/72/21/a8/a045cacd9838abd5643f6bfa852c0796a99d6b1494760494e0\n",
            "Successfully built fancyimpute knnimpute\n",
            "Installing collected packages: nose, knnimpute, fancyimpute\n",
            "Successfully installed fancyimpute-0.7.0 knnimpute-0.1.0 nose-1.3.7\n"
          ]
        }
      ],
      "source": [
        "!pip install fancyimpute"
      ]
    },
    {
      "cell_type": "code",
      "execution_count": null,
      "metadata": {
        "colab": {
          "base_uri": "https://localhost:8080/"
        },
        "id": "nsU2OwVovvUU",
        "outputId": "867023a6-1ff6-4886-8df2-cbabd6c7fe5c"
      },
      "outputs": [
        {
          "output_type": "stream",
          "name": "stdout",
          "text": [
            "Looking in indexes: https://pypi.org/simple, https://us-python.pkg.dev/colab-wheels/public/simple/\n",
            "Collecting MICE\n",
            "  Downloading mice-0.1.26-py3-none-any.whl (25 kB)\n",
            "Requirement already satisfied: matplotlib>=3.2.0 in /usr/local/lib/python3.7/dist-packages (from MICE) (3.2.2)\n",
            "Requirement already satisfied: pandas>=1.1 in /usr/local/lib/python3.7/dist-packages (from MICE) (1.3.5)\n",
            "Requirement already satisfied: numpy>=1.19 in /usr/local/lib/python3.7/dist-packages (from MICE) (1.21.6)\n",
            "  Downloading mice-0.1.25-py3-none-any.whl (25 kB)\n",
            "  Downloading mice-0.1.24-py3-none-any.whl (24 kB)\n",
            "Requirement already satisfied: python-dateutil>=2.1 in /usr/local/lib/python3.7/dist-packages (from matplotlib>=3.2.0->MICE) (2.8.2)\n",
            "Requirement already satisfied: kiwisolver>=1.0.1 in /usr/local/lib/python3.7/dist-packages (from matplotlib>=3.2.0->MICE) (1.4.4)\n",
            "Requirement already satisfied: cycler>=0.10 in /usr/local/lib/python3.7/dist-packages (from matplotlib>=3.2.0->MICE) (0.11.0)\n",
            "Requirement already satisfied: pyparsing!=2.0.4,!=2.1.2,!=2.1.6,>=2.0.1 in /usr/local/lib/python3.7/dist-packages (from matplotlib>=3.2.0->MICE) (3.0.9)\n",
            "Requirement already satisfied: typing-extensions in /usr/local/lib/python3.7/dist-packages (from kiwisolver>=1.0.1->matplotlib>=3.2.0->MICE) (4.1.1)\n",
            "Requirement already satisfied: pytz>=2017.3 in /usr/local/lib/python3.7/dist-packages (from pandas>=1.1->MICE) (2022.1)\n",
            "Requirement already satisfied: six>=1.5 in /usr/local/lib/python3.7/dist-packages (from python-dateutil>=2.1->matplotlib>=3.2.0->MICE) (1.15.0)\n",
            "Installing collected packages: MICE\n",
            "Successfully installed MICE-0.1.24\n"
          ]
        }
      ],
      "source": [
        "!pip install MICE"
      ]
    },
    {
      "cell_type": "code",
      "execution_count": null,
      "metadata": {
        "id": "9stemZOKvxZG"
      },
      "outputs": [],
      "source": [
        "from fancyimpute import IterativeImputer as MICE"
      ]
    },
    {
      "cell_type": "code",
      "execution_count": null,
      "metadata": {
        "id": "KOeWjI47v4tL"
      },
      "outputs": [],
      "source": [
        "vitals[['heartrate','sysbp',\t'diasbp', 'meanbp',\t'resprate','spo2','urineoutput']] = MICE().fit_transform(vitals[['heartrate','sysbp',\t'diasbp', 'meanbp',\t'resprate','spo2','urineoutput']])"
      ]
    },
    {
      "cell_type": "code",
      "execution_count": null,
      "metadata": {
        "colab": {
          "base_uri": "https://localhost:8080/",
          "height": 206
        },
        "id": "hRCAYPqJ5Edp",
        "outputId": "3514e41e-2a34-4fda-c826-9c9b4725d614"
      },
      "outputs": [
        {
          "output_type": "execute_result",
          "data": {
            "text/plain": [
              "   heartrate  sysbp  diasbp  meanbp  resprate   spo2  urineoutput\n",
              "0       81.0  135.0    70.0    88.0      20.0  100.0   144.678192\n",
              "1       82.0  155.0    70.0    90.0      20.0  100.0   140.987100\n",
              "2       90.0  155.0    60.0    83.0      19.0  100.0   200.000000\n",
              "3       85.0  166.0    62.0    89.0      20.0  100.0   100.000000\n",
              "4       87.0  170.0    64.0    90.0      20.0  100.0   132.083648"
            ],
            "text/html": [
              "\n",
              "  <div id=\"df-41825403-c67e-4ffc-ad13-b142865ee1a6\">\n",
              "    <div class=\"colab-df-container\">\n",
              "      <div>\n",
              "<style scoped>\n",
              "    .dataframe tbody tr th:only-of-type {\n",
              "        vertical-align: middle;\n",
              "    }\n",
              "\n",
              "    .dataframe tbody tr th {\n",
              "        vertical-align: top;\n",
              "    }\n",
              "\n",
              "    .dataframe thead th {\n",
              "        text-align: right;\n",
              "    }\n",
              "</style>\n",
              "<table border=\"1\" class=\"dataframe\">\n",
              "  <thead>\n",
              "    <tr style=\"text-align: right;\">\n",
              "      <th></th>\n",
              "      <th>heartrate</th>\n",
              "      <th>sysbp</th>\n",
              "      <th>diasbp</th>\n",
              "      <th>meanbp</th>\n",
              "      <th>resprate</th>\n",
              "      <th>spo2</th>\n",
              "      <th>urineoutput</th>\n",
              "    </tr>\n",
              "  </thead>\n",
              "  <tbody>\n",
              "    <tr>\n",
              "      <th>0</th>\n",
              "      <td>81.0</td>\n",
              "      <td>135.0</td>\n",
              "      <td>70.0</td>\n",
              "      <td>88.0</td>\n",
              "      <td>20.0</td>\n",
              "      <td>100.0</td>\n",
              "      <td>144.678192</td>\n",
              "    </tr>\n",
              "    <tr>\n",
              "      <th>1</th>\n",
              "      <td>82.0</td>\n",
              "      <td>155.0</td>\n",
              "      <td>70.0</td>\n",
              "      <td>90.0</td>\n",
              "      <td>20.0</td>\n",
              "      <td>100.0</td>\n",
              "      <td>140.987100</td>\n",
              "    </tr>\n",
              "    <tr>\n",
              "      <th>2</th>\n",
              "      <td>90.0</td>\n",
              "      <td>155.0</td>\n",
              "      <td>60.0</td>\n",
              "      <td>83.0</td>\n",
              "      <td>19.0</td>\n",
              "      <td>100.0</td>\n",
              "      <td>200.000000</td>\n",
              "    </tr>\n",
              "    <tr>\n",
              "      <th>3</th>\n",
              "      <td>85.0</td>\n",
              "      <td>166.0</td>\n",
              "      <td>62.0</td>\n",
              "      <td>89.0</td>\n",
              "      <td>20.0</td>\n",
              "      <td>100.0</td>\n",
              "      <td>100.000000</td>\n",
              "    </tr>\n",
              "    <tr>\n",
              "      <th>4</th>\n",
              "      <td>87.0</td>\n",
              "      <td>170.0</td>\n",
              "      <td>64.0</td>\n",
              "      <td>90.0</td>\n",
              "      <td>20.0</td>\n",
              "      <td>100.0</td>\n",
              "      <td>132.083648</td>\n",
              "    </tr>\n",
              "  </tbody>\n",
              "</table>\n",
              "</div>\n",
              "      <button class=\"colab-df-convert\" onclick=\"convertToInteractive('df-41825403-c67e-4ffc-ad13-b142865ee1a6')\"\n",
              "              title=\"Convert this dataframe to an interactive table.\"\n",
              "              style=\"display:none;\">\n",
              "        \n",
              "  <svg xmlns=\"http://www.w3.org/2000/svg\" height=\"24px\"viewBox=\"0 0 24 24\"\n",
              "       width=\"24px\">\n",
              "    <path d=\"M0 0h24v24H0V0z\" fill=\"none\"/>\n",
              "    <path d=\"M18.56 5.44l.94 2.06.94-2.06 2.06-.94-2.06-.94-.94-2.06-.94 2.06-2.06.94zm-11 1L8.5 8.5l.94-2.06 2.06-.94-2.06-.94L8.5 2.5l-.94 2.06-2.06.94zm10 10l.94 2.06.94-2.06 2.06-.94-2.06-.94-.94-2.06-.94 2.06-2.06.94z\"/><path d=\"M17.41 7.96l-1.37-1.37c-.4-.4-.92-.59-1.43-.59-.52 0-1.04.2-1.43.59L10.3 9.45l-7.72 7.72c-.78.78-.78 2.05 0 2.83L4 21.41c.39.39.9.59 1.41.59.51 0 1.02-.2 1.41-.59l7.78-7.78 2.81-2.81c.8-.78.8-2.07 0-2.86zM5.41 20L4 18.59l7.72-7.72 1.47 1.35L5.41 20z\"/>\n",
              "  </svg>\n",
              "      </button>\n",
              "      \n",
              "  <style>\n",
              "    .colab-df-container {\n",
              "      display:flex;\n",
              "      flex-wrap:wrap;\n",
              "      gap: 12px;\n",
              "    }\n",
              "\n",
              "    .colab-df-convert {\n",
              "      background-color: #E8F0FE;\n",
              "      border: none;\n",
              "      border-radius: 50%;\n",
              "      cursor: pointer;\n",
              "      display: none;\n",
              "      fill: #1967D2;\n",
              "      height: 32px;\n",
              "      padding: 0 0 0 0;\n",
              "      width: 32px;\n",
              "    }\n",
              "\n",
              "    .colab-df-convert:hover {\n",
              "      background-color: #E2EBFA;\n",
              "      box-shadow: 0px 1px 2px rgba(60, 64, 67, 0.3), 0px 1px 3px 1px rgba(60, 64, 67, 0.15);\n",
              "      fill: #174EA6;\n",
              "    }\n",
              "\n",
              "    [theme=dark] .colab-df-convert {\n",
              "      background-color: #3B4455;\n",
              "      fill: #D2E3FC;\n",
              "    }\n",
              "\n",
              "    [theme=dark] .colab-df-convert:hover {\n",
              "      background-color: #434B5C;\n",
              "      box-shadow: 0px 1px 3px 1px rgba(0, 0, 0, 0.15);\n",
              "      filter: drop-shadow(0px 1px 2px rgba(0, 0, 0, 0.3));\n",
              "      fill: #FFFFFF;\n",
              "    }\n",
              "  </style>\n",
              "\n",
              "      <script>\n",
              "        const buttonEl =\n",
              "          document.querySelector('#df-41825403-c67e-4ffc-ad13-b142865ee1a6 button.colab-df-convert');\n",
              "        buttonEl.style.display =\n",
              "          google.colab.kernel.accessAllowed ? 'block' : 'none';\n",
              "\n",
              "        async function convertToInteractive(key) {\n",
              "          const element = document.querySelector('#df-41825403-c67e-4ffc-ad13-b142865ee1a6');\n",
              "          const dataTable =\n",
              "            await google.colab.kernel.invokeFunction('convertToInteractive',\n",
              "                                                     [key], {});\n",
              "          if (!dataTable) return;\n",
              "\n",
              "          const docLinkHtml = 'Like what you see? Visit the ' +\n",
              "            '<a target=\"_blank\" href=https://colab.research.google.com/notebooks/data_table.ipynb>data table notebook</a>'\n",
              "            + ' to learn more about interactive tables.';\n",
              "          element.innerHTML = '';\n",
              "          dataTable['output_type'] = 'display_data';\n",
              "          await google.colab.output.renderOutput(dataTable, element);\n",
              "          const docLink = document.createElement('div');\n",
              "          docLink.innerHTML = docLinkHtml;\n",
              "          element.appendChild(docLink);\n",
              "        }\n",
              "      </script>\n",
              "    </div>\n",
              "  </div>\n",
              "  "
            ]
          },
          "metadata": {},
          "execution_count": 11
        }
      ],
      "source": [
        "vitals_n = vitals.iloc[:,2:9]\n",
        "vitals_n.head()"
      ]
    },
    {
      "cell_type": "code",
      "execution_count": null,
      "metadata": {
        "colab": {
          "base_uri": "https://localhost:8080/"
        },
        "id": "BXG3u_QI7CTM",
        "outputId": "12bc45bd-8cbd-46d3-fb39-3a06ce951625"
      },
      "outputs": [
        {
          "output_type": "execute_result",
          "data": {
            "text/plain": [
              "(18168, 7)"
            ]
          },
          "metadata": {},
          "execution_count": 12
        }
      ],
      "source": [
        "vitals_n.shape"
      ]
    },
    {
      "cell_type": "code",
      "execution_count": null,
      "metadata": {
        "id": "8wlldfaCvunF"
      },
      "outputs": [],
      "source": [
        "from sklearn.preprocessing import MinMaxScaler"
      ]
    },
    {
      "cell_type": "code",
      "execution_count": null,
      "metadata": {
        "id": "lFmgpmNRvPP2"
      },
      "outputs": [],
      "source": [
        "x_scaler = MinMaxScaler()"
      ]
    },
    {
      "cell_type": "code",
      "source": [
        "vitals_n = x_scaler.fit_transform(vitals_n)"
      ],
      "metadata": {
        "id": "xj9CkX53ueAw"
      },
      "execution_count": null,
      "outputs": []
    },
    {
      "cell_type": "code",
      "execution_count": null,
      "metadata": {
        "id": "a3udSvIp6UxG"
      },
      "outputs": [],
      "source": [
        "v_array = np.array(vitals_n)"
      ]
    },
    {
      "cell_type": "code",
      "execution_count": null,
      "metadata": {
        "colab": {
          "base_uri": "https://localhost:8080/"
        },
        "id": "Hk2dviBN6igr",
        "outputId": "1f449ab3-2d1f-4bb7-c8bd-97981fa9d15f"
      },
      "outputs": [
        {
          "output_type": "execute_result",
          "data": {
            "text/plain": [
              "(18168, 7)"
            ]
          },
          "metadata": {},
          "execution_count": 17
        }
      ],
      "source": [
        "v_array.shape"
      ]
    },
    {
      "cell_type": "code",
      "execution_count": null,
      "metadata": {
        "id": "NLiwuxiE8pJk"
      },
      "outputs": [],
      "source": [
        "time_features = v_array.reshape(-1, 24, 7)"
      ]
    },
    {
      "cell_type": "code",
      "execution_count": null,
      "metadata": {
        "id": "mdNw8YRIodaJ"
      },
      "outputs": [],
      "source": [
        "time_features"
      ]
    },
    {
      "cell_type": "code",
      "execution_count": null,
      "metadata": {
        "colab": {
          "base_uri": "https://localhost:8080/"
        },
        "id": "f6-SfjPl8xAX",
        "outputId": "6d477bd9-76bb-41fd-f7ff-0c07b62cb2ab"
      },
      "outputs": [
        {
          "output_type": "execute_result",
          "data": {
            "text/plain": [
              "(757, 24, 7)"
            ]
          },
          "metadata": {},
          "execution_count": 20
        }
      ],
      "source": [
        "time_features.shape"
      ]
    },
    {
      "cell_type": "code",
      "execution_count": null,
      "metadata": {
        "id": "z4m71AWC6yWF"
      },
      "outputs": [],
      "source": [
        "# Read CSV file\n",
        "m = pd.read_csv('m1.csv')"
      ]
    },
    {
      "cell_type": "code",
      "execution_count": null,
      "metadata": {
        "id": "IBTHdIEb95rN"
      },
      "outputs": [],
      "source": [
        "m = m.drop_duplicates()"
      ]
    },
    {
      "cell_type": "code",
      "execution_count": null,
      "metadata": {
        "colab": {
          "base_uri": "https://localhost:8080/"
        },
        "id": "e2aKp-dCyj_Y",
        "outputId": "832694fa-9575-4953-f2a5-1fdaa814b6d3"
      },
      "outputs": [
        {
          "output_type": "stream",
          "name": "stdout",
          "text": [
            "Number of survivors: 450\n",
            "Number of non-survivors: 307\n",
            "Mortality: 40.6%\n"
          ]
        }
      ],
      "source": [
        "print('Number of survivors: ' + str(m[m['mortality'] == 0].count()['mortality']))\n",
        "print('Number of non-survivors: ' + str(m[m['mortality'] == 1].count()['mortality']))\n",
        "print('Mortality: ' + str(round(100*m[m['mortality'] == 1].sum()['mortality'] / len(m.index.unique()),1)) + '%')"
      ]
    },
    {
      "cell_type": "code",
      "execution_count": null,
      "metadata": {
        "colab": {
          "base_uri": "https://localhost:8080/",
          "height": 206
        },
        "id": "b-J3jYwR7U_T",
        "outputId": "8eb52523-1417-4ddc-8baf-67f7d2e99ae2"
      },
      "outputs": [
        {
          "output_type": "execute_result",
          "data": {
            "text/plain": [
              "   icustay_id  mortality\n",
              "0      200613          1\n",
              "1      201171          1\n",
              "2      201220          1\n",
              "3      201382          1\n",
              "4      201829          1"
            ],
            "text/html": [
              "\n",
              "  <div id=\"df-b0a04b0c-4067-43cf-a567-e070156bb843\">\n",
              "    <div class=\"colab-df-container\">\n",
              "      <div>\n",
              "<style scoped>\n",
              "    .dataframe tbody tr th:only-of-type {\n",
              "        vertical-align: middle;\n",
              "    }\n",
              "\n",
              "    .dataframe tbody tr th {\n",
              "        vertical-align: top;\n",
              "    }\n",
              "\n",
              "    .dataframe thead th {\n",
              "        text-align: right;\n",
              "    }\n",
              "</style>\n",
              "<table border=\"1\" class=\"dataframe\">\n",
              "  <thead>\n",
              "    <tr style=\"text-align: right;\">\n",
              "      <th></th>\n",
              "      <th>icustay_id</th>\n",
              "      <th>mortality</th>\n",
              "    </tr>\n",
              "  </thead>\n",
              "  <tbody>\n",
              "    <tr>\n",
              "      <th>0</th>\n",
              "      <td>200613</td>\n",
              "      <td>1</td>\n",
              "    </tr>\n",
              "    <tr>\n",
              "      <th>1</th>\n",
              "      <td>201171</td>\n",
              "      <td>1</td>\n",
              "    </tr>\n",
              "    <tr>\n",
              "      <th>2</th>\n",
              "      <td>201220</td>\n",
              "      <td>1</td>\n",
              "    </tr>\n",
              "    <tr>\n",
              "      <th>3</th>\n",
              "      <td>201382</td>\n",
              "      <td>1</td>\n",
              "    </tr>\n",
              "    <tr>\n",
              "      <th>4</th>\n",
              "      <td>201829</td>\n",
              "      <td>1</td>\n",
              "    </tr>\n",
              "  </tbody>\n",
              "</table>\n",
              "</div>\n",
              "      <button class=\"colab-df-convert\" onclick=\"convertToInteractive('df-b0a04b0c-4067-43cf-a567-e070156bb843')\"\n",
              "              title=\"Convert this dataframe to an interactive table.\"\n",
              "              style=\"display:none;\">\n",
              "        \n",
              "  <svg xmlns=\"http://www.w3.org/2000/svg\" height=\"24px\"viewBox=\"0 0 24 24\"\n",
              "       width=\"24px\">\n",
              "    <path d=\"M0 0h24v24H0V0z\" fill=\"none\"/>\n",
              "    <path d=\"M18.56 5.44l.94 2.06.94-2.06 2.06-.94-2.06-.94-.94-2.06-.94 2.06-2.06.94zm-11 1L8.5 8.5l.94-2.06 2.06-.94-2.06-.94L8.5 2.5l-.94 2.06-2.06.94zm10 10l.94 2.06.94-2.06 2.06-.94-2.06-.94-.94-2.06-.94 2.06-2.06.94z\"/><path d=\"M17.41 7.96l-1.37-1.37c-.4-.4-.92-.59-1.43-.59-.52 0-1.04.2-1.43.59L10.3 9.45l-7.72 7.72c-.78.78-.78 2.05 0 2.83L4 21.41c.39.39.9.59 1.41.59.51 0 1.02-.2 1.41-.59l7.78-7.78 2.81-2.81c.8-.78.8-2.07 0-2.86zM5.41 20L4 18.59l7.72-7.72 1.47 1.35L5.41 20z\"/>\n",
              "  </svg>\n",
              "      </button>\n",
              "      \n",
              "  <style>\n",
              "    .colab-df-container {\n",
              "      display:flex;\n",
              "      flex-wrap:wrap;\n",
              "      gap: 12px;\n",
              "    }\n",
              "\n",
              "    .colab-df-convert {\n",
              "      background-color: #E8F0FE;\n",
              "      border: none;\n",
              "      border-radius: 50%;\n",
              "      cursor: pointer;\n",
              "      display: none;\n",
              "      fill: #1967D2;\n",
              "      height: 32px;\n",
              "      padding: 0 0 0 0;\n",
              "      width: 32px;\n",
              "    }\n",
              "\n",
              "    .colab-df-convert:hover {\n",
              "      background-color: #E2EBFA;\n",
              "      box-shadow: 0px 1px 2px rgba(60, 64, 67, 0.3), 0px 1px 3px 1px rgba(60, 64, 67, 0.15);\n",
              "      fill: #174EA6;\n",
              "    }\n",
              "\n",
              "    [theme=dark] .colab-df-convert {\n",
              "      background-color: #3B4455;\n",
              "      fill: #D2E3FC;\n",
              "    }\n",
              "\n",
              "    [theme=dark] .colab-df-convert:hover {\n",
              "      background-color: #434B5C;\n",
              "      box-shadow: 0px 1px 3px 1px rgba(0, 0, 0, 0.15);\n",
              "      filter: drop-shadow(0px 1px 2px rgba(0, 0, 0, 0.3));\n",
              "      fill: #FFFFFF;\n",
              "    }\n",
              "  </style>\n",
              "\n",
              "      <script>\n",
              "        const buttonEl =\n",
              "          document.querySelector('#df-b0a04b0c-4067-43cf-a567-e070156bb843 button.colab-df-convert');\n",
              "        buttonEl.style.display =\n",
              "          google.colab.kernel.accessAllowed ? 'block' : 'none';\n",
              "\n",
              "        async function convertToInteractive(key) {\n",
              "          const element = document.querySelector('#df-b0a04b0c-4067-43cf-a567-e070156bb843');\n",
              "          const dataTable =\n",
              "            await google.colab.kernel.invokeFunction('convertToInteractive',\n",
              "                                                     [key], {});\n",
              "          if (!dataTable) return;\n",
              "\n",
              "          const docLinkHtml = 'Like what you see? Visit the ' +\n",
              "            '<a target=\"_blank\" href=https://colab.research.google.com/notebooks/data_table.ipynb>data table notebook</a>'\n",
              "            + ' to learn more about interactive tables.';\n",
              "          element.innerHTML = '';\n",
              "          dataTable['output_type'] = 'display_data';\n",
              "          await google.colab.output.renderOutput(dataTable, element);\n",
              "          const docLink = document.createElement('div');\n",
              "          docLink.innerHTML = docLinkHtml;\n",
              "          element.appendChild(docLink);\n",
              "        }\n",
              "      </script>\n",
              "    </div>\n",
              "  </div>\n",
              "  "
            ]
          },
          "metadata": {},
          "execution_count": 24
        }
      ],
      "source": [
        "m.head()"
      ]
    },
    {
      "cell_type": "code",
      "execution_count": null,
      "metadata": {
        "colab": {
          "base_uri": "https://localhost:8080/"
        },
        "id": "kFA-egre9F7M",
        "outputId": "d2081ce2-38a8-4b08-a18a-9349c328c605"
      },
      "outputs": [
        {
          "output_type": "execute_result",
          "data": {
            "text/plain": [
              "0      1\n",
              "1      1\n",
              "2      1\n",
              "3      1\n",
              "4      1\n",
              "      ..\n",
              "752    0\n",
              "753    0\n",
              "754    0\n",
              "755    0\n",
              "756    1\n",
              "Name: mortality, Length: 757, dtype: int64"
            ]
          },
          "metadata": {},
          "execution_count": 25
        }
      ],
      "source": [
        "m = m.mortality\n",
        "m"
      ]
    },
    {
      "cell_type": "code",
      "execution_count": null,
      "metadata": {
        "colab": {
          "base_uri": "https://localhost:8080/"
        },
        "id": "I6-LNuFq7zB9",
        "outputId": "24c84ebb-954e-46d5-a21e-d1642722c821"
      },
      "outputs": [
        {
          "output_type": "execute_result",
          "data": {
            "text/plain": [
              "(757,)"
            ]
          },
          "metadata": {},
          "execution_count": 26
        }
      ],
      "source": [
        "m.shape"
      ]
    },
    {
      "cell_type": "code",
      "execution_count": null,
      "metadata": {
        "id": "IkcmcCyV7s8b"
      },
      "outputs": [],
      "source": [
        "m_array = np.array(m)"
      ]
    },
    {
      "cell_type": "code",
      "execution_count": null,
      "metadata": {
        "colab": {
          "base_uri": "https://localhost:8080/"
        },
        "id": "j_hm9fPo84AL",
        "outputId": "431bfe3b-a94c-4aba-ba33-463d525e924d"
      },
      "outputs": [
        {
          "output_type": "execute_result",
          "data": {
            "text/plain": [
              "(757,)"
            ]
          },
          "metadata": {},
          "execution_count": 28
        }
      ],
      "source": [
        "m_array.shape"
      ]
    },
    {
      "cell_type": "code",
      "execution_count": null,
      "metadata": {
        "id": "_d52HTNtz5ls"
      },
      "outputs": [],
      "source": [
        "aggregated = pd.read_csv(\"a_fusion.csv\")"
      ]
    },
    {
      "cell_type": "code",
      "execution_count": null,
      "metadata": {
        "colab": {
          "base_uri": "https://localhost:8080/",
          "height": 411
        },
        "id": "ixM6RbkL6zTZ",
        "outputId": "3f42a800-d544-45db-b84e-b26f407fabb8"
      },
      "outputs": [
        {
          "output_type": "execute_result",
          "data": {
            "text/plain": [
              "          icustay_id   min tempc  min glucose     min gcs  min gcsmotor  \\\n",
              "count     757.000000  750.000000   741.000000  757.000000    757.000000   \n",
              "mean   271217.737120   36.305480   118.807242   12.103038      3.863937   \n",
              "std     27277.721943    0.823522    34.707687    3.915774      1.995692   \n",
              "min    200613.000000   30.500000     1.000000    3.000000      1.000000   \n",
              "25%    260773.000000   35.888888    97.000000   10.000000      1.000000   \n",
              "50%    280815.000000   36.388889   115.000000   14.000000      4.000000   \n",
              "75%    290512.000000   36.833333   136.000000   15.000000      6.000000   \n",
              "max    299973.000000   38.700000   268.000000   15.000000      6.000000   \n",
              "\n",
              "       min gcsverbal  min gcseyes  min endotrachflag  min bg_po2  min bg_pco2  \\\n",
              "count     757.000000   757.000000         757.000000  418.000000   418.000000   \n",
              "mean        1.405548     1.922061           0.322325  138.511962    34.889952   \n",
              "std         2.036862     1.168593           0.467676   75.963838     7.527557   \n",
              "min         0.000000     1.000000           0.000000   32.000000    18.000000   \n",
              "25%         0.000000     1.000000           0.000000   88.000000    30.000000   \n",
              "50%         0.000000     1.000000           0.000000  124.000000    35.000000   \n",
              "75%         4.000000     3.000000           1.000000  171.000000    39.000000   \n",
              "max         5.000000     4.000000           1.000000  514.000000    79.000000   \n",
              "\n",
              "       ...  heart_failure  hypertension   paralysis  diabetes_complicated  \\\n",
              "count  ...     746.000000    757.000000  746.000000            746.000000   \n",
              "mean   ...       0.152815      0.686922    0.158177              0.033512   \n",
              "std    ...       0.360050      0.464052    0.365152              0.180090   \n",
              "min    ...       0.000000      0.000000    0.000000              0.000000   \n",
              "25%    ...       0.000000      0.000000    0.000000              0.000000   \n",
              "50%    ...       0.000000      1.000000    0.000000              0.000000   \n",
              "75%    ...       0.000000      1.000000    0.000000              0.000000   \n",
              "max    ...       1.000000      1.000000    1.000000              1.000000   \n",
              "\n",
              "       metastatic_cancer     obesity  weight_loss  alcohol_abuse  drug_abuse  \\\n",
              "count         746.000000  746.000000   746.000000     746.000000  746.000000   \n",
              "mean            0.046917    0.025469     0.046917       0.050938    0.018767   \n",
              "std             0.211603    0.157651     0.211603       0.220019    0.135791   \n",
              "min             0.000000    0.000000     0.000000       0.000000    0.000000   \n",
              "25%             0.000000    0.000000     0.000000       0.000000    0.000000   \n",
              "50%             0.000000    0.000000     0.000000       0.000000    0.000000   \n",
              "75%             0.000000    0.000000     0.000000       0.000000    0.000000   \n",
              "max             1.000000    1.000000     1.000000       1.000000    1.000000   \n",
              "\n",
              "       depression  \n",
              "count  746.000000  \n",
              "mean     0.064343  \n",
              "std      0.245528  \n",
              "min      0.000000  \n",
              "25%      0.000000  \n",
              "50%      0.000000  \n",
              "75%      0.000000  \n",
              "max      1.000000  \n",
              "\n",
              "[8 rows x 167 columns]"
            ],
            "text/html": [
              "\n",
              "  <div id=\"df-a14a0344-8db7-4b2b-a53e-dc51519b83c2\">\n",
              "    <div class=\"colab-df-container\">\n",
              "      <div>\n",
              "<style scoped>\n",
              "    .dataframe tbody tr th:only-of-type {\n",
              "        vertical-align: middle;\n",
              "    }\n",
              "\n",
              "    .dataframe tbody tr th {\n",
              "        vertical-align: top;\n",
              "    }\n",
              "\n",
              "    .dataframe thead th {\n",
              "        text-align: right;\n",
              "    }\n",
              "</style>\n",
              "<table border=\"1\" class=\"dataframe\">\n",
              "  <thead>\n",
              "    <tr style=\"text-align: right;\">\n",
              "      <th></th>\n",
              "      <th>icustay_id</th>\n",
              "      <th>min tempc</th>\n",
              "      <th>min glucose</th>\n",
              "      <th>min gcs</th>\n",
              "      <th>min gcsmotor</th>\n",
              "      <th>min gcsverbal</th>\n",
              "      <th>min gcseyes</th>\n",
              "      <th>min endotrachflag</th>\n",
              "      <th>min bg_po2</th>\n",
              "      <th>min bg_pco2</th>\n",
              "      <th>...</th>\n",
              "      <th>heart_failure</th>\n",
              "      <th>hypertension</th>\n",
              "      <th>paralysis</th>\n",
              "      <th>diabetes_complicated</th>\n",
              "      <th>metastatic_cancer</th>\n",
              "      <th>obesity</th>\n",
              "      <th>weight_loss</th>\n",
              "      <th>alcohol_abuse</th>\n",
              "      <th>drug_abuse</th>\n",
              "      <th>depression</th>\n",
              "    </tr>\n",
              "  </thead>\n",
              "  <tbody>\n",
              "    <tr>\n",
              "      <th>count</th>\n",
              "      <td>757.000000</td>\n",
              "      <td>750.000000</td>\n",
              "      <td>741.000000</td>\n",
              "      <td>757.000000</td>\n",
              "      <td>757.000000</td>\n",
              "      <td>757.000000</td>\n",
              "      <td>757.000000</td>\n",
              "      <td>757.000000</td>\n",
              "      <td>418.000000</td>\n",
              "      <td>418.000000</td>\n",
              "      <td>...</td>\n",
              "      <td>746.000000</td>\n",
              "      <td>757.000000</td>\n",
              "      <td>746.000000</td>\n",
              "      <td>746.000000</td>\n",
              "      <td>746.000000</td>\n",
              "      <td>746.000000</td>\n",
              "      <td>746.000000</td>\n",
              "      <td>746.000000</td>\n",
              "      <td>746.000000</td>\n",
              "      <td>746.000000</td>\n",
              "    </tr>\n",
              "    <tr>\n",
              "      <th>mean</th>\n",
              "      <td>271217.737120</td>\n",
              "      <td>36.305480</td>\n",
              "      <td>118.807242</td>\n",
              "      <td>12.103038</td>\n",
              "      <td>3.863937</td>\n",
              "      <td>1.405548</td>\n",
              "      <td>1.922061</td>\n",
              "      <td>0.322325</td>\n",
              "      <td>138.511962</td>\n",
              "      <td>34.889952</td>\n",
              "      <td>...</td>\n",
              "      <td>0.152815</td>\n",
              "      <td>0.686922</td>\n",
              "      <td>0.158177</td>\n",
              "      <td>0.033512</td>\n",
              "      <td>0.046917</td>\n",
              "      <td>0.025469</td>\n",
              "      <td>0.046917</td>\n",
              "      <td>0.050938</td>\n",
              "      <td>0.018767</td>\n",
              "      <td>0.064343</td>\n",
              "    </tr>\n",
              "    <tr>\n",
              "      <th>std</th>\n",
              "      <td>27277.721943</td>\n",
              "      <td>0.823522</td>\n",
              "      <td>34.707687</td>\n",
              "      <td>3.915774</td>\n",
              "      <td>1.995692</td>\n",
              "      <td>2.036862</td>\n",
              "      <td>1.168593</td>\n",
              "      <td>0.467676</td>\n",
              "      <td>75.963838</td>\n",
              "      <td>7.527557</td>\n",
              "      <td>...</td>\n",
              "      <td>0.360050</td>\n",
              "      <td>0.464052</td>\n",
              "      <td>0.365152</td>\n",
              "      <td>0.180090</td>\n",
              "      <td>0.211603</td>\n",
              "      <td>0.157651</td>\n",
              "      <td>0.211603</td>\n",
              "      <td>0.220019</td>\n",
              "      <td>0.135791</td>\n",
              "      <td>0.245528</td>\n",
              "    </tr>\n",
              "    <tr>\n",
              "      <th>min</th>\n",
              "      <td>200613.000000</td>\n",
              "      <td>30.500000</td>\n",
              "      <td>1.000000</td>\n",
              "      <td>3.000000</td>\n",
              "      <td>1.000000</td>\n",
              "      <td>0.000000</td>\n",
              "      <td>1.000000</td>\n",
              "      <td>0.000000</td>\n",
              "      <td>32.000000</td>\n",
              "      <td>18.000000</td>\n",
              "      <td>...</td>\n",
              "      <td>0.000000</td>\n",
              "      <td>0.000000</td>\n",
              "      <td>0.000000</td>\n",
              "      <td>0.000000</td>\n",
              "      <td>0.000000</td>\n",
              "      <td>0.000000</td>\n",
              "      <td>0.000000</td>\n",
              "      <td>0.000000</td>\n",
              "      <td>0.000000</td>\n",
              "      <td>0.000000</td>\n",
              "    </tr>\n",
              "    <tr>\n",
              "      <th>25%</th>\n",
              "      <td>260773.000000</td>\n",
              "      <td>35.888888</td>\n",
              "      <td>97.000000</td>\n",
              "      <td>10.000000</td>\n",
              "      <td>1.000000</td>\n",
              "      <td>0.000000</td>\n",
              "      <td>1.000000</td>\n",
              "      <td>0.000000</td>\n",
              "      <td>88.000000</td>\n",
              "      <td>30.000000</td>\n",
              "      <td>...</td>\n",
              "      <td>0.000000</td>\n",
              "      <td>0.000000</td>\n",
              "      <td>0.000000</td>\n",
              "      <td>0.000000</td>\n",
              "      <td>0.000000</td>\n",
              "      <td>0.000000</td>\n",
              "      <td>0.000000</td>\n",
              "      <td>0.000000</td>\n",
              "      <td>0.000000</td>\n",
              "      <td>0.000000</td>\n",
              "    </tr>\n",
              "    <tr>\n",
              "      <th>50%</th>\n",
              "      <td>280815.000000</td>\n",
              "      <td>36.388889</td>\n",
              "      <td>115.000000</td>\n",
              "      <td>14.000000</td>\n",
              "      <td>4.000000</td>\n",
              "      <td>0.000000</td>\n",
              "      <td>1.000000</td>\n",
              "      <td>0.000000</td>\n",
              "      <td>124.000000</td>\n",
              "      <td>35.000000</td>\n",
              "      <td>...</td>\n",
              "      <td>0.000000</td>\n",
              "      <td>1.000000</td>\n",
              "      <td>0.000000</td>\n",
              "      <td>0.000000</td>\n",
              "      <td>0.000000</td>\n",
              "      <td>0.000000</td>\n",
              "      <td>0.000000</td>\n",
              "      <td>0.000000</td>\n",
              "      <td>0.000000</td>\n",
              "      <td>0.000000</td>\n",
              "    </tr>\n",
              "    <tr>\n",
              "      <th>75%</th>\n",
              "      <td>290512.000000</td>\n",
              "      <td>36.833333</td>\n",
              "      <td>136.000000</td>\n",
              "      <td>15.000000</td>\n",
              "      <td>6.000000</td>\n",
              "      <td>4.000000</td>\n",
              "      <td>3.000000</td>\n",
              "      <td>1.000000</td>\n",
              "      <td>171.000000</td>\n",
              "      <td>39.000000</td>\n",
              "      <td>...</td>\n",
              "      <td>0.000000</td>\n",
              "      <td>1.000000</td>\n",
              "      <td>0.000000</td>\n",
              "      <td>0.000000</td>\n",
              "      <td>0.000000</td>\n",
              "      <td>0.000000</td>\n",
              "      <td>0.000000</td>\n",
              "      <td>0.000000</td>\n",
              "      <td>0.000000</td>\n",
              "      <td>0.000000</td>\n",
              "    </tr>\n",
              "    <tr>\n",
              "      <th>max</th>\n",
              "      <td>299973.000000</td>\n",
              "      <td>38.700000</td>\n",
              "      <td>268.000000</td>\n",
              "      <td>15.000000</td>\n",
              "      <td>6.000000</td>\n",
              "      <td>5.000000</td>\n",
              "      <td>4.000000</td>\n",
              "      <td>1.000000</td>\n",
              "      <td>514.000000</td>\n",
              "      <td>79.000000</td>\n",
              "      <td>...</td>\n",
              "      <td>1.000000</td>\n",
              "      <td>1.000000</td>\n",
              "      <td>1.000000</td>\n",
              "      <td>1.000000</td>\n",
              "      <td>1.000000</td>\n",
              "      <td>1.000000</td>\n",
              "      <td>1.000000</td>\n",
              "      <td>1.000000</td>\n",
              "      <td>1.000000</td>\n",
              "      <td>1.000000</td>\n",
              "    </tr>\n",
              "  </tbody>\n",
              "</table>\n",
              "<p>8 rows × 167 columns</p>\n",
              "</div>\n",
              "      <button class=\"colab-df-convert\" onclick=\"convertToInteractive('df-a14a0344-8db7-4b2b-a53e-dc51519b83c2')\"\n",
              "              title=\"Convert this dataframe to an interactive table.\"\n",
              "              style=\"display:none;\">\n",
              "        \n",
              "  <svg xmlns=\"http://www.w3.org/2000/svg\" height=\"24px\"viewBox=\"0 0 24 24\"\n",
              "       width=\"24px\">\n",
              "    <path d=\"M0 0h24v24H0V0z\" fill=\"none\"/>\n",
              "    <path d=\"M18.56 5.44l.94 2.06.94-2.06 2.06-.94-2.06-.94-.94-2.06-.94 2.06-2.06.94zm-11 1L8.5 8.5l.94-2.06 2.06-.94-2.06-.94L8.5 2.5l-.94 2.06-2.06.94zm10 10l.94 2.06.94-2.06 2.06-.94-2.06-.94-.94-2.06-.94 2.06-2.06.94z\"/><path d=\"M17.41 7.96l-1.37-1.37c-.4-.4-.92-.59-1.43-.59-.52 0-1.04.2-1.43.59L10.3 9.45l-7.72 7.72c-.78.78-.78 2.05 0 2.83L4 21.41c.39.39.9.59 1.41.59.51 0 1.02-.2 1.41-.59l7.78-7.78 2.81-2.81c.8-.78.8-2.07 0-2.86zM5.41 20L4 18.59l7.72-7.72 1.47 1.35L5.41 20z\"/>\n",
              "  </svg>\n",
              "      </button>\n",
              "      \n",
              "  <style>\n",
              "    .colab-df-container {\n",
              "      display:flex;\n",
              "      flex-wrap:wrap;\n",
              "      gap: 12px;\n",
              "    }\n",
              "\n",
              "    .colab-df-convert {\n",
              "      background-color: #E8F0FE;\n",
              "      border: none;\n",
              "      border-radius: 50%;\n",
              "      cursor: pointer;\n",
              "      display: none;\n",
              "      fill: #1967D2;\n",
              "      height: 32px;\n",
              "      padding: 0 0 0 0;\n",
              "      width: 32px;\n",
              "    }\n",
              "\n",
              "    .colab-df-convert:hover {\n",
              "      background-color: #E2EBFA;\n",
              "      box-shadow: 0px 1px 2px rgba(60, 64, 67, 0.3), 0px 1px 3px 1px rgba(60, 64, 67, 0.15);\n",
              "      fill: #174EA6;\n",
              "    }\n",
              "\n",
              "    [theme=dark] .colab-df-convert {\n",
              "      background-color: #3B4455;\n",
              "      fill: #D2E3FC;\n",
              "    }\n",
              "\n",
              "    [theme=dark] .colab-df-convert:hover {\n",
              "      background-color: #434B5C;\n",
              "      box-shadow: 0px 1px 3px 1px rgba(0, 0, 0, 0.15);\n",
              "      filter: drop-shadow(0px 1px 2px rgba(0, 0, 0, 0.3));\n",
              "      fill: #FFFFFF;\n",
              "    }\n",
              "  </style>\n",
              "\n",
              "      <script>\n",
              "        const buttonEl =\n",
              "          document.querySelector('#df-a14a0344-8db7-4b2b-a53e-dc51519b83c2 button.colab-df-convert');\n",
              "        buttonEl.style.display =\n",
              "          google.colab.kernel.accessAllowed ? 'block' : 'none';\n",
              "\n",
              "        async function convertToInteractive(key) {\n",
              "          const element = document.querySelector('#df-a14a0344-8db7-4b2b-a53e-dc51519b83c2');\n",
              "          const dataTable =\n",
              "            await google.colab.kernel.invokeFunction('convertToInteractive',\n",
              "                                                     [key], {});\n",
              "          if (!dataTable) return;\n",
              "\n",
              "          const docLinkHtml = 'Like what you see? Visit the ' +\n",
              "            '<a target=\"_blank\" href=https://colab.research.google.com/notebooks/data_table.ipynb>data table notebook</a>'\n",
              "            + ' to learn more about interactive tables.';\n",
              "          element.innerHTML = '';\n",
              "          dataTable['output_type'] = 'display_data';\n",
              "          await google.colab.output.renderOutput(dataTable, element);\n",
              "          const docLink = document.createElement('div');\n",
              "          docLink.innerHTML = docLinkHtml;\n",
              "          element.appendChild(docLink);\n",
              "        }\n",
              "      </script>\n",
              "    </div>\n",
              "  </div>\n",
              "  "
            ]
          },
          "metadata": {},
          "execution_count": 30
        }
      ],
      "source": [
        "aggregated.describe()"
      ]
    },
    {
      "cell_type": "code",
      "execution_count": null,
      "metadata": {
        "colab": {
          "base_uri": "https://localhost:8080/",
          "height": 317
        },
        "id": "F9VrY4yx634y",
        "outputId": "a2f798a6-27d2-480f-c6d0-1c0138352909"
      },
      "outputs": [
        {
          "output_type": "execute_result",
          "data": {
            "text/plain": [
              "   icustay_id  min tempc  min glucose  min gcs  min gcsmotor  min gcsverbal  \\\n",
              "0      200613  36.833333        183.0        5             3              0   \n",
              "1      201171  35.444446        134.0        3             1              0   \n",
              "2      201220  36.111111         90.5       15             1              0   \n",
              "3      201382  36.777776        156.0       15             2              0   \n",
              "4      201829  36.333333        179.0        3             1              0   \n",
              "\n",
              "   min gcseyes  min endotrachflag  min bg_po2  min bg_pco2  ...  \\\n",
              "0            1                  0       154.0         33.0  ...   \n",
              "1            1                  0       113.0         27.0  ...   \n",
              "2            1                  1       158.0         31.0  ...   \n",
              "3            1                  1       202.0         42.0  ...   \n",
              "4            1                  0         NaN          NaN  ...   \n",
              "\n",
              "   heart_failure  hypertension  paralysis  diabetes_complicated  \\\n",
              "0            0.0             1        0.0                   0.0   \n",
              "1            NaN             0        NaN                   NaN   \n",
              "2            0.0             0        0.0                   0.0   \n",
              "3            0.0             1        0.0                   0.0   \n",
              "4            0.0             1        0.0                   0.0   \n",
              "\n",
              "   metastatic_cancer  obesity  weight_loss  alcohol_abuse  drug_abuse  \\\n",
              "0                0.0      0.0          0.0            0.0         0.0   \n",
              "1                NaN      NaN          NaN            NaN         NaN   \n",
              "2                0.0      0.0          0.0            0.0         0.0   \n",
              "3                0.0      0.0          0.0            0.0         0.0   \n",
              "4                0.0      0.0          0.0            0.0         0.0   \n",
              "\n",
              "   depression  \n",
              "0         0.0  \n",
              "1         NaN  \n",
              "2         0.0  \n",
              "3         0.0  \n",
              "4         0.0  \n",
              "\n",
              "[5 rows x 167 columns]"
            ],
            "text/html": [
              "\n",
              "  <div id=\"df-c4a86c3d-96cf-4044-975d-d15d3c8de8f4\">\n",
              "    <div class=\"colab-df-container\">\n",
              "      <div>\n",
              "<style scoped>\n",
              "    .dataframe tbody tr th:only-of-type {\n",
              "        vertical-align: middle;\n",
              "    }\n",
              "\n",
              "    .dataframe tbody tr th {\n",
              "        vertical-align: top;\n",
              "    }\n",
              "\n",
              "    .dataframe thead th {\n",
              "        text-align: right;\n",
              "    }\n",
              "</style>\n",
              "<table border=\"1\" class=\"dataframe\">\n",
              "  <thead>\n",
              "    <tr style=\"text-align: right;\">\n",
              "      <th></th>\n",
              "      <th>icustay_id</th>\n",
              "      <th>min tempc</th>\n",
              "      <th>min glucose</th>\n",
              "      <th>min gcs</th>\n",
              "      <th>min gcsmotor</th>\n",
              "      <th>min gcsverbal</th>\n",
              "      <th>min gcseyes</th>\n",
              "      <th>min endotrachflag</th>\n",
              "      <th>min bg_po2</th>\n",
              "      <th>min bg_pco2</th>\n",
              "      <th>...</th>\n",
              "      <th>heart_failure</th>\n",
              "      <th>hypertension</th>\n",
              "      <th>paralysis</th>\n",
              "      <th>diabetes_complicated</th>\n",
              "      <th>metastatic_cancer</th>\n",
              "      <th>obesity</th>\n",
              "      <th>weight_loss</th>\n",
              "      <th>alcohol_abuse</th>\n",
              "      <th>drug_abuse</th>\n",
              "      <th>depression</th>\n",
              "    </tr>\n",
              "  </thead>\n",
              "  <tbody>\n",
              "    <tr>\n",
              "      <th>0</th>\n",
              "      <td>200613</td>\n",
              "      <td>36.833333</td>\n",
              "      <td>183.0</td>\n",
              "      <td>5</td>\n",
              "      <td>3</td>\n",
              "      <td>0</td>\n",
              "      <td>1</td>\n",
              "      <td>0</td>\n",
              "      <td>154.0</td>\n",
              "      <td>33.0</td>\n",
              "      <td>...</td>\n",
              "      <td>0.0</td>\n",
              "      <td>1</td>\n",
              "      <td>0.0</td>\n",
              "      <td>0.0</td>\n",
              "      <td>0.0</td>\n",
              "      <td>0.0</td>\n",
              "      <td>0.0</td>\n",
              "      <td>0.0</td>\n",
              "      <td>0.0</td>\n",
              "      <td>0.0</td>\n",
              "    </tr>\n",
              "    <tr>\n",
              "      <th>1</th>\n",
              "      <td>201171</td>\n",
              "      <td>35.444446</td>\n",
              "      <td>134.0</td>\n",
              "      <td>3</td>\n",
              "      <td>1</td>\n",
              "      <td>0</td>\n",
              "      <td>1</td>\n",
              "      <td>0</td>\n",
              "      <td>113.0</td>\n",
              "      <td>27.0</td>\n",
              "      <td>...</td>\n",
              "      <td>NaN</td>\n",
              "      <td>0</td>\n",
              "      <td>NaN</td>\n",
              "      <td>NaN</td>\n",
              "      <td>NaN</td>\n",
              "      <td>NaN</td>\n",
              "      <td>NaN</td>\n",
              "      <td>NaN</td>\n",
              "      <td>NaN</td>\n",
              "      <td>NaN</td>\n",
              "    </tr>\n",
              "    <tr>\n",
              "      <th>2</th>\n",
              "      <td>201220</td>\n",
              "      <td>36.111111</td>\n",
              "      <td>90.5</td>\n",
              "      <td>15</td>\n",
              "      <td>1</td>\n",
              "      <td>0</td>\n",
              "      <td>1</td>\n",
              "      <td>1</td>\n",
              "      <td>158.0</td>\n",
              "      <td>31.0</td>\n",
              "      <td>...</td>\n",
              "      <td>0.0</td>\n",
              "      <td>0</td>\n",
              "      <td>0.0</td>\n",
              "      <td>0.0</td>\n",
              "      <td>0.0</td>\n",
              "      <td>0.0</td>\n",
              "      <td>0.0</td>\n",
              "      <td>0.0</td>\n",
              "      <td>0.0</td>\n",
              "      <td>0.0</td>\n",
              "    </tr>\n",
              "    <tr>\n",
              "      <th>3</th>\n",
              "      <td>201382</td>\n",
              "      <td>36.777776</td>\n",
              "      <td>156.0</td>\n",
              "      <td>15</td>\n",
              "      <td>2</td>\n",
              "      <td>0</td>\n",
              "      <td>1</td>\n",
              "      <td>1</td>\n",
              "      <td>202.0</td>\n",
              "      <td>42.0</td>\n",
              "      <td>...</td>\n",
              "      <td>0.0</td>\n",
              "      <td>1</td>\n",
              "      <td>0.0</td>\n",
              "      <td>0.0</td>\n",
              "      <td>0.0</td>\n",
              "      <td>0.0</td>\n",
              "      <td>0.0</td>\n",
              "      <td>0.0</td>\n",
              "      <td>0.0</td>\n",
              "      <td>0.0</td>\n",
              "    </tr>\n",
              "    <tr>\n",
              "      <th>4</th>\n",
              "      <td>201829</td>\n",
              "      <td>36.333333</td>\n",
              "      <td>179.0</td>\n",
              "      <td>3</td>\n",
              "      <td>1</td>\n",
              "      <td>0</td>\n",
              "      <td>1</td>\n",
              "      <td>0</td>\n",
              "      <td>NaN</td>\n",
              "      <td>NaN</td>\n",
              "      <td>...</td>\n",
              "      <td>0.0</td>\n",
              "      <td>1</td>\n",
              "      <td>0.0</td>\n",
              "      <td>0.0</td>\n",
              "      <td>0.0</td>\n",
              "      <td>0.0</td>\n",
              "      <td>0.0</td>\n",
              "      <td>0.0</td>\n",
              "      <td>0.0</td>\n",
              "      <td>0.0</td>\n",
              "    </tr>\n",
              "  </tbody>\n",
              "</table>\n",
              "<p>5 rows × 167 columns</p>\n",
              "</div>\n",
              "      <button class=\"colab-df-convert\" onclick=\"convertToInteractive('df-c4a86c3d-96cf-4044-975d-d15d3c8de8f4')\"\n",
              "              title=\"Convert this dataframe to an interactive table.\"\n",
              "              style=\"display:none;\">\n",
              "        \n",
              "  <svg xmlns=\"http://www.w3.org/2000/svg\" height=\"24px\"viewBox=\"0 0 24 24\"\n",
              "       width=\"24px\">\n",
              "    <path d=\"M0 0h24v24H0V0z\" fill=\"none\"/>\n",
              "    <path d=\"M18.56 5.44l.94 2.06.94-2.06 2.06-.94-2.06-.94-.94-2.06-.94 2.06-2.06.94zm-11 1L8.5 8.5l.94-2.06 2.06-.94-2.06-.94L8.5 2.5l-.94 2.06-2.06.94zm10 10l.94 2.06.94-2.06 2.06-.94-2.06-.94-.94-2.06-.94 2.06-2.06.94z\"/><path d=\"M17.41 7.96l-1.37-1.37c-.4-.4-.92-.59-1.43-.59-.52 0-1.04.2-1.43.59L10.3 9.45l-7.72 7.72c-.78.78-.78 2.05 0 2.83L4 21.41c.39.39.9.59 1.41.59.51 0 1.02-.2 1.41-.59l7.78-7.78 2.81-2.81c.8-.78.8-2.07 0-2.86zM5.41 20L4 18.59l7.72-7.72 1.47 1.35L5.41 20z\"/>\n",
              "  </svg>\n",
              "      </button>\n",
              "      \n",
              "  <style>\n",
              "    .colab-df-container {\n",
              "      display:flex;\n",
              "      flex-wrap:wrap;\n",
              "      gap: 12px;\n",
              "    }\n",
              "\n",
              "    .colab-df-convert {\n",
              "      background-color: #E8F0FE;\n",
              "      border: none;\n",
              "      border-radius: 50%;\n",
              "      cursor: pointer;\n",
              "      display: none;\n",
              "      fill: #1967D2;\n",
              "      height: 32px;\n",
              "      padding: 0 0 0 0;\n",
              "      width: 32px;\n",
              "    }\n",
              "\n",
              "    .colab-df-convert:hover {\n",
              "      background-color: #E2EBFA;\n",
              "      box-shadow: 0px 1px 2px rgba(60, 64, 67, 0.3), 0px 1px 3px 1px rgba(60, 64, 67, 0.15);\n",
              "      fill: #174EA6;\n",
              "    }\n",
              "\n",
              "    [theme=dark] .colab-df-convert {\n",
              "      background-color: #3B4455;\n",
              "      fill: #D2E3FC;\n",
              "    }\n",
              "\n",
              "    [theme=dark] .colab-df-convert:hover {\n",
              "      background-color: #434B5C;\n",
              "      box-shadow: 0px 1px 3px 1px rgba(0, 0, 0, 0.15);\n",
              "      filter: drop-shadow(0px 1px 2px rgba(0, 0, 0, 0.3));\n",
              "      fill: #FFFFFF;\n",
              "    }\n",
              "  </style>\n",
              "\n",
              "      <script>\n",
              "        const buttonEl =\n",
              "          document.querySelector('#df-c4a86c3d-96cf-4044-975d-d15d3c8de8f4 button.colab-df-convert');\n",
              "        buttonEl.style.display =\n",
              "          google.colab.kernel.accessAllowed ? 'block' : 'none';\n",
              "\n",
              "        async function convertToInteractive(key) {\n",
              "          const element = document.querySelector('#df-c4a86c3d-96cf-4044-975d-d15d3c8de8f4');\n",
              "          const dataTable =\n",
              "            await google.colab.kernel.invokeFunction('convertToInteractive',\n",
              "                                                     [key], {});\n",
              "          if (!dataTable) return;\n",
              "\n",
              "          const docLinkHtml = 'Like what you see? Visit the ' +\n",
              "            '<a target=\"_blank\" href=https://colab.research.google.com/notebooks/data_table.ipynb>data table notebook</a>'\n",
              "            + ' to learn more about interactive tables.';\n",
              "          element.innerHTML = '';\n",
              "          dataTable['output_type'] = 'display_data';\n",
              "          await google.colab.output.renderOutput(dataTable, element);\n",
              "          const docLink = document.createElement('div');\n",
              "          docLink.innerHTML = docLinkHtml;\n",
              "          element.appendChild(docLink);\n",
              "        }\n",
              "      </script>\n",
              "    </div>\n",
              "  </div>\n",
              "  "
            ]
          },
          "metadata": {},
          "execution_count": 31
        }
      ],
      "source": [
        "aggregated.head()"
      ]
    },
    {
      "cell_type": "code",
      "source": [
        "X_featurenames = aggregated.columns"
      ],
      "metadata": {
        "id": "l1QUAf0dXi_Y"
      },
      "execution_count": null,
      "outputs": []
    },
    {
      "cell_type": "code",
      "execution_count": null,
      "metadata": {
        "id": "k-r9q2O4657J"
      },
      "outputs": [],
      "source": [
        "aggregated = aggregated.drop_duplicates()"
      ]
    },
    {
      "cell_type": "code",
      "execution_count": null,
      "metadata": {
        "id": "AenoZI27-iCe",
        "colab": {
          "base_uri": "https://localhost:8080/"
        },
        "outputId": "a42d51df-0aed-4e3d-b511-1af4f16ce4ee"
      },
      "outputs": [
        {
          "output_type": "execute_result",
          "data": {
            "text/plain": [
              "(757, 167)"
            ]
          },
          "metadata": {},
          "execution_count": 34
        }
      ],
      "source": [
        "aggregated.shape"
      ]
    },
    {
      "cell_type": "code",
      "execution_count": null,
      "metadata": {
        "id": "8Nz0FXGg7I9Y"
      },
      "outputs": [],
      "source": [
        "aggregated_n = aggregated.drop(['icustay_id'],axis =1)"
      ]
    },
    {
      "cell_type": "code",
      "execution_count": null,
      "metadata": {
        "id": "1cCeTFcA-lcX",
        "colab": {
          "base_uri": "https://localhost:8080/",
          "height": 317
        },
        "outputId": "9e3c184a-82fe-4a5f-ec8d-0e2d7717c396"
      },
      "outputs": [
        {
          "output_type": "execute_result",
          "data": {
            "text/plain": [
              "   min tempc  min glucose  min gcs  min gcsmotor  min gcsverbal  min gcseyes  \\\n",
              "0  36.833333        183.0        5             3              0            1   \n",
              "1  35.444446        134.0        3             1              0            1   \n",
              "2  36.111111         90.5       15             1              0            1   \n",
              "3  36.777776        156.0       15             2              0            1   \n",
              "4  36.333333        179.0        3             1              0            1   \n",
              "\n",
              "   min endotrachflag  min bg_po2  min bg_pco2  min bg_pao2fio2ratio  ...  \\\n",
              "0                  0       154.0         33.0            308.000000  ...   \n",
              "1                  0       113.0         27.0            233.333324  ...   \n",
              "2                  1       158.0         31.0            395.000000  ...   \n",
              "3                  1       202.0         42.0            504.999993  ...   \n",
              "4                  0         NaN          NaN                   NaN  ...   \n",
              "\n",
              "   heart_failure  hypertension  paralysis  diabetes_complicated  \\\n",
              "0            0.0             1        0.0                   0.0   \n",
              "1            NaN             0        NaN                   NaN   \n",
              "2            0.0             0        0.0                   0.0   \n",
              "3            0.0             1        0.0                   0.0   \n",
              "4            0.0             1        0.0                   0.0   \n",
              "\n",
              "   metastatic_cancer  obesity  weight_loss  alcohol_abuse  drug_abuse  \\\n",
              "0                0.0      0.0          0.0            0.0         0.0   \n",
              "1                NaN      NaN          NaN            NaN         NaN   \n",
              "2                0.0      0.0          0.0            0.0         0.0   \n",
              "3                0.0      0.0          0.0            0.0         0.0   \n",
              "4                0.0      0.0          0.0            0.0         0.0   \n",
              "\n",
              "   depression  \n",
              "0         0.0  \n",
              "1         NaN  \n",
              "2         0.0  \n",
              "3         0.0  \n",
              "4         0.0  \n",
              "\n",
              "[5 rows x 166 columns]"
            ],
            "text/html": [
              "\n",
              "  <div id=\"df-5668cd2b-8adb-4c76-a61c-6fd16ce25985\">\n",
              "    <div class=\"colab-df-container\">\n",
              "      <div>\n",
              "<style scoped>\n",
              "    .dataframe tbody tr th:only-of-type {\n",
              "        vertical-align: middle;\n",
              "    }\n",
              "\n",
              "    .dataframe tbody tr th {\n",
              "        vertical-align: top;\n",
              "    }\n",
              "\n",
              "    .dataframe thead th {\n",
              "        text-align: right;\n",
              "    }\n",
              "</style>\n",
              "<table border=\"1\" class=\"dataframe\">\n",
              "  <thead>\n",
              "    <tr style=\"text-align: right;\">\n",
              "      <th></th>\n",
              "      <th>min tempc</th>\n",
              "      <th>min glucose</th>\n",
              "      <th>min gcs</th>\n",
              "      <th>min gcsmotor</th>\n",
              "      <th>min gcsverbal</th>\n",
              "      <th>min gcseyes</th>\n",
              "      <th>min endotrachflag</th>\n",
              "      <th>min bg_po2</th>\n",
              "      <th>min bg_pco2</th>\n",
              "      <th>min bg_pao2fio2ratio</th>\n",
              "      <th>...</th>\n",
              "      <th>heart_failure</th>\n",
              "      <th>hypertension</th>\n",
              "      <th>paralysis</th>\n",
              "      <th>diabetes_complicated</th>\n",
              "      <th>metastatic_cancer</th>\n",
              "      <th>obesity</th>\n",
              "      <th>weight_loss</th>\n",
              "      <th>alcohol_abuse</th>\n",
              "      <th>drug_abuse</th>\n",
              "      <th>depression</th>\n",
              "    </tr>\n",
              "  </thead>\n",
              "  <tbody>\n",
              "    <tr>\n",
              "      <th>0</th>\n",
              "      <td>36.833333</td>\n",
              "      <td>183.0</td>\n",
              "      <td>5</td>\n",
              "      <td>3</td>\n",
              "      <td>0</td>\n",
              "      <td>1</td>\n",
              "      <td>0</td>\n",
              "      <td>154.0</td>\n",
              "      <td>33.0</td>\n",
              "      <td>308.000000</td>\n",
              "      <td>...</td>\n",
              "      <td>0.0</td>\n",
              "      <td>1</td>\n",
              "      <td>0.0</td>\n",
              "      <td>0.0</td>\n",
              "      <td>0.0</td>\n",
              "      <td>0.0</td>\n",
              "      <td>0.0</td>\n",
              "      <td>0.0</td>\n",
              "      <td>0.0</td>\n",
              "      <td>0.0</td>\n",
              "    </tr>\n",
              "    <tr>\n",
              "      <th>1</th>\n",
              "      <td>35.444446</td>\n",
              "      <td>134.0</td>\n",
              "      <td>3</td>\n",
              "      <td>1</td>\n",
              "      <td>0</td>\n",
              "      <td>1</td>\n",
              "      <td>0</td>\n",
              "      <td>113.0</td>\n",
              "      <td>27.0</td>\n",
              "      <td>233.333324</td>\n",
              "      <td>...</td>\n",
              "      <td>NaN</td>\n",
              "      <td>0</td>\n",
              "      <td>NaN</td>\n",
              "      <td>NaN</td>\n",
              "      <td>NaN</td>\n",
              "      <td>NaN</td>\n",
              "      <td>NaN</td>\n",
              "      <td>NaN</td>\n",
              "      <td>NaN</td>\n",
              "      <td>NaN</td>\n",
              "    </tr>\n",
              "    <tr>\n",
              "      <th>2</th>\n",
              "      <td>36.111111</td>\n",
              "      <td>90.5</td>\n",
              "      <td>15</td>\n",
              "      <td>1</td>\n",
              "      <td>0</td>\n",
              "      <td>1</td>\n",
              "      <td>1</td>\n",
              "      <td>158.0</td>\n",
              "      <td>31.0</td>\n",
              "      <td>395.000000</td>\n",
              "      <td>...</td>\n",
              "      <td>0.0</td>\n",
              "      <td>0</td>\n",
              "      <td>0.0</td>\n",
              "      <td>0.0</td>\n",
              "      <td>0.0</td>\n",
              "      <td>0.0</td>\n",
              "      <td>0.0</td>\n",
              "      <td>0.0</td>\n",
              "      <td>0.0</td>\n",
              "      <td>0.0</td>\n",
              "    </tr>\n",
              "    <tr>\n",
              "      <th>3</th>\n",
              "      <td>36.777776</td>\n",
              "      <td>156.0</td>\n",
              "      <td>15</td>\n",
              "      <td>2</td>\n",
              "      <td>0</td>\n",
              "      <td>1</td>\n",
              "      <td>1</td>\n",
              "      <td>202.0</td>\n",
              "      <td>42.0</td>\n",
              "      <td>504.999993</td>\n",
              "      <td>...</td>\n",
              "      <td>0.0</td>\n",
              "      <td>1</td>\n",
              "      <td>0.0</td>\n",
              "      <td>0.0</td>\n",
              "      <td>0.0</td>\n",
              "      <td>0.0</td>\n",
              "      <td>0.0</td>\n",
              "      <td>0.0</td>\n",
              "      <td>0.0</td>\n",
              "      <td>0.0</td>\n",
              "    </tr>\n",
              "    <tr>\n",
              "      <th>4</th>\n",
              "      <td>36.333333</td>\n",
              "      <td>179.0</td>\n",
              "      <td>3</td>\n",
              "      <td>1</td>\n",
              "      <td>0</td>\n",
              "      <td>1</td>\n",
              "      <td>0</td>\n",
              "      <td>NaN</td>\n",
              "      <td>NaN</td>\n",
              "      <td>NaN</td>\n",
              "      <td>...</td>\n",
              "      <td>0.0</td>\n",
              "      <td>1</td>\n",
              "      <td>0.0</td>\n",
              "      <td>0.0</td>\n",
              "      <td>0.0</td>\n",
              "      <td>0.0</td>\n",
              "      <td>0.0</td>\n",
              "      <td>0.0</td>\n",
              "      <td>0.0</td>\n",
              "      <td>0.0</td>\n",
              "    </tr>\n",
              "  </tbody>\n",
              "</table>\n",
              "<p>5 rows × 166 columns</p>\n",
              "</div>\n",
              "      <button class=\"colab-df-convert\" onclick=\"convertToInteractive('df-5668cd2b-8adb-4c76-a61c-6fd16ce25985')\"\n",
              "              title=\"Convert this dataframe to an interactive table.\"\n",
              "              style=\"display:none;\">\n",
              "        \n",
              "  <svg xmlns=\"http://www.w3.org/2000/svg\" height=\"24px\"viewBox=\"0 0 24 24\"\n",
              "       width=\"24px\">\n",
              "    <path d=\"M0 0h24v24H0V0z\" fill=\"none\"/>\n",
              "    <path d=\"M18.56 5.44l.94 2.06.94-2.06 2.06-.94-2.06-.94-.94-2.06-.94 2.06-2.06.94zm-11 1L8.5 8.5l.94-2.06 2.06-.94-2.06-.94L8.5 2.5l-.94 2.06-2.06.94zm10 10l.94 2.06.94-2.06 2.06-.94-2.06-.94-.94-2.06-.94 2.06-2.06.94z\"/><path d=\"M17.41 7.96l-1.37-1.37c-.4-.4-.92-.59-1.43-.59-.52 0-1.04.2-1.43.59L10.3 9.45l-7.72 7.72c-.78.78-.78 2.05 0 2.83L4 21.41c.39.39.9.59 1.41.59.51 0 1.02-.2 1.41-.59l7.78-7.78 2.81-2.81c.8-.78.8-2.07 0-2.86zM5.41 20L4 18.59l7.72-7.72 1.47 1.35L5.41 20z\"/>\n",
              "  </svg>\n",
              "      </button>\n",
              "      \n",
              "  <style>\n",
              "    .colab-df-container {\n",
              "      display:flex;\n",
              "      flex-wrap:wrap;\n",
              "      gap: 12px;\n",
              "    }\n",
              "\n",
              "    .colab-df-convert {\n",
              "      background-color: #E8F0FE;\n",
              "      border: none;\n",
              "      border-radius: 50%;\n",
              "      cursor: pointer;\n",
              "      display: none;\n",
              "      fill: #1967D2;\n",
              "      height: 32px;\n",
              "      padding: 0 0 0 0;\n",
              "      width: 32px;\n",
              "    }\n",
              "\n",
              "    .colab-df-convert:hover {\n",
              "      background-color: #E2EBFA;\n",
              "      box-shadow: 0px 1px 2px rgba(60, 64, 67, 0.3), 0px 1px 3px 1px rgba(60, 64, 67, 0.15);\n",
              "      fill: #174EA6;\n",
              "    }\n",
              "\n",
              "    [theme=dark] .colab-df-convert {\n",
              "      background-color: #3B4455;\n",
              "      fill: #D2E3FC;\n",
              "    }\n",
              "\n",
              "    [theme=dark] .colab-df-convert:hover {\n",
              "      background-color: #434B5C;\n",
              "      box-shadow: 0px 1px 3px 1px rgba(0, 0, 0, 0.15);\n",
              "      filter: drop-shadow(0px 1px 2px rgba(0, 0, 0, 0.3));\n",
              "      fill: #FFFFFF;\n",
              "    }\n",
              "  </style>\n",
              "\n",
              "      <script>\n",
              "        const buttonEl =\n",
              "          document.querySelector('#df-5668cd2b-8adb-4c76-a61c-6fd16ce25985 button.colab-df-convert');\n",
              "        buttonEl.style.display =\n",
              "          google.colab.kernel.accessAllowed ? 'block' : 'none';\n",
              "\n",
              "        async function convertToInteractive(key) {\n",
              "          const element = document.querySelector('#df-5668cd2b-8adb-4c76-a61c-6fd16ce25985');\n",
              "          const dataTable =\n",
              "            await google.colab.kernel.invokeFunction('convertToInteractive',\n",
              "                                                     [key], {});\n",
              "          if (!dataTable) return;\n",
              "\n",
              "          const docLinkHtml = 'Like what you see? Visit the ' +\n",
              "            '<a target=\"_blank\" href=https://colab.research.google.com/notebooks/data_table.ipynb>data table notebook</a>'\n",
              "            + ' to learn more about interactive tables.';\n",
              "          element.innerHTML = '';\n",
              "          dataTable['output_type'] = 'display_data';\n",
              "          await google.colab.output.renderOutput(dataTable, element);\n",
              "          const docLink = document.createElement('div');\n",
              "          docLink.innerHTML = docLinkHtml;\n",
              "          element.appendChild(docLink);\n",
              "        }\n",
              "      </script>\n",
              "    </div>\n",
              "  </div>\n",
              "  "
            ]
          },
          "metadata": {},
          "execution_count": 36
        }
      ],
      "source": [
        "aggregated_n.head() "
      ]
    },
    {
      "cell_type": "code",
      "execution_count": null,
      "metadata": {
        "id": "onbq2nmSFX-Z",
        "colab": {
          "base_uri": "https://localhost:8080/"
        },
        "outputId": "4ba6a077-10ea-4373-d431-37f0aefc407d"
      },
      "outputs": [
        {
          "output_type": "stream",
          "name": "stderr",
          "text": [
            "/usr/local/lib/python3.7/dist-packages/sklearn/impute/_iterative.py:701: ConvergenceWarning: [IterativeImputer] Early stopping criterion not reached.\n",
            "  ConvergenceWarning,\n"
          ]
        }
      ],
      "source": [
        "aggregated_imp = MICE().fit_transform(aggregated_n)"
      ]
    },
    {
      "cell_type": "code",
      "execution_count": null,
      "metadata": {
        "id": "pEmP4_N8F_CX"
      },
      "outputs": [],
      "source": [
        "aggregated_sc = x_scaler.fit_transform(aggregated_imp)"
      ]
    },
    {
      "cell_type": "code",
      "execution_count": null,
      "metadata": {
        "colab": {
          "base_uri": "https://localhost:8080/"
        },
        "id": "PnFZkiDQGE2J",
        "outputId": "582437f6-313a-4115-8fa3-e2361f516fb1"
      },
      "outputs": [
        {
          "output_type": "execute_result",
          "data": {
            "text/plain": [
              "(757, 161)"
            ]
          },
          "metadata": {},
          "execution_count": 39
        }
      ],
      "source": [
        "aggregated_sc.shape"
      ]
    },
    {
      "cell_type": "code",
      "execution_count": null,
      "metadata": {
        "id": "Zs4dAiQJ-tZT"
      },
      "outputs": [],
      "source": [
        "a_array = np.array(aggregated_sc)"
      ]
    },
    {
      "cell_type": "code",
      "execution_count": null,
      "metadata": {
        "id": "Naq1lyuv-u58",
        "colab": {
          "base_uri": "https://localhost:8080/"
        },
        "outputId": "488d932f-b2ea-4797-aeb6-42b87d52da24"
      },
      "outputs": [
        {
          "output_type": "execute_result",
          "data": {
            "text/plain": [
              "(757, 161)"
            ]
          },
          "metadata": {},
          "execution_count": 41
        }
      ],
      "source": [
        "a_array.shape"
      ]
    },
    {
      "cell_type": "code",
      "execution_count": null,
      "metadata": {
        "id": "r8A_2b42C0fe"
      },
      "outputs": [],
      "source": [
        "from sklearn.model_selection import train_test_split"
      ]
    },
    {
      "cell_type": "code",
      "execution_count": null,
      "metadata": {
        "id": "JYgFpVRbC1w8"
      },
      "outputs": [],
      "source": [
        "X_train, X_test, y_train, y_test,x_train_a, x_test_a = train_test_split(time_features, m_array,a_array, test_size=0.2, random_state=42)"
      ]
    },
    {
      "cell_type": "code",
      "source": [
        "#X_train, X_test, y_train, y_test = train_test_split(time_features, m_array, test_size=0.2, random_state=42)"
      ],
      "metadata": {
        "id": "go3OkTiY8O-G"
      },
      "execution_count": null,
      "outputs": []
    },
    {
      "cell_type": "code",
      "execution_count": null,
      "metadata": {
        "colab": {
          "base_uri": "https://localhost:8080/"
        },
        "id": "RLn2fqepDEw2",
        "outputId": "e00c12cf-4a41-41f6-c274-c3cc9dcbde3d"
      },
      "outputs": [
        {
          "output_type": "execute_result",
          "data": {
            "text/plain": [
              "(605, 24, 7)"
            ]
          },
          "metadata": {},
          "execution_count": 44
        }
      ],
      "source": [
        "X_train.shape"
      ]
    },
    {
      "cell_type": "code",
      "execution_count": null,
      "metadata": {
        "colab": {
          "base_uri": "https://localhost:8080/"
        },
        "id": "yzcow3u2DWTB",
        "outputId": "b40611aa-1d2c-4436-8a48-9409637f57fd"
      },
      "outputs": [
        {
          "output_type": "execute_result",
          "data": {
            "text/plain": [
              "(152, 24, 7)"
            ]
          },
          "metadata": {},
          "execution_count": 45
        }
      ],
      "source": [
        "X_test.shape"
      ]
    },
    {
      "cell_type": "code",
      "execution_count": null,
      "metadata": {
        "colab": {
          "base_uri": "https://localhost:8080/"
        },
        "id": "i64n-hvlZPaW",
        "outputId": "ee251c30-66c0-4e70-b3e1-594e350ce522"
      },
      "outputs": [
        {
          "output_type": "execute_result",
          "data": {
            "text/plain": [
              "(605, 161)"
            ]
          },
          "metadata": {},
          "execution_count": 46
        }
      ],
      "source": [
        "x_train_a.shape"
      ]
    },
    {
      "cell_type": "code",
      "execution_count": null,
      "metadata": {
        "id": "5hs8qe9r3JsR"
      },
      "outputs": [],
      "source": [
        "import keras\n",
        "from keras.layers import LSTM, Dropout, Dense\n",
        "import tensorflow as tf"
      ]
    },
    {
      "cell_type": "markdown",
      "source": [
        "**Model1: LSTM model with Temporal Variables**"
      ],
      "metadata": {
        "id": "gikuptzKNzMh"
      }
    },
    {
      "cell_type": "code",
      "execution_count": null,
      "metadata": {
        "colab": {
          "base_uri": "https://localhost:8080/"
        },
        "id": "2Gw_T27E1tJ6",
        "outputId": "33a67971-8f0d-4b83-ffad-a14fb2da33eb"
      },
      "outputs": [
        {
          "output_type": "stream",
          "name": "stdout",
          "text": [
            "Model: \"sequential_8\"\n",
            "_________________________________________________________________\n",
            " Layer (type)                Output Shape              Param #   \n",
            "=================================================================\n",
            " lstm_6 (LSTM)               (None, 24, 128)           69632     \n",
            "                                                                 \n",
            " dropout_11 (Dropout)        (None, 24, 128)           0         \n",
            "                                                                 \n",
            " lstm_7 (LSTM)               (None, 64)                49408     \n",
            "                                                                 \n",
            " dropout_12 (Dropout)        (None, 64)                0         \n",
            "                                                                 \n",
            " dense_18 (Dense)            (None, 1)                 65        \n",
            "                                                                 \n",
            "=================================================================\n",
            "Total params: 119,105\n",
            "Trainable params: 119,105\n",
            "Non-trainable params: 0\n",
            "_________________________________________________________________\n"
          ]
        }
      ],
      "source": [
        "model_1 = keras.Sequential()\n",
        "model_1.add(LSTM(128, input_shape = (24, 7),activation='relu',return_sequences=True))\n",
        "model_1.add(Dropout(0.1))\n",
        "model_1.add(LSTM(64, activation='relu'))\n",
        "model_1.add(Dropout(0.1))\n",
        "model_1.add(Dense(1, activation=\"sigmoid\"))\n",
        "model_1.compile(loss=\"binary_crossentropy\"\n",
        "              , metrics=[keras.metrics.binary_accuracy]\n",
        "              , optimizer=\"adam\")\n",
        "\n",
        "model_1.summary()"
      ]
    },
    {
      "cell_type": "code",
      "execution_count": null,
      "metadata": {
        "colab": {
          "base_uri": "https://localhost:8080/"
        },
        "id": "Q0FDO3Wg2QD-",
        "outputId": "0d57d252-e44d-4c25-a285-69a6ca0d3835"
      },
      "outputs": [
        {
          "output_type": "stream",
          "name": "stdout",
          "text": [
            "Epoch 1/100\n",
            "19/19 [==============================] - 4s 49ms/step - loss: 0.6775 - binary_accuracy: 0.5917\n",
            "Epoch 2/100\n",
            "19/19 [==============================] - 1s 50ms/step - loss: 0.6801 - binary_accuracy: 0.5950\n",
            "Epoch 3/100\n",
            "19/19 [==============================] - 1s 51ms/step - loss: 0.6758 - binary_accuracy: 0.5950\n",
            "Epoch 4/100\n",
            "19/19 [==============================] - 1s 48ms/step - loss: 0.6717 - binary_accuracy: 0.5950\n",
            "Epoch 5/100\n",
            "19/19 [==============================] - 1s 49ms/step - loss: 0.6681 - binary_accuracy: 0.6000\n",
            "Epoch 6/100\n",
            "19/19 [==============================] - 1s 48ms/step - loss: 0.6696 - binary_accuracy: 0.6033\n",
            "Epoch 7/100\n",
            "19/19 [==============================] - 1s 49ms/step - loss: 0.6651 - binary_accuracy: 0.6132\n",
            "Epoch 8/100\n",
            "19/19 [==============================] - 1s 46ms/step - loss: 0.6690 - binary_accuracy: 0.6116\n",
            "Epoch 9/100\n",
            "19/19 [==============================] - 1s 47ms/step - loss: 0.6646 - binary_accuracy: 0.6066\n",
            "Epoch 10/100\n",
            "19/19 [==============================] - 1s 47ms/step - loss: 0.6611 - binary_accuracy: 0.6116\n",
            "Epoch 11/100\n",
            "19/19 [==============================] - 1s 50ms/step - loss: 0.6752 - binary_accuracy: 0.5901\n",
            "Epoch 12/100\n",
            "19/19 [==============================] - 1s 47ms/step - loss: 0.6711 - binary_accuracy: 0.6000\n",
            "Epoch 13/100\n",
            "19/19 [==============================] - 1s 46ms/step - loss: 0.6663 - binary_accuracy: 0.6149\n",
            "Epoch 14/100\n",
            "19/19 [==============================] - 1s 45ms/step - loss: 0.6648 - binary_accuracy: 0.6099\n",
            "Epoch 15/100\n",
            "19/19 [==============================] - 1s 51ms/step - loss: 0.6594 - binary_accuracy: 0.6182\n",
            "Epoch 16/100\n",
            "19/19 [==============================] - 1s 48ms/step - loss: 0.6605 - binary_accuracy: 0.6198\n",
            "Epoch 17/100\n",
            "19/19 [==============================] - 1s 47ms/step - loss: 0.6624 - binary_accuracy: 0.6149\n",
            "Epoch 18/100\n",
            "19/19 [==============================] - 1s 46ms/step - loss: 0.6577 - binary_accuracy: 0.6281\n",
            "Epoch 19/100\n",
            "19/19 [==============================] - 1s 50ms/step - loss: 0.6587 - binary_accuracy: 0.6182\n",
            "Epoch 20/100\n",
            "19/19 [==============================] - 1s 47ms/step - loss: 0.6566 - binary_accuracy: 0.6248\n",
            "Epoch 21/100\n",
            "19/19 [==============================] - 1s 46ms/step - loss: 0.6584 - binary_accuracy: 0.6347\n",
            "Epoch 22/100\n",
            "19/19 [==============================] - 1s 45ms/step - loss: 0.6556 - binary_accuracy: 0.6314\n",
            "Epoch 23/100\n",
            "19/19 [==============================] - 1s 46ms/step - loss: 0.6547 - binary_accuracy: 0.6298\n",
            "Epoch 24/100\n",
            "19/19 [==============================] - 1s 49ms/step - loss: 0.6549 - binary_accuracy: 0.6347\n",
            "Epoch 25/100\n",
            "19/19 [==============================] - 1s 49ms/step - loss: 0.6505 - binary_accuracy: 0.6364\n",
            "Epoch 26/100\n",
            "19/19 [==============================] - 1s 50ms/step - loss: 0.6581 - binary_accuracy: 0.6264\n",
            "Epoch 27/100\n",
            "19/19 [==============================] - 1s 46ms/step - loss: 0.6580 - binary_accuracy: 0.6215\n",
            "Epoch 28/100\n",
            "19/19 [==============================] - 1s 46ms/step - loss: 0.6540 - binary_accuracy: 0.6198\n",
            "Epoch 29/100\n",
            "19/19 [==============================] - 1s 48ms/step - loss: 0.6628 - binary_accuracy: 0.6182\n",
            "Epoch 30/100\n",
            "19/19 [==============================] - 1s 45ms/step - loss: 0.6529 - binary_accuracy: 0.6198\n",
            "Epoch 31/100\n",
            "19/19 [==============================] - 1s 47ms/step - loss: 0.6520 - binary_accuracy: 0.6248\n",
            "Epoch 32/100\n",
            "19/19 [==============================] - 1s 48ms/step - loss: 0.6535 - binary_accuracy: 0.6248\n",
            "Epoch 33/100\n",
            "19/19 [==============================] - 1s 48ms/step - loss: 0.6504 - binary_accuracy: 0.6314\n",
            "Epoch 34/100\n",
            "19/19 [==============================] - 1s 49ms/step - loss: 0.6520 - binary_accuracy: 0.6248\n",
            "Epoch 35/100\n",
            "19/19 [==============================] - 1s 47ms/step - loss: 0.6475 - binary_accuracy: 0.6413\n",
            "Epoch 36/100\n",
            "19/19 [==============================] - 1s 48ms/step - loss: 0.6508 - binary_accuracy: 0.6397\n",
            "Epoch 37/100\n",
            "19/19 [==============================] - 1s 47ms/step - loss: 0.6509 - binary_accuracy: 0.6364\n",
            "Epoch 38/100\n",
            "19/19 [==============================] - 1s 49ms/step - loss: 0.6495 - binary_accuracy: 0.6397\n",
            "Epoch 39/100\n",
            "19/19 [==============================] - 1s 47ms/step - loss: 0.6499 - binary_accuracy: 0.6331\n",
            "Epoch 40/100\n",
            "19/19 [==============================] - 1s 45ms/step - loss: 0.6482 - binary_accuracy: 0.6463\n",
            "Epoch 41/100\n",
            "19/19 [==============================] - 1s 45ms/step - loss: 0.6425 - binary_accuracy: 0.6364\n",
            "Epoch 42/100\n",
            "19/19 [==============================] - 1s 47ms/step - loss: 0.6442 - binary_accuracy: 0.6430\n",
            "Epoch 43/100\n",
            "19/19 [==============================] - 1s 46ms/step - loss: 0.6463 - binary_accuracy: 0.6231\n",
            "Epoch 44/100\n",
            "19/19 [==============================] - 1s 48ms/step - loss: 0.6542 - binary_accuracy: 0.6264\n",
            "Epoch 45/100\n",
            "19/19 [==============================] - 1s 48ms/step - loss: 0.6422 - binary_accuracy: 0.6446\n",
            "Epoch 46/100\n",
            "19/19 [==============================] - 1s 47ms/step - loss: 0.6508 - binary_accuracy: 0.6314\n",
            "Epoch 47/100\n",
            "19/19 [==============================] - 1s 46ms/step - loss: 0.6447 - binary_accuracy: 0.6397\n",
            "Epoch 48/100\n",
            "19/19 [==============================] - 1s 47ms/step - loss: 0.6522 - binary_accuracy: 0.6397\n",
            "Epoch 49/100\n",
            "19/19 [==============================] - 1s 47ms/step - loss: 0.6480 - binary_accuracy: 0.6198\n",
            "Epoch 50/100\n",
            "19/19 [==============================] - 1s 49ms/step - loss: 0.6458 - binary_accuracy: 0.6298\n",
            "Epoch 51/100\n",
            "19/19 [==============================] - 1s 47ms/step - loss: 0.6512 - binary_accuracy: 0.6215\n",
            "Epoch 52/100\n",
            "19/19 [==============================] - 1s 48ms/step - loss: 0.6487 - binary_accuracy: 0.6364\n",
            "Epoch 53/100\n",
            "19/19 [==============================] - 1s 48ms/step - loss: 0.6368 - binary_accuracy: 0.6479\n",
            "Epoch 54/100\n",
            "19/19 [==============================] - 1s 48ms/step - loss: 0.6396 - binary_accuracy: 0.6430\n",
            "Epoch 55/100\n",
            "19/19 [==============================] - 1s 61ms/step - loss: 0.6460 - binary_accuracy: 0.6479\n",
            "Epoch 56/100\n",
            "19/19 [==============================] - 1s 74ms/step - loss: 0.6463 - binary_accuracy: 0.6298\n",
            "Epoch 57/100\n",
            "19/19 [==============================] - 1s 49ms/step - loss: 0.6442 - binary_accuracy: 0.6463\n",
            "Epoch 58/100\n",
            "19/19 [==============================] - 1s 48ms/step - loss: 0.6409 - binary_accuracy: 0.6430\n",
            "Epoch 59/100\n",
            "19/19 [==============================] - 1s 48ms/step - loss: 0.6398 - binary_accuracy: 0.6512\n",
            "Epoch 60/100\n",
            "19/19 [==============================] - 1s 47ms/step - loss: 0.6431 - binary_accuracy: 0.6364\n",
            "Epoch 61/100\n",
            "19/19 [==============================] - 1s 51ms/step - loss: 0.6543 - binary_accuracy: 0.6347\n",
            "Epoch 62/100\n",
            "19/19 [==============================] - 1s 47ms/step - loss: 0.6481 - binary_accuracy: 0.6347\n",
            "Epoch 63/100\n",
            "19/19 [==============================] - 1s 46ms/step - loss: 0.6385 - binary_accuracy: 0.6479\n",
            "Epoch 64/100\n",
            "19/19 [==============================] - 1s 48ms/step - loss: 0.6340 - binary_accuracy: 0.6430\n",
            "Epoch 65/100\n",
            "19/19 [==============================] - 1s 49ms/step - loss: 0.6339 - binary_accuracy: 0.6479\n",
            "Epoch 66/100\n",
            "19/19 [==============================] - 1s 49ms/step - loss: 0.6316 - binary_accuracy: 0.6545\n",
            "Epoch 67/100\n",
            "19/19 [==============================] - 1s 51ms/step - loss: 0.6219 - binary_accuracy: 0.6612\n",
            "Epoch 68/100\n",
            "19/19 [==============================] - 1s 52ms/step - loss: 0.6362 - binary_accuracy: 0.6529\n",
            "Epoch 69/100\n",
            "19/19 [==============================] - 1s 48ms/step - loss: 0.6441 - binary_accuracy: 0.6512\n",
            "Epoch 70/100\n",
            "19/19 [==============================] - 1s 48ms/step - loss: 0.6354 - binary_accuracy: 0.6562\n",
            "Epoch 71/100\n",
            "19/19 [==============================] - 1s 49ms/step - loss: 0.6324 - binary_accuracy: 0.6413\n",
            "Epoch 72/100\n",
            "19/19 [==============================] - 1s 45ms/step - loss: 0.6409 - binary_accuracy: 0.6281\n",
            "Epoch 73/100\n",
            "19/19 [==============================] - 1s 47ms/step - loss: 0.6318 - binary_accuracy: 0.6760\n",
            "Epoch 74/100\n",
            "19/19 [==============================] - 1s 46ms/step - loss: 0.6251 - binary_accuracy: 0.6694\n",
            "Epoch 75/100\n",
            "19/19 [==============================] - 1s 49ms/step - loss: 0.6274 - binary_accuracy: 0.6612\n",
            "Epoch 76/100\n",
            "19/19 [==============================] - 1s 46ms/step - loss: 0.6486 - binary_accuracy: 0.6364\n",
            "Epoch 77/100\n",
            "19/19 [==============================] - 1s 49ms/step - loss: 0.6552 - binary_accuracy: 0.6281\n",
            "Epoch 78/100\n",
            "19/19 [==============================] - 1s 51ms/step - loss: 0.6399 - binary_accuracy: 0.6463\n",
            "Epoch 79/100\n",
            "19/19 [==============================] - 1s 51ms/step - loss: 0.6389 - binary_accuracy: 0.6314\n",
            "Epoch 80/100\n",
            "19/19 [==============================] - 1s 48ms/step - loss: 0.6348 - binary_accuracy: 0.6430\n",
            "Epoch 81/100\n",
            "19/19 [==============================] - 1s 50ms/step - loss: 0.6335 - binary_accuracy: 0.6463\n",
            "Epoch 82/100\n",
            "19/19 [==============================] - 1s 49ms/step - loss: 0.6344 - binary_accuracy: 0.6413\n",
            "Epoch 83/100\n",
            "19/19 [==============================] - 1s 49ms/step - loss: 0.6407 - binary_accuracy: 0.6579\n",
            "Epoch 84/100\n",
            "19/19 [==============================] - 1s 50ms/step - loss: 0.6386 - binary_accuracy: 0.6430\n",
            "Epoch 85/100\n",
            "19/19 [==============================] - 1s 50ms/step - loss: 0.6466 - binary_accuracy: 0.6248\n",
            "Epoch 86/100\n",
            "19/19 [==============================] - 1s 51ms/step - loss: 0.6378 - binary_accuracy: 0.6446\n",
            "Epoch 87/100\n",
            "19/19 [==============================] - 1s 51ms/step - loss: 0.6310 - binary_accuracy: 0.6529\n",
            "Epoch 88/100\n",
            "19/19 [==============================] - 1s 48ms/step - loss: 0.6336 - binary_accuracy: 0.6463\n",
            "Epoch 89/100\n",
            "19/19 [==============================] - 1s 48ms/step - loss: 0.6355 - binary_accuracy: 0.6430\n",
            "Epoch 90/100\n",
            "19/19 [==============================] - 1s 47ms/step - loss: 0.6273 - binary_accuracy: 0.6479\n",
            "Epoch 91/100\n",
            "19/19 [==============================] - 1s 48ms/step - loss: 0.6370 - binary_accuracy: 0.6496\n",
            "Epoch 92/100\n",
            "19/19 [==============================] - 1s 46ms/step - loss: 0.6283 - binary_accuracy: 0.6562\n",
            "Epoch 93/100\n",
            "19/19 [==============================] - 1s 47ms/step - loss: 0.6337 - binary_accuracy: 0.6512\n",
            "Epoch 94/100\n",
            "19/19 [==============================] - 1s 48ms/step - loss: 0.6286 - binary_accuracy: 0.6711\n",
            "Epoch 95/100\n",
            "19/19 [==============================] - 1s 47ms/step - loss: 0.6270 - binary_accuracy: 0.6562\n",
            "Epoch 96/100\n",
            "19/19 [==============================] - 1s 50ms/step - loss: 0.6279 - binary_accuracy: 0.6512\n",
            "Epoch 97/100\n",
            "19/19 [==============================] - 1s 46ms/step - loss: 0.6334 - binary_accuracy: 0.6479\n",
            "Epoch 98/100\n",
            "19/19 [==============================] - 1s 48ms/step - loss: 0.6285 - binary_accuracy: 0.6661\n",
            "Epoch 99/100\n",
            "19/19 [==============================] - 1s 50ms/step - loss: 0.6183 - binary_accuracy: 0.6612\n",
            "Epoch 100/100\n",
            "19/19 [==============================] - 1s 50ms/step - loss: 0.6199 - binary_accuracy: 0.6711\n"
          ]
        },
        {
          "output_type": "execute_result",
          "data": {
            "text/plain": [
              "<keras.callbacks.History at 0x7f046547d590>"
            ]
          },
          "metadata": {},
          "execution_count": 103
        }
      ],
      "source": [
        "model_1.fit(X_train, y_train, batch_size=32, epochs=100)"
      ]
    },
    {
      "cell_type": "code",
      "execution_count": null,
      "metadata": {
        "id": "nscR6H3u37Q_"
      },
      "outputs": [],
      "source": [
        "pred_1 = model_1.predict(X_test)"
      ]
    },
    {
      "cell_type": "code",
      "source": [
        "y_pred_1 = np.round(pred_1)"
      ],
      "metadata": {
        "id": "OyRBl5P9T70o"
      },
      "execution_count": null,
      "outputs": []
    },
    {
      "cell_type": "code",
      "source": [
        "from sklearn.metrics import accuracy_score,precision_score,recall_score,f1_score\n",
        "from sklearn.metrics import classification_report, confusion_matrix, roc_auc_score"
      ],
      "metadata": {
        "id": "K87DDDEZxkeV"
      },
      "execution_count": null,
      "outputs": []
    },
    {
      "cell_type": "code",
      "source": [
        "print(classification_report(y_test,y_pred_1))"
      ],
      "metadata": {
        "colab": {
          "base_uri": "https://localhost:8080/"
        },
        "id": "LWkz9GO8UCWB",
        "outputId": "3ec99cf6-f3a3-44bd-da83-cd7f8833746b"
      },
      "execution_count": null,
      "outputs": [
        {
          "output_type": "stream",
          "name": "stdout",
          "text": [
            "              precision    recall  f1-score   support\n",
            "\n",
            "           0       0.73      0.71      0.72        90\n",
            "           1       0.59      0.61      0.60        62\n",
            "\n",
            "    accuracy                           0.67       152\n",
            "   macro avg       0.66      0.66      0.66       152\n",
            "weighted avg       0.67      0.67      0.67       152\n",
            "\n"
          ]
        }
      ]
    },
    {
      "cell_type": "code",
      "source": [
        "accuracy_score(y_test, y_pred_1)"
      ],
      "metadata": {
        "colab": {
          "base_uri": "https://localhost:8080/"
        },
        "id": "lOBnfwePUVcb",
        "outputId": "a66cb6c9-6174-49b0-dba8-84589443a862"
      },
      "execution_count": null,
      "outputs": [
        {
          "output_type": "execute_result",
          "data": {
            "text/plain": [
              "0.6710526315789473"
            ]
          },
          "metadata": {},
          "execution_count": 107
        }
      ]
    },
    {
      "cell_type": "markdown",
      "source": [
        "**Model2: Fully Connected Neural Network with Aggregated Features**"
      ],
      "metadata": {
        "id": "03p0NuQxOO-y"
      }
    },
    {
      "cell_type": "code",
      "execution_count": null,
      "metadata": {
        "colab": {
          "base_uri": "https://localhost:8080/"
        },
        "id": "9ld3nD4T3_CZ",
        "outputId": "cb7373ab-0496-4afa-87aa-811808511503"
      },
      "outputs": [
        {
          "output_type": "stream",
          "name": "stdout",
          "text": [
            "Model: \"sequential_11\"\n",
            "_________________________________________________________________\n",
            " Layer (type)                Output Shape              Param #   \n",
            "=================================================================\n",
            " dense_25 (Dense)            (None, 128)               20736     \n",
            "                                                                 \n",
            " dense_26 (Dense)            (None, 64)                8256      \n",
            "                                                                 \n",
            " dropout_15 (Dropout)        (None, 64)                0         \n",
            "                                                                 \n",
            " dense_27 (Dense)            (None, 1)                 65        \n",
            "                                                                 \n",
            "=================================================================\n",
            "Total params: 29,057\n",
            "Trainable params: 29,057\n",
            "Non-trainable params: 0\n",
            "_________________________________________________________________\n"
          ]
        }
      ],
      "source": [
        "model_2 = keras.Sequential()\n",
        "model_2.add(Dense(128, input_shape = (161,)))\n",
        "model_2.add(Dense(64, activation='relu'))\n",
        "model_2.add(Dropout(0.5))\n",
        "model_2.add(Dense(1, activation=\"sigmoid\"))\n",
        "model_2.compile(loss=\"binary_crossentropy\"\n",
        "              , metrics=[keras.metrics.binary_accuracy]\n",
        "              , optimizer=\"adam\")\n",
        "\n",
        "model_2.summary()"
      ]
    },
    {
      "cell_type": "code",
      "execution_count": null,
      "metadata": {
        "colab": {
          "base_uri": "https://localhost:8080/"
        },
        "id": "sUTT0_9c7i2N",
        "outputId": "617d3b30-7937-4cce-d2f1-b35ed77764ad"
      },
      "outputs": [
        {
          "output_type": "stream",
          "name": "stdout",
          "text": [
            "Epoch 1/50\n",
            "19/19 [==============================] - 1s 3ms/step - loss: 0.6225 - binary_accuracy: 0.6479\n",
            "Epoch 2/50\n",
            "19/19 [==============================] - 0s 3ms/step - loss: 0.5438 - binary_accuracy: 0.7388\n",
            "Epoch 3/50\n",
            "19/19 [==============================] - 0s 4ms/step - loss: 0.5288 - binary_accuracy: 0.7504\n",
            "Epoch 4/50\n",
            "19/19 [==============================] - 0s 2ms/step - loss: 0.5028 - binary_accuracy: 0.7488\n",
            "Epoch 5/50\n",
            "19/19 [==============================] - 0s 3ms/step - loss: 0.5026 - binary_accuracy: 0.7686\n",
            "Epoch 6/50\n",
            "19/19 [==============================] - 0s 4ms/step - loss: 0.5044 - binary_accuracy: 0.7719\n",
            "Epoch 7/50\n",
            "19/19 [==============================] - 0s 2ms/step - loss: 0.4839 - binary_accuracy: 0.7769\n",
            "Epoch 8/50\n",
            "19/19 [==============================] - 0s 3ms/step - loss: 0.4696 - binary_accuracy: 0.7901\n",
            "Epoch 9/50\n",
            "19/19 [==============================] - 0s 4ms/step - loss: 0.4863 - binary_accuracy: 0.7719\n",
            "Epoch 10/50\n",
            "19/19 [==============================] - 0s 3ms/step - loss: 0.4783 - binary_accuracy: 0.7802\n",
            "Epoch 11/50\n",
            "19/19 [==============================] - 0s 3ms/step - loss: 0.4678 - binary_accuracy: 0.7752\n",
            "Epoch 12/50\n",
            "19/19 [==============================] - 0s 3ms/step - loss: 0.4777 - binary_accuracy: 0.7587\n",
            "Epoch 13/50\n",
            "19/19 [==============================] - 0s 3ms/step - loss: 0.4705 - binary_accuracy: 0.7868\n",
            "Epoch 14/50\n",
            "19/19 [==============================] - 0s 3ms/step - loss: 0.4473 - binary_accuracy: 0.7868\n",
            "Epoch 15/50\n",
            "19/19 [==============================] - 0s 3ms/step - loss: 0.4398 - binary_accuracy: 0.8017\n",
            "Epoch 16/50\n",
            "19/19 [==============================] - 0s 2ms/step - loss: 0.4686 - binary_accuracy: 0.7802\n",
            "Epoch 17/50\n",
            "19/19 [==============================] - 0s 3ms/step - loss: 0.4475 - binary_accuracy: 0.7967\n",
            "Epoch 18/50\n",
            "19/19 [==============================] - 0s 3ms/step - loss: 0.4316 - binary_accuracy: 0.8000\n",
            "Epoch 19/50\n",
            "19/19 [==============================] - 0s 2ms/step - loss: 0.4220 - binary_accuracy: 0.8033\n",
            "Epoch 20/50\n",
            "19/19 [==============================] - 0s 3ms/step - loss: 0.4220 - binary_accuracy: 0.8050\n",
            "Epoch 21/50\n",
            "19/19 [==============================] - 0s 3ms/step - loss: 0.4288 - binary_accuracy: 0.8248\n",
            "Epoch 22/50\n",
            "19/19 [==============================] - 0s 3ms/step - loss: 0.4273 - binary_accuracy: 0.8017\n",
            "Epoch 23/50\n",
            "19/19 [==============================] - 0s 3ms/step - loss: 0.4403 - binary_accuracy: 0.7868\n",
            "Epoch 24/50\n",
            "19/19 [==============================] - 0s 3ms/step - loss: 0.4098 - binary_accuracy: 0.8050\n",
            "Epoch 25/50\n",
            "19/19 [==============================] - 0s 3ms/step - loss: 0.4135 - binary_accuracy: 0.8000\n",
            "Epoch 26/50\n",
            "19/19 [==============================] - 0s 3ms/step - loss: 0.4053 - binary_accuracy: 0.7950\n",
            "Epoch 27/50\n",
            "19/19 [==============================] - 0s 3ms/step - loss: 0.4217 - binary_accuracy: 0.8000\n",
            "Epoch 28/50\n",
            "19/19 [==============================] - 0s 4ms/step - loss: 0.4389 - binary_accuracy: 0.7719\n",
            "Epoch 29/50\n",
            "19/19 [==============================] - 0s 3ms/step - loss: 0.4248 - binary_accuracy: 0.8116\n",
            "Epoch 30/50\n",
            "19/19 [==============================] - 0s 2ms/step - loss: 0.3983 - binary_accuracy: 0.8298\n",
            "Epoch 31/50\n",
            "19/19 [==============================] - 0s 3ms/step - loss: 0.4077 - binary_accuracy: 0.8066\n",
            "Epoch 32/50\n",
            "19/19 [==============================] - 0s 2ms/step - loss: 0.4016 - binary_accuracy: 0.8050\n",
            "Epoch 33/50\n",
            "19/19 [==============================] - 0s 3ms/step - loss: 0.3956 - binary_accuracy: 0.8017\n",
            "Epoch 34/50\n",
            "19/19 [==============================] - 0s 3ms/step - loss: 0.3823 - binary_accuracy: 0.8165\n",
            "Epoch 35/50\n",
            "19/19 [==============================] - 0s 3ms/step - loss: 0.3946 - binary_accuracy: 0.8165\n",
            "Epoch 36/50\n",
            "19/19 [==============================] - 0s 4ms/step - loss: 0.3971 - binary_accuracy: 0.8132\n",
            "Epoch 37/50\n",
            "19/19 [==============================] - 0s 3ms/step - loss: 0.3970 - binary_accuracy: 0.8149\n",
            "Epoch 38/50\n",
            "19/19 [==============================] - 0s 3ms/step - loss: 0.4070 - binary_accuracy: 0.8000\n",
            "Epoch 39/50\n",
            "19/19 [==============================] - 0s 2ms/step - loss: 0.4026 - binary_accuracy: 0.8298\n",
            "Epoch 40/50\n",
            "19/19 [==============================] - 0s 4ms/step - loss: 0.3998 - binary_accuracy: 0.8033\n",
            "Epoch 41/50\n",
            "19/19 [==============================] - 0s 3ms/step - loss: 0.3882 - binary_accuracy: 0.8264\n",
            "Epoch 42/50\n",
            "19/19 [==============================] - 0s 3ms/step - loss: 0.3700 - binary_accuracy: 0.8264\n",
            "Epoch 43/50\n",
            "19/19 [==============================] - 0s 3ms/step - loss: 0.4006 - binary_accuracy: 0.8198\n",
            "Epoch 44/50\n",
            "19/19 [==============================] - 0s 2ms/step - loss: 0.4006 - binary_accuracy: 0.8116\n",
            "Epoch 45/50\n",
            "19/19 [==============================] - 0s 3ms/step - loss: 0.3844 - binary_accuracy: 0.8116\n",
            "Epoch 46/50\n",
            "19/19 [==============================] - 0s 2ms/step - loss: 0.3564 - binary_accuracy: 0.8331\n",
            "Epoch 47/50\n",
            "19/19 [==============================] - 0s 2ms/step - loss: 0.3648 - binary_accuracy: 0.8132\n",
            "Epoch 48/50\n",
            "19/19 [==============================] - 0s 2ms/step - loss: 0.3636 - binary_accuracy: 0.8215\n",
            "Epoch 49/50\n",
            "19/19 [==============================] - 0s 3ms/step - loss: 0.3563 - binary_accuracy: 0.8413\n",
            "Epoch 50/50\n",
            "19/19 [==============================] - 0s 2ms/step - loss: 0.3456 - binary_accuracy: 0.8430\n"
          ]
        },
        {
          "output_type": "execute_result",
          "data": {
            "text/plain": [
              "<keras.callbacks.History at 0x7f045dfb50d0>"
            ]
          },
          "metadata": {},
          "execution_count": 119
        }
      ],
      "source": [
        "model_2.fit(x_train_a, y_train, batch_size=32, epochs=50)"
      ]
    },
    {
      "cell_type": "code",
      "execution_count": null,
      "metadata": {
        "id": "__OKaiJv7X-g"
      },
      "outputs": [],
      "source": [
        "pred_2 = model_2.predict(x_test_a)"
      ]
    },
    {
      "cell_type": "code",
      "source": [
        "y_pred_2 = np.round(pred_2)"
      ],
      "metadata": {
        "id": "1Nk9fTeuTqbu"
      },
      "execution_count": null,
      "outputs": []
    },
    {
      "cell_type": "code",
      "source": [
        "print(classification_report(y_test,y_pred_2))"
      ],
      "metadata": {
        "colab": {
          "base_uri": "https://localhost:8080/"
        },
        "id": "tZ_OWaRhT2Dj",
        "outputId": "405293a5-8cda-44ea-ac20-e620b9ca65ac"
      },
      "execution_count": null,
      "outputs": [
        {
          "output_type": "stream",
          "name": "stdout",
          "text": [
            "              precision    recall  f1-score   support\n",
            "\n",
            "           0       0.82      0.87      0.84        90\n",
            "           1       0.79      0.73      0.76        62\n",
            "\n",
            "    accuracy                           0.81       152\n",
            "   macro avg       0.81      0.80      0.80       152\n",
            "weighted avg       0.81      0.81      0.81       152\n",
            "\n"
          ]
        }
      ]
    },
    {
      "cell_type": "markdown",
      "source": [
        "**Explanability of Aggregated Features**"
      ],
      "metadata": {
        "id": "PEDokmWU70Qe"
      }
    },
    {
      "cell_type": "code",
      "source": [
        "pip install shap"
      ],
      "metadata": {
        "id": "WntyeROpxn2o",
        "colab": {
          "base_uri": "https://localhost:8080/"
        },
        "outputId": "d870570a-7650-4a99-dbf5-4df716d3e965"
      },
      "execution_count": null,
      "outputs": [
        {
          "output_type": "stream",
          "name": "stdout",
          "text": [
            "Looking in indexes: https://pypi.org/simple, https://us-python.pkg.dev/colab-wheels/public/simple/\n",
            "Collecting shap\n",
            "  Downloading shap-0.41.0-cp37-cp37m-manylinux_2_12_x86_64.manylinux2010_x86_64.whl (569 kB)\n",
            "\u001b[K     |████████████████████████████████| 569 kB 4.2 MB/s \n",
            "\u001b[?25hRequirement already satisfied: packaging>20.9 in /usr/local/lib/python3.7/dist-packages (from shap) (21.3)\n",
            "Requirement already satisfied: tqdm>4.25.0 in /usr/local/lib/python3.7/dist-packages (from shap) (4.64.0)\n",
            "Requirement already satisfied: numpy in /usr/local/lib/python3.7/dist-packages (from shap) (1.21.6)\n",
            "Requirement already satisfied: cloudpickle in /usr/local/lib/python3.7/dist-packages (from shap) (1.3.0)\n",
            "Requirement already satisfied: pandas in /usr/local/lib/python3.7/dist-packages (from shap) (1.3.5)\n",
            "Requirement already satisfied: scipy in /usr/local/lib/python3.7/dist-packages (from shap) (1.7.3)\n",
            "Requirement already satisfied: scikit-learn in /usr/local/lib/python3.7/dist-packages (from shap) (1.0.2)\n",
            "Collecting slicer==0.0.7\n",
            "  Downloading slicer-0.0.7-py3-none-any.whl (14 kB)\n",
            "Requirement already satisfied: numba in /usr/local/lib/python3.7/dist-packages (from shap) (0.56.0)\n",
            "Requirement already satisfied: pyparsing!=3.0.5,>=2.0.2 in /usr/local/lib/python3.7/dist-packages (from packaging>20.9->shap) (3.0.9)\n",
            "Requirement already satisfied: importlib-metadata in /usr/local/lib/python3.7/dist-packages (from numba->shap) (4.12.0)\n",
            "Requirement already satisfied: llvmlite<0.40,>=0.39.0dev0 in /usr/local/lib/python3.7/dist-packages (from numba->shap) (0.39.0)\n",
            "Requirement already satisfied: setuptools in /usr/local/lib/python3.7/dist-packages (from numba->shap) (57.4.0)\n",
            "Requirement already satisfied: zipp>=0.5 in /usr/local/lib/python3.7/dist-packages (from importlib-metadata->numba->shap) (3.8.1)\n",
            "Requirement already satisfied: typing-extensions>=3.6.4 in /usr/local/lib/python3.7/dist-packages (from importlib-metadata->numba->shap) (4.1.1)\n",
            "Requirement already satisfied: python-dateutil>=2.7.3 in /usr/local/lib/python3.7/dist-packages (from pandas->shap) (2.8.2)\n",
            "Requirement already satisfied: pytz>=2017.3 in /usr/local/lib/python3.7/dist-packages (from pandas->shap) (2022.1)\n",
            "Requirement already satisfied: six>=1.5 in /usr/local/lib/python3.7/dist-packages (from python-dateutil>=2.7.3->pandas->shap) (1.15.0)\n",
            "Requirement already satisfied: joblib>=0.11 in /usr/local/lib/python3.7/dist-packages (from scikit-learn->shap) (1.1.0)\n",
            "Requirement already satisfied: threadpoolctl>=2.0.0 in /usr/local/lib/python3.7/dist-packages (from scikit-learn->shap) (3.1.0)\n",
            "Installing collected packages: slicer, shap\n",
            "Successfully installed shap-0.41.0 slicer-0.0.7\n"
          ]
        }
      ]
    },
    {
      "cell_type": "code",
      "source": [
        "import shap"
      ],
      "metadata": {
        "id": "xnksQAcXxo5c"
      },
      "execution_count": null,
      "outputs": []
    },
    {
      "cell_type": "code",
      "source": [
        "explainer2 = shap.DeepExplainer(model_2, x_train_a)"
      ],
      "metadata": {
        "colab": {
          "base_uri": "https://localhost:8080/"
        },
        "id": "JHVJwAx4bq7h",
        "outputId": "79387c92-6ac3-4497-faac-2e5a3ae2bac9"
      },
      "execution_count": null,
      "outputs": [
        {
          "output_type": "stream",
          "name": "stderr",
          "text": [
            "keras is no longer supported, please use tf.keras instead.\n",
            "Your TensorFlow version is newer than 2.4.0 and so graph support has been removed in eager mode and some static graphs may not be supported. See PR #1483 for discussion.\n"
          ]
        }
      ]
    },
    {
      "cell_type": "code",
      "source": [
        "shap_values = explainer2.shap_values(x_test_a)"
      ],
      "metadata": {
        "colab": {
          "base_uri": "https://localhost:8080/"
        },
        "id": "sfaGkSdHbxzj",
        "outputId": "c4d6caf9-3735-401c-bfbf-35194b23a8f5"
      },
      "execution_count": null,
      "outputs": [
        {
          "output_type": "stream",
          "name": "stderr",
          "text": [
            "`tf.keras.backend.set_learning_phase` is deprecated and will be removed after 2020-10-11. To update it, simply pass a True/False value to the `training` argument of the `__call__` method of your layer or model.\n"
          ]
        }
      ]
    },
    {
      "cell_type": "code",
      "source": [
        "shap.summary_plot(shap_values[0], plot_type = 'bar', feature_names = aggregated.columns)"
      ],
      "metadata": {
        "colab": {
          "base_uri": "https://localhost:8080/",
          "height": 693
        },
        "id": "mRcFfsxT1K4o",
        "outputId": "f909cf05-3018-48b7-9271-e632a2980ecf"
      },
      "execution_count": null,
      "outputs": [
        {
          "output_type": "display_data",
          "data": {
            "text/plain": [
              "<Figure size 576x684 with 1 Axes>"
            ],
            "image/png": "[encoded data removed]"
          },
          "metadata": {}
        }
      ]
    },
    {
      "cell_type": "code",
      "source": [
        "shap.plots._waterfall.waterfall_legacy(explainer2.expected_value[0].numpy(), shap_values[0][0], feature_names = aggregated.columns)"
      ],
      "metadata": {
        "colab": {
          "base_uri": "https://localhost:8080/",
          "height": 443
        },
        "id": "Im8grRup31zH",
        "outputId": "b6bd1301-959c-4729-8570-424b9cea8838"
      },
      "execution_count": null,
      "outputs": [
        {
          "output_type": "display_data",
          "data": {
            "text/plain": [
              "<Figure size 576x468 with 3 Axes>"
            ],
            "image/png": "[encoded data removed]"
          },
          "metadata": {}
        }
      ]
    },
    {
      "cell_type": "code",
      "source": [
        "accuracy_score(y_test, y_pred_2)"
      ],
      "metadata": {
        "colab": {
          "base_uri": "https://localhost:8080/"
        },
        "id": "Nf1_8HmlUdRS",
        "outputId": "99e20b15-2cb2-48c0-f643-4b020d285981"
      },
      "execution_count": null,
      "outputs": [
        {
          "output_type": "execute_result",
          "data": {
            "text/plain": [
              "0.7828947368421053"
            ]
          },
          "metadata": {},
          "execution_count": 68
        }
      ]
    },
    {
      "cell_type": "markdown",
      "source": [
        "**Ensemble (Averaging Method)**"
      ],
      "metadata": {
        "id": "ZxmWDsK0Oi3W"
      }
    },
    {
      "cell_type": "code",
      "execution_count": null,
      "metadata": {
        "id": "BQRYwRMt8M3l"
      },
      "outputs": [],
      "source": [
        "# final prediction after averaging on the prediction of all 2 models\n",
        "pred_final = (pred_1+pred_2)/2.0"
      ]
    },
    {
      "cell_type": "code",
      "execution_count": null,
      "metadata": {
        "id": "uKe0-Do5BKar"
      },
      "outputs": [],
      "source": [
        "y_test_pred = np.round(pred_final)"
      ]
    },
    {
      "cell_type": "code",
      "execution_count": null,
      "metadata": {
        "colab": {
          "base_uri": "https://localhost:8080/"
        },
        "id": "kmvVaROJ8xMd",
        "outputId": "91fded77-6f15-405c-db52-b628ed9296d1"
      },
      "outputs": [
        {
          "output_type": "execute_result",
          "data": {
            "text/plain": [
              "0.8289473684210527"
            ]
          },
          "metadata": {},
          "execution_count": 127
        }
      ],
      "source": [
        "accuracy_score(y_test, y_test_pred)"
      ]
    },
    {
      "cell_type": "code",
      "execution_count": null,
      "metadata": {
        "id": "STK3ImlC_huP",
        "colab": {
          "base_uri": "https://localhost:8080/"
        },
        "outputId": "353068d6-3d85-4c36-cb2b-2f98c999e8bc"
      },
      "outputs": [
        {
          "output_type": "stream",
          "name": "stdout",
          "text": [
            "              precision    recall  f1-score   support\n",
            "\n",
            "           0       0.85      0.87      0.86        90\n",
            "           1       0.80      0.77      0.79        62\n",
            "\n",
            "    accuracy                           0.83       152\n",
            "   macro avg       0.82      0.82      0.82       152\n",
            "weighted avg       0.83      0.83      0.83       152\n",
            "\n"
          ]
        }
      ],
      "source": [
        "print(classification_report(y_test,y_test_pred))"
      ]
    },
    {
      "cell_type": "code",
      "source": [
        "# auc scores\n",
        "auc_score = roc_auc_score(y_test, y_test_pred)\n",
        "print(auc_score)"
      ],
      "metadata": {
        "colab": {
          "base_uri": "https://localhost:8080/"
        },
        "id": "XMmpBwVpSiAT",
        "outputId": "99b88c5e-f4cc-4124-968d-f057bb40fbd5"
      },
      "execution_count": null,
      "outputs": [
        {
          "output_type": "stream",
          "name": "stdout",
          "text": [
            "0.8204301075268817\n"
          ]
        }
      ]
    },
    {
      "cell_type": "code",
      "source": [
        "from sklearn.metrics import roc_curve\n",
        "\n",
        "# roc curve for models\n",
        "fpr, tpr, thresh = roc_curve(y_test, pred_final)"
      ],
      "metadata": {
        "id": "HLh2i81nSrIZ"
      },
      "execution_count": null,
      "outputs": []
    },
    {
      "cell_type": "code",
      "source": [
        "# roc curve for tpr = fpr \n",
        "random_probs = [0 for i in range(len(y_test))]\n",
        "p_fpr, p_tpr, _ = roc_curve(y_test, random_probs, pos_label=1)"
      ],
      "metadata": {
        "id": "9XsdKeEqStiC"
      },
      "execution_count": null,
      "outputs": []
    },
    {
      "cell_type": "code",
      "source": [
        "plt.style.use('seaborn')\n",
        "\n",
        "# plot roc curves\n",
        "plt.plot(fpr, tpr, linestyle='--',color='orange', label='Ensemble')\n",
        "# plt.plot(fpr2, tpr2, linestyle='--',color='green', label='decision tree')\n",
        "plt.plot(p_fpr, p_tpr, linestyle='--', color='blue')\n",
        "# title\n",
        "plt.title('ROC curve')\n",
        "# x label\n",
        "plt.xlabel('False Positive Rate')\n",
        "# y label\n",
        "plt.ylabel('True Positive rate')\n",
        "\n",
        "plt.legend(loc='best')\n",
        "plt.savefig('ROC',dpi=300)\n",
        "plt.show();"
      ],
      "metadata": {
        "colab": {
          "base_uri": "https://localhost:8080/",
          "height": 376
        },
        "id": "S7lXBpM3SwK3",
        "outputId": "47c84795-c51e-4367-a904-c382ccd18c46"
      },
      "execution_count": null,
      "outputs": [
        {
          "output_type": "display_data",
          "data": {
            "text/plain": [
              "<Figure size 576x396 with 1 Axes>"
            ],
            "image/png": "[encoded data removed]"
          },
          "metadata": {}
        }
      ]
    }
  ],
  "metadata": {
    "colab": {
      "name": "Ensemble_models.ipynb",
      "provenance": []
    },
    "kernelspec": {
      "display_name": "Python 3",
      "name": "python3"
    },
    "language_info": {
      "name": "python"
    }
  },
  "nbformat": 4,
  "nbformat_minor": 0
}